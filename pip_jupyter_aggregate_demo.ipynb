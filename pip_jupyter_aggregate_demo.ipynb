{
 "cells": [
  {
   "cell_type": "code",
   "execution_count": 1,
   "metadata": {},
   "outputs": [
    {
     "name": "stdout",
     "output_type": "stream",
     "text": [
      "Requirement already satisfied: faker in /home/simon/anaconda3/lib/python3.7/site-packages (5.0.1)\n",
      "Requirement already satisfied: python-dateutil>=2.4 in /home/simon/anaconda3/lib/python3.7/site-packages (from faker) (2.8.0)\n",
      "Requirement already satisfied: text-unidecode==1.3 in /home/simon/anaconda3/lib/python3.7/site-packages (from faker) (1.3)\n",
      "Requirement already satisfied: six>=1.5 in /home/simon/anaconda3/lib/python3.7/site-packages (from python-dateutil>=2.4->faker) (1.12.0)\n",
      "Requirement already satisfied: names in /home/simon/anaconda3/lib/python3.7/site-packages (0.3.0)\n",
      "Uninstalling OpenSpecimenAPIconnector-0.9.1:\n",
      "  Successfully uninstalled OpenSpecimenAPIconnector-0.9.1\n",
      "Processing ./dist/OpenSpecimenAPIconnector-0.9.1-py3-none-any.whl\n",
      "Requirement already satisfied: pandas in /home/simon/anaconda3/lib/python3.7/site-packages (from OpenSpecimenAPIconnector==0.9.1) (0.25.1)\n",
      "Requirement already satisfied: numpy in /home/simon/anaconda3/lib/python3.7/site-packages (from OpenSpecimenAPIconnector==0.9.1) (1.17.2)\n",
      "Requirement already satisfied: python-dateutil>=2.6.1 in /home/simon/anaconda3/lib/python3.7/site-packages (from pandas->OpenSpecimenAPIconnector==0.9.1) (2.8.0)\n",
      "Requirement already satisfied: pytz>=2017.2 in /home/simon/anaconda3/lib/python3.7/site-packages (from pandas->OpenSpecimenAPIconnector==0.9.1) (2019.3)\n",
      "Requirement already satisfied: six>=1.5 in /home/simon/anaconda3/lib/python3.7/site-packages (from python-dateutil>=2.6.1->pandas->OpenSpecimenAPIconnector==0.9.1) (1.12.0)\n",
      "Installing collected packages: OpenSpecimenAPIconnector\n",
      "Successfully installed OpenSpecimenAPIconnector-0.9.1\n"
     ]
    }
   ],
   "source": [
    "# import packages\n",
    "!pip install faker\n",
    "!pip install names\n",
    "!pip uninstall -y dist/OpenSpecimenAPIconnector-0.9.1-py3-none-any.whl\n",
    "!pip install dist/OpenSpecimenAPIconnector-0.9.1-py3-none-any.whl\n",
    "\n",
    "import json\n",
    "import pandas\n",
    "import faker\n",
    "import os\n",
    "from IPython.display import display\n",
    "import requests\n",
    "import random\n",
    "import ipywidgets as wid"
   ]
  },
  {
   "cell_type": "code",
   "execution_count": 2,
   "metadata": {
    "scrolled": true
   },
   "outputs": [],
   "source": [
    "import OpenSpecimenAPIconnector.os_core as os_core\n",
    "import OpenSpecimenAPIconnector.os_util as os_util"
   ]
  },
  {
   "cell_type": "code",
   "execution_count": 3,
   "metadata": {},
   "outputs": [],
   "source": [
    "def csv_download_link(df, csv_file_name, delete_prompt=False):\n",
    "    \"\"\"Display a download link to load a data frame as csv from within a Jupyter notebook\"\"\"\n",
    "    from IPython.core.display import display, HTML\n",
    "    link = \"http://localhost:8888/edit/work/\" + csv_file_name\n",
    "    df.to_csv(csv_file_name, index=False)\n",
    "    display(HTML(\"<a href={} target=_blank>Download/Edit</a>\".format(link)))\n",
    "   \n",
    "    if delete_prompt:\n",
    "        a = input('Press enter to delete the file after you have downloaded it.')\n",
    "        import os\n",
    "        os.remove(csv_file_name)"
   ]
  },
  {
   "cell_type": "code",
   "execution_count": 4,
   "metadata": {},
   "outputs": [],
   "source": [
    "def multi_checkbox_widget(options_dict):\n",
    "    \"\"\" Widget with a search field and lots of checkboxes \"\"\"\n",
    "    search_widget = wid.Text()\n",
    "    output_widget = wid.Output()\n",
    "    options = [x for x in options_dict.values()]\n",
    "    options_layout = wid.Layout(\n",
    "        overflow='auto',\n",
    "        border='1px solid black',\n",
    "        width='300px',\n",
    "        height='300px',\n",
    "        flex_flow='column',\n",
    "        display='flex'\n",
    "    )\n",
    "    \n",
    "    #selected_widget = wid.Box(children=[options[0]])\n",
    "    options_widget = wid.VBox(options, layout=options_layout)\n",
    "    #left_widget = wid.VBox(search_widget, selected_widget)\n",
    "    multi_select = wid.VBox([search_widget, options_widget])\n",
    "\n",
    "    @output_widget.capture()\n",
    "    def on_checkbox_change(change):\n",
    "        \n",
    "        selected_recipe = change[\"owner\"].description\n",
    "        #print(options_widget.children)\n",
    "        #selected_item = wid.Button(description = change[\"new\"])\n",
    "        #selected_widget.children = [] #selected_widget.children + [selected_item]\n",
    "        options_widget.children = sorted([x for x in options_widget.children], key = lambda x: x.value, reverse = True)\n",
    "        \n",
    "    for checkbox in options:\n",
    "        checkbox.observe(on_checkbox_change, names=\"value\")\n",
    "\n",
    "    # Wire the search field to the checkboxes\n",
    "    @output_widget.capture()\n",
    "    def on_text_change(change):\n",
    "        search_input = change['new']\n",
    "        if search_input == '':\n",
    "            # Reset search field\n",
    "            new_options = sorted(options, key = lambda x: x.value, reverse = True)\n",
    "        else:\n",
    "            # Filter by search field using difflib.\n",
    "            #close_matches = difflib.get_close_matches(search_input, list(options_dict.keys()), cutoff=0.0)\n",
    "            close_matches = [x for x in list(options_dict.keys()) if str.lower(search_input.strip('')) in str.lower(x)]\n",
    "            new_options = sorted(\n",
    "                [x for x in options if x.description in close_matches], \n",
    "                key = lambda x: x.value, reverse = True\n",
    "            ) #[options_dict[x] for x in close_matches]\n",
    "        options_widget.children = new_options\n",
    "\n",
    "    search_widget.observe(on_text_change, names='value')\n",
    "    display(output_widget)\n",
    "    return multi_select"
   ]
  },
  {
   "cell_type": "code",
   "execution_count": 5,
   "metadata": {},
   "outputs": [
    {
     "name": "stdout",
     "output_type": "stream",
     "text": [
      "Fill in Openspecimen url (http(s)://<IP-Adress>:<port>) and press enter\n",
      "The whole URL for API Calls is: http://biobank.silicolab.bibbox.org/openspecimen/rest/ng\n"
     ]
    }
   ],
   "source": [
    "# The URL of the Openspecimen\n",
    "print('Fill in Openspecimen url (http(s)://<IP-Adress>:<port>) and press enter')\n",
    "#base_url='http://localhost:9000' # input() set to hardcoded at the moment just change below or add urls for more instances\n",
    "base_url='http://biobank.silicolab.bibbox.org'\n",
    "base_url2= 'http://biobank-7-2.silicolab.bibbox.org' \n",
    "base_url+='/openspecimen/rest/ng'\n",
    "base_url2+='/openspecimen/rest/ng'\n",
    "print('The whole URL for API Calls is: ' + base_url)"
   ]
  },
  {
   "cell_type": "code",
   "execution_count": 6,
   "metadata": {},
   "outputs": [
    {
     "name": "stdout",
     "output_type": "stream",
     "text": [
      "Loginname of the user:\n",
      "Password of the user:\n"
     ]
    }
   ],
   "source": [
    "# Loginname and Pasword of the API-User, recommended is an extra API User\n",
    "print('Loginname of the user:')\n",
    "loginname='admin'#input() \n",
    "print('Password of the user:')\n",
    "password='Login@123'#input()"
   ]
  },
  {
   "cell_type": "markdown",
   "metadata": {},
   "source": [
    "The next step is to choose the entity which will be created or updated. The following schemas are in Openspecimen available: (Name, openspecimen entity). One have to write the openspecimen entity. ('Collection Protocol', 'cp') ('Collection Protocol Registration', 'cpr') ('User', 'user') ('User Roles', 'userRoles') ('Site', 'site') ('Shipments', 'shipment') ('Institute', 'institute') ('Distribution Protocol Requirement', 'dpRequirement') ('Distribution Protocol', 'distributionProtocol') ('Distribution Order', 'distributionOrder') ('Containers', 'storageContainer') ('Container Type', 'storagecontainerType') ('Container Shipment', 'containerShipment') ('Collection Protocol Event', 'cpe') ('Master Specimen', 'masterSpecimen') ('Participant', 'participant') ('Specimen Requirement', 'sr') ('Visit', 'visit') ('Specimen Aliquot', 'specimenAliquot') ('Specimen Derivate', 'specimenDerivative') ('Specimen Disposal', 'specimenDisposal') ('Consent', 'consent')"
   ]
  },
  {
   "cell_type": "code",
   "execution_count": 2,
   "metadata": {},
   "outputs": [
    {
     "name": "stdout",
     "output_type": "stream",
     "text": [
      "Choose your Entity:\n"
     ]
    },
    {
     "data": {
      "application/vnd.jupyter.widget-view+json": {
       "model_id": "cc58ff2d50474983b7e8a2dd8ed5e0c7",
       "version_major": 2,
       "version_minor": 0
      },
      "text/plain": [
       "Dropdown(description='Entity:', index=2, options=((), ('Collection Protocol', 'cp'), ('Specimen', 'specimen'),…"
      ]
     },
     "metadata": {},
     "output_type": "display_data"
    },
    {
     "name": "stdout",
     "output_type": "stream",
     "text": [
      "Choose Operation:\n"
     ]
    },
    {
     "data": {
      "application/vnd.jupyter.widget-view+json": {
       "model_id": "21bd5d7d56ed487998672d4b58f4c1ae",
       "version_major": 2,
       "version_minor": 0
      },
      "text/plain": [
       "Dropdown(description='Operation:', options=('CREATE', 'UPDATE'), value='CREATE')"
      ]
     },
     "metadata": {},
     "output_type": "display_data"
    }
   ],
   "source": [
    "schema=widgets.Dropdown(\n",
    "    options= [(), ('Collection Protocol', 'cp'), ('Specimen', 'specimen'), ('Collection Protocol Registration', 'cpr'),\n",
    "              ('User', 'user'), ('User Roles', 'userRoles'), ('Site', 'site'), ('Shipments', 'shipment'), \n",
    "              ('Institute', 'institute'), ('Distribution Protocol Requirement', 'dpRequirement'), \n",
    "              ('Distribution Protocol', 'distributionProtocol'), ('Distribution Order', 'distributionOrder'), \n",
    "              ('Containers', 'storageContainer'), ('Container Type', 'storagecontainerType'),\n",
    "              ('Container Shipment', 'containerShipment'), ('Collection Protocol Event', 'cpe'),\n",
    "              ('Master Specimen', 'masterSpecimen'), ('Participant', 'participant'), ('Specimen Requirement', 'sr'),\n",
    "              ('Visit', 'visit'), ('Specimen Aliquot', 'specimenAliquot'), \n",
    "              ('Specimen Derivate', 'specimenDerivative'),('Specimen Disposal', 'specimenDisposal'),\n",
    "              ('Consent', 'consent')],\n",
    "    value=('Specimen', 'specimen'),\n",
    "    description='Entity:')\n",
    "\n",
    "operation = widgets.Dropdown(\n",
    "    options = [\"CREATE\",  'UPDATE'],\n",
    "              value=\"CREATE\",\n",
    "              description='Operation:')\n",
    "\n",
    "print('Choose your Entity:')\n",
    "display(schema)\n",
    "print('Choose Operation:')\n",
    "display(operation)"
   ]
  },
  {
   "cell_type": "code",
   "execution_count": 35,
   "metadata": {},
   "outputs": [],
   "source": [
    "#initialize csv_bulk, bulk_operations and CSV_exporter\n",
    "\n",
    "csv_files= os_core.csv_bulk(base_url2,(loginname, password))\n",
    "bulk_op= os_util.bulk_operations(base_url2, (loginname, password))\n",
    "csv_export_7_2 = os_util.Export_OP(base_url2, (loginname, password))"
   ]
  },
  {
   "cell_type": "code",
   "execution_count": 30,
   "metadata": {},
   "outputs": [
    {
     "name": "stdout",
     "output_type": "stream",
     "text": [
      "Cp Title:\n",
      "Main collection of Clinical-biological Biobank at INAB, comprising of all the samples.\n",
      "Cp ID:  16 \n",
      "\n",
      "Cp Title:\n",
      "Hellenic Biobank of Overweight and Obesity in Childhood and Adolescence\n",
      "Cp ID:  17 \n",
      "\n",
      "Cp Title:\n",
      "Hellenic Biobank for Parkinson's Disease\n",
      "Cp ID:  18 \n",
      "\n"
     ]
    }
   ],
   "source": [
    "# get necessary cp information\n",
    "\n",
    "cp_tools = os_core.collection_protocol(base_url2, (loginname, password))\n",
    "\n",
    "# get cp info and wirte a dict in order to simplify the api output\n",
    "cps = cp_tools.get_all_collection_protocols()\n",
    "cps_dict = {}\n",
    "for i, item in enumerate(cps):\n",
    "    \n",
    "    print(\"Cp Title:\")\n",
    "    print(item[\"title\"])\n",
    "    print(\"Cp ID: \",item[\"id\"], \"\\n\")\n",
    "    cps_dict[item[\"title\"]] = item[\"id\"]\n",
    "\n",
    "#choose target CP / Check if matching is correct\n",
    "#print(\"Target CP: \", cps_dict[0])\n",
    "#cp_id_target = cps_dict[0][1]\n",
    "#cp_target = cp_tools.get_collection_protocol(cp_id_target)\n",
    "#cp_def_target = cp_tools.get_cp_def(cp_id_target)\n",
    "#mult_cp.append([cp_id_target, cp_def_target])"
   ]
  },
  {
   "cell_type": "code",
   "execution_count": 31,
   "metadata": {},
   "outputs": [
    {
     "data": {
      "application/vnd.jupyter.widget-view+json": {
       "model_id": "30a1f98a76ce47a3a29dd46e8e8abf0b",
       "version_major": 2,
       "version_minor": 0
      },
      "text/plain": [
       "Output()"
      ]
     },
     "metadata": {},
     "output_type": "display_data"
    },
    {
     "data": {
      "application/vnd.jupyter.widget-view+json": {
       "model_id": "96c11a53b59f4e0c9fbfb6616e344b8b",
       "version_major": 2,
       "version_minor": 0
      },
      "text/plain": [
       "HBox(children=(VBox(children=(Text(value=''), VBox(children=(Checkbox(value=False, description='Main collectio…"
      ]
     },
     "metadata": {},
     "output_type": "display_data"
    }
   ],
   "source": [
    "# Get lots of words for our options\n",
    "#words_url = 'https://svnweb.freebsd.org/csrg/share/dict/words?view=co&content-type=text/plain/'\n",
    "#response = requests.get(words_url)\n",
    "#print(response)\n",
    "#input()\n",
    "#response.raise_for_status()\n",
    "#words = [\"test\", \"penis\", \"mama\", \"papa\", \"kind\"]\n",
    "\n",
    "#words = set([word.lower() for word in words.splitlines()])\n",
    "descriptions = [key for key in  cps_dict.keys()]\n",
    "\n",
    "options_dict = {\n",
    "    x: wid.Checkbox(\n",
    "        description=x, \n",
    "        value=False,\n",
    "        style={\"description_width\":\"0px\"}\n",
    "    ) for x in descriptions\n",
    "}\n",
    "\n",
    "def f(**args):\n",
    "    \n",
    "    results = [key for key, value in args.items() if value]\n",
    "    display(results)\n",
    "\n",
    "ui = multi_checkbox_widget(options_dict)\n",
    "out = wid.interactive_output(f, options_dict)\n",
    "display(wid.HBox([ui, out]))"
   ]
  },
  {
   "cell_type": "code",
   "execution_count": 38,
   "metadata": {},
   "outputs": [
    {
     "name": "stdout",
     "output_type": "stream",
     "text": [
      "[17]\n"
     ]
    }
   ],
   "source": [
    "# get selected cp_ids\n",
    "cp_ids = []\n",
    "selected_options = [widget.description for widget in ui.children[1].children if widget.value]\n",
    "for item in selected_options:\n",
    "    cp_ids.append(cps_dict[item])\n",
    "    \n",
    "print(cp_ids)"
   ]
  },
  {
   "cell_type": "code",
   "execution_count": null,
   "metadata": {},
   "outputs": [],
   "source": []
  }
 ],
 "metadata": {
  "file_extension": ".py",
  "kernelspec": {
   "display_name": "Python 3",
   "language": "python",
   "name": "python3"
  },
  "language_info": {
   "codemirror_mode": {
    "name": "ipython",
    "version": 3
   },
   "file_extension": ".py",
   "mimetype": "text/x-python",
   "name": "python",
   "nbconvert_exporter": "python",
   "pygments_lexer": "ipython3",
   "version": "3.7.4"
  },
  "mimetype": "text/x-python",
  "name": "python",
  "npconvert_exporter": "python",
  "pygments_lexer": "ipython3",
  "version": 3
 },
 "nbformat": 4,
 "nbformat_minor": 2
}
