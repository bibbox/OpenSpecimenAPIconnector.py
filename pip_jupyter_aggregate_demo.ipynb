{
 "cells": [
  {
   "cell_type": "code",
   "execution_count": 31,
   "metadata": {},
   "outputs": [
    {
     "name": "stdout",
     "output_type": "stream",
     "text": [
      "Requirement already satisfied: faker in /home/simon/anaconda3/lib/python3.7/site-packages (5.0.1)\n",
      "Requirement already satisfied: python-dateutil>=2.4 in /home/simon/anaconda3/lib/python3.7/site-packages (from faker) (2.8.1)\n",
      "Requirement already satisfied: text-unidecode==1.3 in /home/simon/anaconda3/lib/python3.7/site-packages (from faker) (1.3)\n",
      "Requirement already satisfied: six>=1.5 in /home/simon/anaconda3/lib/python3.7/site-packages (from python-dateutil>=2.4->faker) (1.14.0)\n",
      "Requirement already satisfied: names in /home/simon/anaconda3/lib/python3.7/site-packages (0.3.0)\n",
      "Found existing installation: OpenSpecimenAPIconnector 0.9.1\n",
      "Uninstalling OpenSpecimenAPIconnector-0.9.1:\n",
      "  Successfully uninstalled OpenSpecimenAPIconnector-0.9.1\n",
      "Processing ./dist/OpenSpecimenAPIconnector-0.9.1-py3-none-any.whl\n",
      "Requirement already satisfied: xlsxwriter in /home/simon/anaconda3/lib/python3.7/site-packages (from OpenSpecimenAPIconnector==0.9.1) (1.2.7)\n",
      "Requirement already satisfied: names in /home/simon/anaconda3/lib/python3.7/site-packages (from OpenSpecimenAPIconnector==0.9.1) (0.3.0)\n",
      "Requirement already satisfied: pandas in /home/simon/anaconda3/lib/python3.7/site-packages (from OpenSpecimenAPIconnector==0.9.1) (1.0.1)\n",
      "Requirement already satisfied: faker in /home/simon/anaconda3/lib/python3.7/site-packages (from OpenSpecimenAPIconnector==0.9.1) (5.0.1)\n",
      "Requirement already satisfied: numpy in /home/simon/anaconda3/lib/python3.7/site-packages (from OpenSpecimenAPIconnector==0.9.1) (1.18.1)\n",
      "Requirement already satisfied: openpyxl in /home/simon/anaconda3/lib/python3.7/site-packages (from OpenSpecimenAPIconnector==0.9.1) (3.0.3)\n",
      "Requirement already satisfied: requests in /home/simon/anaconda3/lib/python3.7/site-packages (from OpenSpecimenAPIconnector==0.9.1) (2.22.0)\n",
      "Requirement already satisfied: pytz>=2017.2 in /home/simon/anaconda3/lib/python3.7/site-packages (from pandas->OpenSpecimenAPIconnector==0.9.1) (2019.3)\n",
      "Requirement already satisfied: python-dateutil>=2.6.1 in /home/simon/anaconda3/lib/python3.7/site-packages (from pandas->OpenSpecimenAPIconnector==0.9.1) (2.8.1)\n",
      "Requirement already satisfied: text-unidecode==1.3 in /home/simon/anaconda3/lib/python3.7/site-packages (from faker->OpenSpecimenAPIconnector==0.9.1) (1.3)\n",
      "Requirement already satisfied: et-xmlfile in /home/simon/anaconda3/lib/python3.7/site-packages (from openpyxl->OpenSpecimenAPIconnector==0.9.1) (1.0.1)\n",
      "Requirement already satisfied: jdcal in /home/simon/anaconda3/lib/python3.7/site-packages (from openpyxl->OpenSpecimenAPIconnector==0.9.1) (1.4.1)\n",
      "Requirement already satisfied: chardet<3.1.0,>=3.0.2 in /home/simon/anaconda3/lib/python3.7/site-packages (from requests->OpenSpecimenAPIconnector==0.9.1) (3.0.4)\n",
      "Requirement already satisfied: idna<2.9,>=2.5 in /home/simon/anaconda3/lib/python3.7/site-packages (from requests->OpenSpecimenAPIconnector==0.9.1) (2.8)\n",
      "Requirement already satisfied: certifi>=2017.4.17 in /home/simon/anaconda3/lib/python3.7/site-packages (from requests->OpenSpecimenAPIconnector==0.9.1) (2019.11.28)\n",
      "Requirement already satisfied: urllib3!=1.25.0,!=1.25.1,<1.26,>=1.21.1 in /home/simon/anaconda3/lib/python3.7/site-packages (from requests->OpenSpecimenAPIconnector==0.9.1) (1.25.8)\n",
      "Requirement already satisfied: six>=1.5 in /home/simon/anaconda3/lib/python3.7/site-packages (from python-dateutil>=2.6.1->pandas->OpenSpecimenAPIconnector==0.9.1) (1.14.0)\n",
      "Installing collected packages: OpenSpecimenAPIconnector\n",
      "Successfully installed OpenSpecimenAPIconnector-0.9.1\n"
     ]
    }
   ],
   "source": [
    "# import packages\n",
    "!pip install faker\n",
    "!pip install names\n",
    "!pip uninstall -y dist/OpenSpecimenAPIconnector-0.9.1-py3-none-any.whl\n",
    "!pip install dist/OpenSpecimenAPIconnector-0.9.1-py3-none-any.whl\n",
    "\n",
    "import json\n",
    "import pandas\n",
    "import faker\n",
    "import os\n",
    "from IPython.display import display\n",
    "import requests\n",
    "import random\n",
    "import ipywidgets as wid\n",
    "import numpy as np"
   ]
  },
  {
   "cell_type": "code",
   "execution_count": 32,
   "metadata": {
    "scrolled": true
   },
   "outputs": [],
   "source": [
    "import OpenSpecimenAPIconnector.os_core as os_core\n",
    "import OpenSpecimenAPIconnector.os_util as os_util\n",
    "import OpenSpecimenAPIconnector.mg_core as mg_core\n",
    "import OpenSpecimenAPIconnector.mg_util as mg_util"
   ]
  },
  {
   "cell_type": "code",
   "execution_count": 33,
   "metadata": {},
   "outputs": [],
   "source": [
    "def csv_download_link(df, csv_file_name, delete_prompt=False):\n",
    "    \"\"\"Display a download link to load a data frame as csv from within a Jupyter notebook\"\"\"\n",
    "    from IPython.core.display import display, HTML\n",
    "    link = \"http://localhost:8888/edit/work/\" + csv_file_name\n",
    "    df.to_csv(csv_file_name, index=False)\n",
    "    display(HTML(\"<a href={} target=_blank>Download/Edit</a>\".format(link)))\n",
    "   \n",
    "    if delete_prompt:\n",
    "        a = input('Press enter to delete the file after you have downloaded it.')\n",
    "        import os\n",
    "        os.remove(csv_file_name)"
   ]
  },
  {
   "cell_type": "code",
   "execution_count": 34,
   "metadata": {},
   "outputs": [],
   "source": [
    "def multi_checkbox_widget(options_dict):\n",
    "    \"\"\" Widget with a search field and lots of checkboxes \"\"\"\n",
    "    search_widget = wid.Text()\n",
    "    output_widget = wid.Output()\n",
    "    options = [x for x in options_dict.values()]\n",
    "    options_layout = wid.Layout(\n",
    "        overflow='auto',\n",
    "        border='1px solid black',\n",
    "        width='300px',\n",
    "        height='300px',\n",
    "        flex_flow='column',\n",
    "        display='flex'\n",
    "    )\n",
    "    \n",
    "    #selected_widget = wid.Box(children=[options[0]])\n",
    "    options_widget = wid.VBox(options, layout=options_layout)\n",
    "    #left_widget = wid.VBox(search_widget, selected_widget)\n",
    "    multi_select = wid.VBox([search_widget, options_widget])\n",
    "\n",
    "    @output_widget.capture()\n",
    "    def on_checkbox_change(change):\n",
    "        \n",
    "        selected_recipe = change[\"owner\"].description\n",
    "        #print(options_widget.children)\n",
    "        #selected_item = wid.Button(description = change[\"new\"])\n",
    "        #selected_widget.children = [] #selected_widget.children + [selected_item]\n",
    "        options_widget.children = sorted([x for x in options_widget.children], key = lambda x: x.value, reverse = True)\n",
    "        \n",
    "    for checkbox in options:\n",
    "        checkbox.observe(on_checkbox_change, names=\"value\")\n",
    "\n",
    "    # Wire the search field to the checkboxes\n",
    "    @output_widget.capture()\n",
    "    def on_text_change(change):\n",
    "        search_input = change['new']\n",
    "        if search_input == '':\n",
    "            # Reset search field\n",
    "            new_options = sorted(options, key = lambda x: x.value, reverse = True)\n",
    "        else:\n",
    "            # Filter by search field using difflib.\n",
    "            #close_matches = difflib.get_close_matches(search_input, list(options_dict.keys()), cutoff=0.0)\n",
    "            close_matches = [x for x in list(options_dict.keys()) if str.lower(search_input.strip('')) in str.lower(x)]\n",
    "            new_options = sorted(\n",
    "                [x for x in options if x.description in close_matches], \n",
    "                key = lambda x: x.value, reverse = True\n",
    "            ) #[options_dict[x] for x in close_matches]\n",
    "        options_widget.children = new_options\n",
    "\n",
    "    search_widget.observe(on_text_change, names='value')\n",
    "    display(output_widget)\n",
    "    return multi_select"
   ]
  },
  {
   "cell_type": "code",
   "execution_count": 35,
   "metadata": {},
   "outputs": [
    {
     "name": "stdout",
     "output_type": "stream",
     "text": [
      "Fill in Openspecimen url (http(s)://<IP-Adress>:<port>) and press enter\n",
      "The whole URL for API Calls is: http://biobank.silicolab.bibbox.org/openspecimen/rest/ng\n"
     ]
    }
   ],
   "source": [
    "# The URL of the Openspecimen\n",
    "print('Fill in Openspecimen url (http(s)://<IP-Adress>:<port>) and press enter')\n",
    "#base_url='http://localhost:9000' # input() set to hardcoded at the moment just change below or add urls for more instances\n",
    "base_url='http://biobank.silicolab.bibbox.org'\n",
    "base_url2= 'http://biobank-7-2.silicolab.bibbox.org' \n",
    "base_url+='/openspecimen/rest/ng'\n",
    "base_url2+='/openspecimen/rest/ng'\n",
    "print('The whole URL for API Calls is: ' + base_url)"
   ]
  },
  {
   "cell_type": "code",
   "execution_count": 36,
   "metadata": {},
   "outputs": [
    {
     "name": "stdout",
     "output_type": "stream",
     "text": [
      "Loginname of the user:\n",
      "Password of the user:\n"
     ]
    }
   ],
   "source": [
    "# Loginname and Pasword of the API-User, recommended is an extra API User\n",
    "print('Loginname of the user:')\n",
    "loginname='admin'#input() \n",
    "print('Password of the user:')\n",
    "password='Login@123'#input()"
   ]
  },
  {
   "cell_type": "markdown",
   "metadata": {},
   "source": [
    "The next step is to choose the entity which will be created or updated. The following schemas are in Openspecimen available: (Name, openspecimen entity). One have to write the openspecimen entity. ('Collection Protocol', 'cp') ('Collection Protocol Registration', 'cpr') ('User', 'user') ('User Roles', 'userRoles') ('Site', 'site') ('Shipments', 'shipment') ('Institute', 'institute') ('Distribution Protocol Requirement', 'dpRequirement') ('Distribution Protocol', 'distributionProtocol') ('Distribution Order', 'distributionOrder') ('Containers', 'storageContainer') ('Container Type', 'storagecontainerType') ('Container Shipment', 'containerShipment') ('Collection Protocol Event', 'cpe') ('Master Specimen', 'masterSpecimen') ('Participant', 'participant') ('Specimen Requirement', 'sr') ('Visit', 'visit') ('Specimen Aliquot', 'specimenAliquot') ('Specimen Derivate', 'specimenDerivative') ('Specimen Disposal', 'specimenDisposal') ('Consent', 'consent')"
   ]
  },
  {
   "cell_type": "code",
   "execution_count": 42,
   "metadata": {},
   "outputs": [
    {
     "name": "stdout",
     "output_type": "stream",
     "text": [
      "Choose your Entity:\n"
     ]
    },
    {
     "data": {
      "application/vnd.jupyter.widget-view+json": {
       "model_id": "1fda380cd908450b9e249df9ccd6dfa5",
       "version_major": 2,
       "version_minor": 0
      },
      "text/plain": [
       "Dropdown(description='Entity:', index=2, options=((), ('Collection Protocol', 'cp'), ('Specimen', 'specimen'),…"
      ]
     },
     "metadata": {},
     "output_type": "display_data"
    },
    {
     "name": "stdout",
     "output_type": "stream",
     "text": [
      "Choose Operation:\n"
     ]
    },
    {
     "data": {
      "application/vnd.jupyter.widget-view+json": {
       "model_id": "670f6c653a8e48dbaa4cb8002905c581",
       "version_major": 2,
       "version_minor": 0
      },
      "text/plain": [
       "Dropdown(description='Operation:', options=('CREATE', 'UPDATE'), value='CREATE')"
      ]
     },
     "metadata": {},
     "output_type": "display_data"
    }
   ],
   "source": [
    "output_widget = wid.Output()\n",
    "schema=wid.Dropdown(\n",
    "    options= [(), ('Collection Protocol', 'cp'), ('Specimen', 'specimen'), ('Collection Protocol Registration', 'cpr'),\n",
    "              ('User', 'user'), ('User Roles', 'userRoles'), ('Site', 'site'), ('Shipments', 'shipment'), \n",
    "              ('Institute', 'institute'), ('Distribution Protocol Requirement', 'dpRequirement'), \n",
    "              ('Distribution Protocol', 'distributionProtocol'), ('Distribution Order', 'distributionOrder'), \n",
    "              ('Containers', 'storageContainer'), ('Container Type', 'storagecontainerType'),\n",
    "              ('Container Shipment', 'containerShipment'), ('Collection Protocol Event', 'cpe'),\n",
    "              ('Master Specimen', 'masterSpecimen'), ('Participant', 'participant'), ('Specimen Requirement', 'sr'),\n",
    "              ('Visit', 'visit'), ('Specimen Aliquot', 'specimenAliquot'), \n",
    "              ('Specimen Derivate', 'specimenDerivative'),('Specimen Disposal', 'specimenDisposal'),\n",
    "              ('Consent', 'consent')],\n",
    "    value=('Specimen', 'specimen'),\n",
    "    description='Entity:')\n",
    "\n",
    "operation = wid.Dropdown(\n",
    "    options = [\"CREATE\",  'UPDATE'],\n",
    "              value=\"CREATE\",\n",
    "              description='Operation:')\n",
    "\n",
    "print('Choose your Entity:')\n",
    "display(schema)\n",
    "print('Choose Operation:')\n",
    "display(operation)\n",
    "@output_widget.capture()\n",
    "sel_schema = schema.value[1]"
   ]
  },
  {
   "cell_type": "code",
   "execution_count": 43,
   "metadata": {},
   "outputs": [
    {
     "name": "stdout",
     "output_type": "stream",
     "text": [
      "specimen\n"
     ]
    }
   ],
   "source": [
    "#initialize csv_bulk, bulk_operations and CSV_exporter\n",
    "print(sel_schema)\n",
    "csv_files= os_core.csv_bulk(base_url2,(loginname, password))\n",
    "bulk_op= os_util.bulk_operations(base_url2, (loginname, password))\n",
    "csv_export = os_util.Export_OP(base_url2, (loginname, password))"
   ]
  },
  {
   "cell_type": "code",
   "execution_count": 39,
   "metadata": {},
   "outputs": [
    {
     "name": "stdout",
     "output_type": "stream",
     "text": [
      "Cp Title:\n",
      "Main collection of Clinical-biological Biobank at INAB, comprising of all the samples.\n",
      "Cp ID:  16 \n",
      "\n",
      "Cp Title:\n",
      "Hellenic Biobank of Overweight and Obesity in Childhood and Adolescence\n",
      "Cp ID:  17 \n",
      "\n",
      "Cp Title:\n",
      "Hellenic Biobank for Parkinson's Disease\n",
      "Cp ID:  18 \n",
      "\n"
     ]
    }
   ],
   "source": [
    "# get necessary cp information\n",
    "\n",
    "cp_tools = os_core.collection_protocol(base_url2, (loginname, password))\n",
    "\n",
    "# get cp info and wirte a dict in order to simplify the api output\n",
    "cps = cp_tools.get_all_collection_protocols()\n",
    "cps_dict = {}\n",
    "for i, item in enumerate(cps):\n",
    "    \n",
    "    print(\"Cp Title:\")\n",
    "    print(item[\"title\"])\n",
    "    print(\"Cp ID: \",item[\"id\"], \"\\n\")\n",
    "    cps_dict[item[\"title\"]] = item[\"id\"]\n",
    "\n",
    "\n",
    "#print(\"Target CP: \", cps_dict[0])\n",
    "#cp_id_target = cps_dict[0][1]\n",
    "#cp_target = cp_tools.get_collection_protocol(cp_id_target)\n",
    "#cp_def_target = cp_tools.get_cp_def(cp_id_target)\n",
    "#mult_cp.append([cp_id_target, cp_def_target])"
   ]
  },
  {
   "cell_type": "code",
   "execution_count": 41,
   "metadata": {},
   "outputs": [
    {
     "data": {
      "application/vnd.jupyter.widget-view+json": {
       "model_id": "cd2296eee806405ba09208671e8849c8",
       "version_major": 2,
       "version_minor": 0
      },
      "text/plain": [
       "Output()"
      ]
     },
     "metadata": {},
     "output_type": "display_data"
    },
    {
     "data": {
      "application/vnd.jupyter.widget-view+json": {
       "model_id": "f573744b2b4b46c8acb6b8bd4bb8fe38",
       "version_major": 2,
       "version_minor": 0
      },
      "text/plain": [
       "HBox(children=(VBox(children=(Text(value=''), VBox(children=(Checkbox(value=False, description='Main collectio…"
      ]
     },
     "metadata": {},
     "output_type": "display_data"
    }
   ],
   "source": [
    "# choose target CP / Check if matching is correct\n",
    "\n",
    "descriptions = [key for key in  cps_dict.keys()]\n",
    "\n",
    "options_dict = {\n",
    "    x: wid.Checkbox(\n",
    "        description=x, \n",
    "        value=False,\n",
    "        style={\"description_width\":\"0px\"}\n",
    "    ) for x in descriptions\n",
    "}\n",
    "\n",
    "def f(**args):\n",
    "    \n",
    "    results = [key for key, value in args.items() if value]\n",
    "    display(results)\n",
    "\n",
    "ui = multi_checkbox_widget(options_dict)\n",
    "out = wid.interactive_output(f, options_dict)\n",
    "display(wid.HBox([ui, out]))"
   ]
  },
  {
   "cell_type": "code",
   "execution_count": 45,
   "metadata": {},
   "outputs": [
    {
     "name": "stdout",
     "output_type": "stream",
     "text": [
      "[]\n"
     ]
    },
    {
     "data": {
      "text/html": [
       "<a href=http://localhost:8888/edit/work/specimen_template.csv target=_blank>Download/Edit</a>"
      ],
      "text/plain": [
       "<IPython.core.display.HTML object>"
      ]
     },
     "metadata": {},
     "output_type": "display_data"
    }
   ],
   "source": [
    "# get selected cp_ids\n",
    "cp_ids = []\n",
    "selected_options = [widget.description for widget in ui.children[1].children if widget.value]\n",
    "for item in selected_options:\n",
    "    print(item)\n",
    "    cp_ids.append(cps_dict[item])\n",
    "    \n",
    "print(cp_ids)\n",
    "\n",
    "# Download Template file, Export File for data aggregation\n",
    "# Use the template Downloads to check which data needs to present \n",
    "cp_target = cp_tools.get_collection_protocol(cp_id)\n",
    "template = csv_files.get_template(schemaname=sel_schema)\n",
    "filename = sel_schema +'_template.csv'\n",
    "csv_download_link(template, filename)\n",
    "# Download cp CSV for aggregating fields:\n",
    "export_cps_csv = []\n",
    "export_cps_def = []\n",
    "if len(cp_ids) != 1:\n",
    "    for cp_id in cp_ids:\n",
    "        export_cps_csv.append(csv_export_7_2.export_file(sel_schema, cp_id))\n",
    "        export_cps_def.append(cp_tools_target.get_cp_def(cp_id))\n",
    "else:\n",
    "    export = csv_export.export_file(sel_schema, cp_id_target)\n",
    "    cp_def = cp_tools.get_cp_def(cp_id)"
   ]
  },
  {
   "cell_type": "code",
   "execution_count": null,
   "metadata": {},
   "outputs": [],
   "source": [
    "# in case of multiple targets; just an example\n",
    "if export_cps:\n",
    "    for h, cp in enumerate(export_cps):\n",
    "        age_array = []\n",
    "        # print(cp)\n",
    "        # print(cp[\"Date Of Birth\"])\n",
    "        for date in cp[\"Date Of Birth\"]:\n",
    "            age_array.append(2020 - float(date.split(\"-\")[-1]))\n",
    "        age_array = np.array(age_array)\n",
    "        print(\"Age high: \",np.max(age_array))\n",
    "        print(\"Age low: \", np.min(age_array))\n",
    "        print(\"Age mean: \", age_array.mean())\n",
    "        cp_data = mult_cp[h]\n",
    "        for i, item in enumerate(cp_data[1][\"extensionDetail\"][\"attrs\"]):\n",
    "            if cp_data[1][\"extensionDetail\"][\"attrs\"][i][\"name\"] == \"AgeLow\":\n",
    "                cp_data[1][\"extensionDetail\"][\"attrs\"][i][\"value\"] = str(int(np.min(age_array)))\n",
    "                cp_data[1][\"extensionDetail\"][\"attrs\"][i][\"displayValue\"] = str(np.min(age_array))\n",
    "            elif cp_data[1][\"extensionDetail\"][\"attrs\"][i][\"name\"] == \"AgeHigh\":\n",
    "                cp_data[1][\"extensionDetail\"][\"attrs\"][i][\"value\"] = str(int(np.max(age_array)))\n",
    "                cp_data[1][\"extensionDetail\"][\"attrs\"][i][\"displayValue\"] = str(np.max(age_array))\n",
    "        # print(\"Current cp update:\") \n",
    "        # print(cp[\"extensionDetail\"][\"attrs\"])\n",
    "        # input()\n",
    "        \n",
    "# in case of only one target\n",
    "else: \n",
    "    age_array = []\n",
    "    # crude example of age calculation\n",
    "    for item in export[\"Date Of Birth\"]:\n",
    "        age_array.append(2020 - float(item.split(\"-\")[-1]))\n",
    "\n",
    "    age_array = np.array(age_array)\n",
    "    print(\"Age high: \",np.max(age_array))\n",
    "    print(\"Age low: \", np.min(age_array))\n",
    "    print(\"Age mean: \", age_array.mean())\n",
    "\n",
    "    #rewrite our custom Aggregtion fields (there is a better way to do this)\n",
    "    for i, item in enumerate(cp_target[\"extensionDetail\"][\"attrs\"]):\n",
    "\n",
    "        if cp_target[\"extensionDetail\"][\"attrs\"][i][\"name\"] == \"AgeLow\":\n",
    "            cp_target[\"extensionDetail\"][\"attrs\"][i][\"value\"] = str(int(np.min(age_array)))\n",
    "            cp_target[\"extensionDetail\"][\"attrs\"][i][\"displayValue\"] = str(np.min(age_array))\n",
    "        elif cp_target[\"extensionDetail\"][\"attrs\"][i][\"name\"] == \"AgeHigh\":\n",
    "            cp_target[\"extensionDetail\"][\"attrs\"][i][\"value\"] = str(int(np.max(age_array)))\n",
    "            cp_target[\"extensionDetail\"][\"attrs\"][i][\"displayValue\"] = str(np.max(age_array))\n",
    "\n",
    "    # left out for brevity\n",
    "    # print(cp_target[\"extensionDetail\"][\"attrs\"])"
   ]
  },
  {
   "cell_type": "code",
   "execution_count": null,
   "metadata": {},
   "outputs": [],
   "source": []
  }
 ],
 "metadata": {
  "file_extension": ".py",
  "kernelspec": {
   "display_name": "Python 3",
   "language": "python",
   "name": "python3"
  },
  "language_info": {
   "codemirror_mode": {
    "name": "ipython",
    "version": 3
   },
   "file_extension": ".py",
   "mimetype": "text/x-python",
   "name": "python",
   "nbconvert_exporter": "python",
   "pygments_lexer": "ipython3",
   "version": "3.7.6"
  },
  "mimetype": "text/x-python",
  "name": "python",
  "npconvert_exporter": "python",
  "pygments_lexer": "ipython3",
  "version": 3
 },
 "nbformat": 4,
 "nbformat_minor": 2
}
