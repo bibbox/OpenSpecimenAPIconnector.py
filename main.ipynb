{
 "cells": [
  {
   "cell_type": "code",
   "execution_count": 1,
   "metadata": {},
   "outputs": [],
   "source": [
    "#! /bin/python3"
   ]
  },
  {
   "cell_type": "code",
   "execution_count": 2,
   "metadata": {},
   "outputs": [],
   "source": [
    "# import packages\n",
    "import json\n",
    "import pandas\n",
    "import ipywidgets as widgets\n",
    "from IPython.display import display"
   ]
  },
  {
   "cell_type": "code",
   "execution_count": 3,
   "metadata": {},
   "outputs": [],
   "source": [
    "# import os_core\n",
    "from os_core.users import users\n",
    "from os_core.specimen import specimen\n",
    "from os_core.csv_bulk import csv_bulk"
   ]
  },
  {
   "cell_type": "code",
   "execution_count": 4,
   "metadata": {},
   "outputs": [],
   "source": [
    "# import os_util\n",
    "from os_util.bulk_operations import bulk_operations"
   ]
  },
  {
   "cell_type": "code",
   "execution_count": 5,
   "metadata": {},
   "outputs": [
    {
     "name": "stdout",
     "output_type": "stream",
     "text": [
      "Fill in Openspecimen url (http(s)://<IP-Adress>:<port>) and press enter\n",
      "The whole URL for API Calls is: http://localhost:9013/openspecimen/rest/ng\n"
     ]
    }
   ],
   "source": [
    "# The URL of the Openspecimen\n",
    "print('Fill in Openspecimen url (http(s)://<IP-Adress>:<port>) and press enter')\n",
    "base_url='http://localhost:9013' # input()\n",
    "base_url+='/openspecimen/rest/ng'\n",
    "print('The whole URL for API Calls is: ' + base_url)"
   ]
  },
  {
   "cell_type": "code",
   "execution_count": 6,
   "metadata": {},
   "outputs": [
    {
     "name": "stdout",
     "output_type": "stream",
     "text": [
      "Loginname of the user:\n",
      "Password of the user:\n"
     ]
    }
   ],
   "source": [
    "# Loginname and Pasword of the API-User, recommended is an extra API User\n",
    "print('Loginname of the user:')\n",
    "loginname='admin'#input()\n",
    "print('Password of the user:')\n",
    "password='Login@123'#input()"
   ]
  },
  {
   "cell_type": "markdown",
   "metadata": {},
   "source": [
    "The next step is to choose the entity which will be created or updated. The following schemas are in Openspecimen available: (Name, openspecimen entity). One have to write the openspecimen entity.\n",
    "('Collection Protocol', 'cp')\n",
    "('Collection Protocol Registration', 'cpr')\n",
    "('User', 'user')\n",
    "('User Roles', 'userRoles')\n",
    "('Site', 'site')\n",
    "('Shipments', 'shipment')\n",
    "('Institute', 'institute')\n",
    "('Distribution Protocol Requirement', 'dpRequirement')\n",
    "('Distribution Protocol', 'distributionProtocol')\n",
    "('Distribution Order', 'distributionOrder')\n",
    "('Containers', 'storageContainer')\n",
    "('Container Type', 'storagecontainerType')\n",
    "('Container Shipment', 'containerShipment')\n",
    "('Collection Protocol Event', 'cpe')\n",
    "('Master Specimen', 'masterSpecimen')\n",
    "('Participant', 'participant')\n",
    "('Specimen Requirement', 'sr')\n",
    "('Visit', 'visit')\n",
    "('Specimen Aliquot', 'specimenAliquot')\n",
    "('Specimen Derivate', 'specimenDerivative')\n",
    "('Specimen Disposal', 'specimenDisposal')\n",
    "('Consent', 'consent')"
   ]
  },
  {
   "cell_type": "code",
   "execution_count": 7,
   "metadata": {},
   "outputs": [],
   "source": [
    "# Doesn't work\n",
    "#schema=widgets.Dropdown(\n",
    "#    options=[('Collection Protocol', 'cp'), ('Specimen', 'specimen'), ('Collection Protocol Registration', 'cpr'),\n",
    "#            ('User', 'user'), ('User Roles', 'userRoles'), ('Site', 'site'), ('Shipments', 'shipment'), \n",
    "#            ('Institute', 'institute'), ('Distribution Protocol Requirement', 'dpRequirement'), \n",
    "#            ('Distribution Protocol', 'distributionProtocol'), ('Distribution Order', 'distributionOrder'), \n",
    "#            ('Containers', 'storageContainer'), ('Container Type', 'storagecontainerType'),\n",
    "#            ('Container Shipment', 'containerShipment'), ('Collection Protocol Event', 'cpe'),\n",
    "#            ('Master Specimen', 'masterSpecimen'), ('Participant', 'participant'), ('Specimen Requirement', 'sr'),\n",
    "#            ('Visit', 'visit'), ('Specimen Aliquot', 'specimenAliquot'), \n",
    "#            ('Specimen Derivate', 'specimenDerivative'),('Specimen Disposal', 'specimenDisposal'),\n",
    "#            ('Consent', 'consent')],\n",
    "#    value='specimen',\n",
    "#    description='Entity:')\n",
    "#display(schema)"
   ]
  },
  {
   "cell_type": "code",
   "execution_count": 8,
   "metadata": {},
   "outputs": [
    {
     "name": "stdout",
     "output_type": "stream",
     "text": [
      "Choose your Entity:\n",
      "specimen\n",
      "specimen\n"
     ]
    }
   ],
   "source": [
    "print('Choose your Entity:')\n",
    "schema=input()\n",
    "print(schema)"
   ]
  },
  {
   "cell_type": "code",
   "execution_count": 9,
   "metadata": {},
   "outputs": [],
   "source": [
    "#initialize csv_bulk and bulk_operations\n",
    "csv_files=csv_bulk(base_url,(loginname, password))\n",
    "bulk_op=bulk_operations(base_url, (loginname, password))"
   ]
  },
  {
   "cell_type": "code",
   "execution_count": 10,
   "metadata": {},
   "outputs": [],
   "source": [
    "#Download Template file\n",
    "file=csv_files.get_template(schemaname=schema)\n",
    "filename=schema+'_jupyter.csv'\n",
    "file.to_csv(filename, index=False)"
   ]
  },
  {
   "cell_type": "code",
   "execution_count": 11,
   "metadata": {},
   "outputs": [
    {
     "name": "stdout",
     "output_type": "stream",
     "text": [
      "  Specimen Label OS_IMPORT_STATUS  \\\n",
      "0       Jupyter3          SUCCESS   \n",
      "1       Jupyter4          SUCCESS   \n",
      "2       Jupyter4             FAIL   \n",
      "\n",
      "                               OS_ERROR_MESSAGE  \n",
      "0                                           NaN  \n",
      "1                                           NaN  \n",
      "2  Specimen with label Jupyter4 already exists.  \n"
     ]
    }
   ],
   "source": [
    "#Open file from working dir and run upload\n",
    "##TODO: adding directory and name of the file\n",
    "upload_=pandas.read_csv('upload_specimen.csv',index_col=False)\n",
    "uplo=bulk_op.bulk_import(file=upload_.to_csv(index=False),filename='upload_specimen.csv', schemaname=schema,operation='CREATE')\n",
    "print(uplo)"
   ]
  },
  {
   "cell_type": "code",
   "execution_count": 12,
   "metadata": {},
   "outputs": [
    {
     "name": "stdout",
     "output_type": "stream",
     "text": [
      "\n"
     ]
    },
    {
     "data": {
      "text/plain": [
       "''"
      ]
     },
     "execution_count": 12,
     "metadata": {},
     "output_type": "execute_result"
    }
   ],
   "source": [
    "input()#press enter"
   ]
  },
  {
   "cell_type": "code",
   "execution_count": 13,
   "metadata": {},
   "outputs": [
    {
     "name": "stdout",
     "output_type": "stream",
     "text": [
      "  Specimen Label OS_IMPORT_STATUS  OS_ERROR_MESSAGE\n",
      "0       Jupyter1          SUCCESS               NaN\n",
      "1       Jupyter3          SUCCESS               NaN\n",
      "2       Jupyter4          SUCCESS               NaN\n"
     ]
    }
   ],
   "source": [
    "# Update some Specimens (operation='UPDATE')\n",
    "upload_=pandas.read_csv('update_specimen.csv',index_col=False)\n",
    "uplo=bulk_op.bulk_import(file=upload_.to_csv(index=False),filename='upload_specimen.csv', schemaname=schema,operation='UPDATE')\n",
    "print(uplo)"
   ]
  },
  {
   "cell_type": "code",
   "execution_count": null,
   "metadata": {},
   "outputs": [],
   "source": []
  }
 ],
 "metadata": {
  "kernelspec": {
   "display_name": "Python 3",
   "language": "python",
   "name": "python3"
  },
  "language_info": {
   "codemirror_mode": {
    "name": "ipython",
    "version": 3
   },
   "file_extension": ".py",
   "mimetype": "text/x-python",
   "name": "python",
   "nbconvert_exporter": "python",
   "pygments_lexer": "ipython3",
   "version": "3.8.5"
  }
 },
 "nbformat": 4,
 "nbformat_minor": 4
}
