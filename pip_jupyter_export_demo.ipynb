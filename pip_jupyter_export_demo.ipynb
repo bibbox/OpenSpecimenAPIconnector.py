{
 "cells": [
  {
   "cell_type": "code",
   "execution_count": 1,
   "metadata": {},
   "outputs": [
    {
     "name": "stdout",
     "output_type": "stream",
     "text": [
      "Requirement already satisfied: faker in /home/simon/anaconda3/lib/python3.7/site-packages (5.0.1)\n",
      "Requirement already satisfied: python-dateutil>=2.4 in /home/simon/anaconda3/lib/python3.7/site-packages (from faker) (2.8.0)\n",
      "Requirement already satisfied: text-unidecode==1.3 in /home/simon/anaconda3/lib/python3.7/site-packages (from faker) (1.3)\n",
      "Requirement already satisfied: six>=1.5 in /home/simon/anaconda3/lib/python3.7/site-packages (from python-dateutil>=2.4->faker) (1.12.0)\n",
      "Requirement already satisfied: names in /home/simon/anaconda3/lib/python3.7/site-packages (0.3.0)\n",
      "Uninstalling OpenSpecimenAPIconnector-0.9.1:\n",
      "  Successfully uninstalled OpenSpecimenAPIconnector-0.9.1\n",
      "Processing ./dist/OpenSpecimenAPIconnector-0.9.1-py3-none-any.whl\n",
      "Requirement already satisfied: numpy in /home/simon/anaconda3/lib/python3.7/site-packages (from OpenSpecimenAPIconnector==0.9.1) (1.17.2)\n",
      "Requirement already satisfied: openpyxl in /home/simon/anaconda3/lib/python3.7/site-packages (from OpenSpecimenAPIconnector==0.9.1) (3.0.0)\n",
      "Requirement already satisfied: requests in /home/simon/anaconda3/lib/python3.7/site-packages (from OpenSpecimenAPIconnector==0.9.1) (2.21.0)\n",
      "Requirement already satisfied: pandas in /home/simon/anaconda3/lib/python3.7/site-packages (from OpenSpecimenAPIconnector==0.9.1) (0.25.1)\n",
      "Requirement already satisfied: xlsxwriter in /home/simon/anaconda3/lib/python3.7/site-packages (from OpenSpecimenAPIconnector==0.9.1) (1.2.1)\n",
      "Requirement already satisfied: faker in /home/simon/anaconda3/lib/python3.7/site-packages (from OpenSpecimenAPIconnector==0.9.1) (5.0.1)\n",
      "Requirement already satisfied: names in /home/simon/anaconda3/lib/python3.7/site-packages (from OpenSpecimenAPIconnector==0.9.1) (0.3.0)\n",
      "Requirement already satisfied: et-xmlfile in /home/simon/anaconda3/lib/python3.7/site-packages (from openpyxl->OpenSpecimenAPIconnector==0.9.1) (1.0.1)\n",
      "Requirement already satisfied: jdcal in /home/simon/anaconda3/lib/python3.7/site-packages (from openpyxl->OpenSpecimenAPIconnector==0.9.1) (1.4.1)\n",
      "Requirement already satisfied: chardet<3.1.0,>=3.0.2 in /home/simon/anaconda3/lib/python3.7/site-packages (from requests->OpenSpecimenAPIconnector==0.9.1) (3.0.4)\n",
      "Requirement already satisfied: urllib3<1.25,>=1.21.1 in /home/simon/anaconda3/lib/python3.7/site-packages (from requests->OpenSpecimenAPIconnector==0.9.1) (1.24.2)\n",
      "Requirement already satisfied: certifi>=2017.4.17 in /home/simon/anaconda3/lib/python3.7/site-packages (from requests->OpenSpecimenAPIconnector==0.9.1) (2019.9.11)\n",
      "Requirement already satisfied: idna<2.9,>=2.5 in /home/simon/anaconda3/lib/python3.7/site-packages (from requests->OpenSpecimenAPIconnector==0.9.1) (2.8)\n",
      "Requirement already satisfied: pytz>=2017.2 in /home/simon/anaconda3/lib/python3.7/site-packages (from pandas->OpenSpecimenAPIconnector==0.9.1) (2019.3)\n",
      "Requirement already satisfied: python-dateutil>=2.6.1 in /home/simon/anaconda3/lib/python3.7/site-packages (from pandas->OpenSpecimenAPIconnector==0.9.1) (2.8.0)\n",
      "Requirement already satisfied: text-unidecode==1.3 in /home/simon/anaconda3/lib/python3.7/site-packages (from faker->OpenSpecimenAPIconnector==0.9.1) (1.3)\n",
      "Requirement already satisfied: six>=1.5 in /home/simon/anaconda3/lib/python3.7/site-packages (from python-dateutil>=2.6.1->pandas->OpenSpecimenAPIconnector==0.9.1) (1.12.0)\n",
      "Installing collected packages: OpenSpecimenAPIconnector\n",
      "Successfully installed OpenSpecimenAPIconnector-0.9.1\n"
     ]
    }
   ],
   "source": [
    "# import packages\n",
    "!pip install faker\n",
    "!pip install names\n",
    "!pip uninstall -y dist/OpenSpecimenAPIconnector-0.9.1-py3-none-any.whl\n",
    "!pip install dist/OpenSpecimenAPIconnector-0.9.1-py3-none-any.whl\n",
    "\n",
    "import json\n",
    "import pandas as pd\n",
    "import faker\n",
    "import os\n",
    "from IPython.display import display\n",
    "import requests\n",
    "import random\n",
    "import ipywidgets as wid\n",
    "import numpy as np"
   ]
  },
  {
   "cell_type": "code",
   "execution_count": 2,
   "metadata": {},
   "outputs": [],
   "source": [
    "import OpenSpecimenAPIconnector.os_core as os_core\n",
    "import OpenSpecimenAPIconnector.os_util as os_util\n",
    "import OpenSpecimenAPIconnector.mg_core as mg_core\n",
    "import OpenSpecimenAPIconnector.mg_util as mg_util"
   ]
  },
  {
   "cell_type": "code",
   "execution_count": 3,
   "metadata": {},
   "outputs": [],
   "source": [
    "def csv_download_link(df, csv_file_name, delete_prompt=False):\n",
    "    \"\"\"Display a download link to load a data frame as csv from within a Jupyter notebook\"\"\"\n",
    "    from IPython.core.display import display, HTML\n",
    "    link = \"http://localhost:8888/edit/work/\" + csv_file_name\n",
    "    df.to_csv(csv_file_name, index=False)\n",
    "    text = \"Download/Edit \" + csv_file_name\n",
    "    display(HTML(\"<a href={} target=_blank>{}</a>\".format(link, text)))\n",
    "   \n",
    "    if delete_prompt:\n",
    "        a = input('Press enter to delete the file after you have downloaded it.')\n",
    "        import os\n",
    "        os.remove(csv_file_name)"
   ]
  },
  {
   "cell_type": "code",
   "execution_count": 4,
   "metadata": {},
   "outputs": [],
   "source": [
    "def multi_checkbox_widget(options_dict):\n",
    "    \"\"\" Widget with a search field and lots of checkboxes \"\"\"\n",
    "    search_widget = wid.Text()\n",
    "    output_widget = wid.Output()\n",
    "    options = [x for x in options_dict.values()]\n",
    "    options_layout = wid.Layout(\n",
    "        overflow='auto',\n",
    "        border='1px solid black',\n",
    "        width='300px',\n",
    "        height='300px',\n",
    "        flex_flow='column',\n",
    "        display='flex'\n",
    "    )\n",
    "    \n",
    "    #selected_widget = wid.Box(children=[options[0]])\n",
    "    options_widget = wid.VBox(options, layout=options_layout)\n",
    "    #left_widget = wid.VBox(search_widget, selected_widget)\n",
    "    multi_select = wid.VBox([search_widget, options_widget])\n",
    "\n",
    "    @output_widget.capture()\n",
    "    def on_checkbox_change(change):\n",
    "        \n",
    "        selected_recipe = change[\"owner\"].description\n",
    "        #print(options_widget.children)\n",
    "        #selected_item = wid.Button(description = change[\"new\"])\n",
    "        #selected_widget.children = [] #selected_widget.children + [selected_item]\n",
    "        options_widget.children = sorted([x for x in options_widget.children], key = lambda x: x.value, reverse = True)\n",
    "        \n",
    "    for checkbox in options:\n",
    "        checkbox.observe(on_checkbox_change, names=\"value\")\n",
    "\n",
    "    # Wire the search field to the checkboxes\n",
    "    @output_widget.capture()\n",
    "    def on_text_change(change):\n",
    "        search_input = change['new']\n",
    "        if search_input == '':\n",
    "            # Reset search field\n",
    "            new_options = sorted(options, key = lambda x: x.value, reverse = True)\n",
    "        else:\n",
    "            # Filter by search field using difflib.\n",
    "            #close_matches = difflib.get_close_matches(search_input, list(options_dict.keys()), cutoff=0.0)\n",
    "            close_matches = [x for x in list(options_dict.keys()) if str.lower(search_input.strip('')) in str.lower(x)]\n",
    "            new_options = sorted(\n",
    "                [x for x in options if x.description in close_matches], \n",
    "                key = lambda x: x.value, reverse = True\n",
    "            ) #[options_dict[x] for x in close_matches]\n",
    "        options_widget.children = new_options\n",
    "\n",
    "    search_widget.observe(on_text_change, names='value')\n",
    "    display(output_widget)\n",
    "    return multi_select"
   ]
  },
  {
   "cell_type": "code",
   "execution_count": 5,
   "metadata": {},
   "outputs": [],
   "source": [
    "def display_search_select_box(cps_dict):\n",
    "    descriptions = [key for key in  cps_dict.keys()]\n",
    "\n",
    "    options_dict = {\n",
    "        x: wid.Checkbox(\n",
    "            description=x, \n",
    "            value=False,\n",
    "            style={\"description_width\":\"0px\"}\n",
    "        ) for x in descriptions\n",
    "    }\n",
    "\n",
    "    def f(**args):\n",
    "\n",
    "        results = [key for key, value in args.items() if value]\n",
    "        display(results)\n",
    "\n",
    "    ui = multi_checkbox_widget(options_dict)\n",
    "    out = wid.interactive_output(f, options_dict)\n",
    "    display(wid.HBox([ui, out]))\n",
    "    return ui"
   ]
  },
  {
   "cell_type": "code",
   "execution_count": 6,
   "metadata": {},
   "outputs": [
    {
     "name": "stdout",
     "output_type": "stream",
     "text": [
      "Fill in Openspecimen url (http(s)://<IP-Adress>:<port>) and press enter\n",
      "The whole URL for API Calls is: http://biobank-7-2.silicolab.bibbox.org/openspecimen/rest/ng\n"
     ]
    }
   ],
   "source": [
    "# The URL of the Openspecimen\n",
    "print('Fill in Openspecimen url (http(s)://<IP-Adress>:<port>) and press enter')\n",
    "base_url = 'http://biobank-7-2.silicolab.bibbox.org' \n",
    "base_url +='/openspecimen/rest/ng'\n",
    "print('The whole URL for API Calls is: ' + base_url)"
   ]
  },
  {
   "cell_type": "code",
   "execution_count": 7,
   "metadata": {},
   "outputs": [
    {
     "name": "stdout",
     "output_type": "stream",
     "text": [
      "Loginname of the user:\n",
      "Password of the user:\n"
     ]
    }
   ],
   "source": [
    "# Loginname and Pasword of the API-User, recommended is an extra API User\n",
    "print('Loginname of the user:')\n",
    "loginname='admin'#input() \n",
    "print('Password of the user:')\n",
    "password='Login@123'#input()\n",
    "auth = (loginname, password)"
   ]
  },
  {
   "cell_type": "code",
   "execution_count": 8,
   "metadata": {},
   "outputs": [],
   "source": [
    "# get necessary cp information\n",
    "cp_tools = os_core.collection_protocol(base_url, (loginname, password))\n",
    "\n",
    "# get cp info and wirte a dict in order to simplify the api output\n",
    "cps = cp_tools.get_all_collection_protocols()\n",
    "cps_dict = {}\n",
    "for i, item in enumerate(cps):\n",
    "    # print(\"Cp Title:\")\n",
    "    # print(item[\"title\"])\n",
    "    # print(\"Cp ID: \",item[\"id\"], \"\\n\")\n",
    "    cps_dict[item[\"title\"]] = item[\"id\"]"
   ]
  },
  {
   "cell_type": "code",
   "execution_count": 9,
   "metadata": {},
   "outputs": [
    {
     "data": {
      "application/vnd.jupyter.widget-view+json": {
       "model_id": "f328e84a15384899837ce288608f630e",
       "version_major": 2,
       "version_minor": 0
      },
      "text/plain": [
       "Output()"
      ]
     },
     "metadata": {},
     "output_type": "display_data"
    },
    {
     "data": {
      "application/vnd.jupyter.widget-view+json": {
       "model_id": "e603d41289204e13920be5e93a92ef40",
       "version_major": 2,
       "version_minor": 0
      },
      "text/plain": [
       "HBox(children=(VBox(children=(Text(value=''), VBox(children=(Checkbox(value=False, description='Main collectio…"
      ]
     },
     "metadata": {},
     "output_type": "display_data"
    }
   ],
   "source": [
    "# select collection protocolls\n",
    "ui = display_search_select_box(cps_dict)"
   ]
  },
  {
   "cell_type": "code",
   "execution_count": 10,
   "metadata": {},
   "outputs": [
    {
     "name": "stdout",
     "output_type": "stream",
     "text": [
      "[18, 17]\n"
     ]
    }
   ],
   "source": [
    "# get selected cp_ids\n",
    "cp_ids = []\n",
    "selected_options = [widget.description for widget in ui.children[1].children if widget.value]\n",
    "for item in selected_options:\n",
    "    cp_ids.append(cps_dict[item])\n",
    "print(cp_ids)"
   ]
  },
  {
   "cell_type": "code",
   "execution_count": 11,
   "metadata": {
    "scrolled": true
   },
   "outputs": [],
   "source": [
    "exporter = mg_util.bbmri_connector()\n",
    "bbmri_file = exporter.execute(cp_ids)"
   ]
  },
  {
   "cell_type": "code",
   "execution_count": 12,
   "metadata": {},
   "outputs": [
    {
     "data": {
      "application/vnd.jupyter.widget-view+json": {
       "model_id": "cb9a1be9745a4f1781b436b57b1e3753",
       "version_major": 2,
       "version_minor": 0
      },
      "text/plain": [
       "Tab(children=(Output(), Output(), Output()), _titles={'0': 'eu_bbmri_eric_biobanks', '1': 'eu_bbmri_eric_perso…"
      ]
     },
     "metadata": {},
     "output_type": "display_data"
    }
   ],
   "source": [
    "# sheetnames:\n",
    "bb_sheet = \"eu_bbmri_eric_biobanks\"\n",
    "per_sheet = \"eu_bbmri_eric_persons\"\n",
    "cp_sheet = \"eu_bbmri_eric_collections\"\n",
    "\n",
    "output_bb = wid.Output()\n",
    "output_per = wid.Output()\n",
    "output_cp = wid.Output()\n",
    "\n",
    "tab = wid.Tab([output_bb, output_per, output_cp])\n",
    "tab.set_title(0, bb_sheet)\n",
    "tab.set_title(1, per_sheet)\n",
    "tab.set_title(2, cp_sheet)\n",
    "display(tab)\n",
    "with output_bb:\n",
    "    display(bbmri_file[bb_sheet])\n",
    "with output_per:\n",
    "    display(bbmri_file[per_sheet])\n",
    "with output_cp:\n",
    "    display(bbmri_file[cp_sheet])\n",
    "\n",
    "\n"
   ]
  },
  {
   "cell_type": "code",
   "execution_count": null,
   "metadata": {},
   "outputs": [],
   "source": []
  }
 ],
 "metadata": {
  "kernelspec": {
   "display_name": "Python 3",
   "language": "python",
   "name": "python3"
  },
  "language_info": {
   "codemirror_mode": {
    "name": "ipython",
    "version": 3
   },
   "file_extension": ".py",
   "mimetype": "text/x-python",
   "name": "python",
   "nbconvert_exporter": "python",
   "pygments_lexer": "ipython3",
   "version": "3.7.4"
  }
 },
 "nbformat": 4,
 "nbformat_minor": 2
}
