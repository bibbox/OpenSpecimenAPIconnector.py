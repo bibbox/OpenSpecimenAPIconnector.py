{
 "cells": [
  {
   "cell_type": "code",
   "execution_count": 3,
   "metadata": {},
   "outputs": [],
   "source": [
    "#! /bin/python3"
   ]
  },
  {
   "cell_type": "code",
   "execution_count": 1,
   "metadata": {},
   "outputs": [
    {
     "name": "stdout",
     "output_type": "stream",
     "text": [
      "Requirement already satisfied: faker in /home/simon/anaconda3/lib/python3.7/site-packages (5.0.1)\n",
      "Requirement already satisfied: text-unidecode==1.3 in /home/simon/anaconda3/lib/python3.7/site-packages (from faker) (1.3)\n",
      "Requirement already satisfied: python-dateutil>=2.4 in /home/simon/anaconda3/lib/python3.7/site-packages (from faker) (2.8.0)\n",
      "Requirement already satisfied: six>=1.5 in /home/simon/anaconda3/lib/python3.7/site-packages (from python-dateutil>=2.4->faker) (1.12.0)\n",
      "Requirement already satisfied: names in /home/simon/anaconda3/lib/python3.7/site-packages (0.3.0)\n"
     ]
    }
   ],
   "source": [
    "# import packages\n",
    "!pip install faker\n",
    "!pip install names\n",
    "import json\n",
    "import pandas\n",
    "import ipywidgets as widgets\n",
    "from IPython.display import display"
   ]
  },
  {
   "cell_type": "code",
   "execution_count": 2,
   "metadata": {},
   "outputs": [],
   "source": [
    "# import os_core\n",
    "from os_core.users import users\n",
    "from os_core.specimen import specimen\n",
    "from os_core.collection_protocoll import collection_protocol\n",
    "from os_core.csv_bulk import csv_bulk\n",
    "from os_core.csv_export import CSV_exporter\n"
   ]
  },
  {
   "cell_type": "code",
   "execution_count": 3,
   "metadata": {},
   "outputs": [],
   "source": [
    "def csv_download_link(df, csv_file_name, delete_prompt=False):\n",
    "    \"\"\"Display a download link to load a data frame as csv from within a Jupyter notebook\"\"\"\n",
    "    import os\n",
    "    from IPython.core.display import display, HTML\n",
    "    link = \"http://localhost:8888/edit/work/\" + csv_file_name\n",
    "    df.to_csv(csv_file_name, index=False)\n",
    "    display(HTML(\"<a href={} target=_blank>Download/Edit</a>\".format(link)))\n",
    "   \n",
    "    if delete_prompt:\n",
    "        a = input('Press enter to delete the file after you have downloaded it.')\n",
    "        import os\n",
    "        os.remove(csv_file_name)"
   ]
  },
  {
   "cell_type": "code",
   "execution_count": 4,
   "metadata": {},
   "outputs": [],
   "source": [
    "# import os_util\n",
    "from os_util.bulk_operations import bulk_operations\n",
    "from os_util.export_operations import Export_OP"
   ]
  },
  {
   "cell_type": "code",
   "execution_count": 5,
   "metadata": {},
   "outputs": [
    {
     "name": "stdout",
     "output_type": "stream",
     "text": [
      "Fill in Openspecimen url (http(s)://<IP-Adress>:<port>) and press enter\n",
      "The whole URL for API Calls is: http://biobank.silicolab.bibbox.org/openspecimen/rest/ng\n"
     ]
    }
   ],
   "source": [
    "# The URL of the Openspecimen\n",
    "print('Fill in Openspecimen url (http(s)://<IP-Adress>:<port>) and press enter')\n",
    "#base_url='http://localhost:9000' # input()\n",
    "base_url='http://biobank.silicolab.bibbox.org'\n",
    "base_url2= 'http://biobank-7-2.silicolab.bibbox.org' \n",
    "base_url+='/openspecimen/rest/ng'\n",
    "base_url2+='/openspecimen/rest/ng'\n",
    "print('The whole URL for API Calls is: ' + base_url)"
   ]
  },
  {
   "cell_type": "code",
   "execution_count": 6,
   "metadata": {},
   "outputs": [
    {
     "name": "stdout",
     "output_type": "stream",
     "text": [
      "Loginname of the user:\n",
      "Password of the user:\n"
     ]
    }
   ],
   "source": [
    "# Loginname and Pasword of the API-User, recommended is an extra API User\n",
    "print('Loginname of the user:')\n",
    "loginname='admin'#input()\n",
    "print('Password of the user:')\n",
    "password='Login@123'#input()"
   ]
  },
  {
   "cell_type": "markdown",
   "metadata": {},
   "source": [
    "The next step is to choose the entity which will be created or updated. The following schemas are in Openspecimen available: (Name, openspecimen entity). One have to write the openspecimen entity.\n",
    "('Collection Protocol', 'cp')\n",
    "('Collection Protocol Registration', 'cpr')\n",
    "('User', 'user')\n",
    "('User Roles', 'userRoles')\n",
    "('Site', 'site')\n",
    "('Shipments', 'shipment')\n",
    "('Institute', 'institute')\n",
    "('Distribution Protocol Requirement', 'dpRequirement')\n",
    "('Distribution Protocol', 'distributionProtocol')\n",
    "('Distribution Order', 'distributionOrder')\n",
    "('Containers', 'storageContainer')\n",
    "('Container Type', 'storagecontainerType')\n",
    "('Container Shipment', 'containerShipment')\n",
    "('Collection Protocol Event', 'cpe')\n",
    "('Master Specimen', 'masterSpecimen')\n",
    "('Participant', 'participant')\n",
    "('Specimen Requirement', 'sr')\n",
    "('Visit', 'visit')\n",
    "('Specimen Aliquot', 'specimenAliquot')\n",
    "('Specimen Derivate', 'specimenDerivative')\n",
    "('Specimen Disposal', 'specimenDisposal')\n",
    "('Consent', 'consent')"
   ]
  },
  {
   "cell_type": "code",
   "execution_count": 7,
   "metadata": {},
   "outputs": [
    {
     "name": "stdout",
     "output_type": "stream",
     "text": [
      "Choose your Entity:\n"
     ]
    },
    {
     "data": {
      "application/vnd.jupyter.widget-view+json": {
       "model_id": "39aeaf38ae944081a2b01457818d39cc",
       "version_major": 2,
       "version_minor": 0
      },
      "text/plain": [
       "Dropdown(description='Entity:', index=2, options=((), ('Collection Protocol', 'cp'), ('Specimen', 'specimen'),…"
      ]
     },
     "metadata": {},
     "output_type": "display_data"
    },
    {
     "name": "stdout",
     "output_type": "stream",
     "text": [
      "Choose Operation:\n"
     ]
    },
    {
     "data": {
      "application/vnd.jupyter.widget-view+json": {
       "model_id": "dc89f04ac826419a95b76ffe0d053732",
       "version_major": 2,
       "version_minor": 0
      },
      "text/plain": [
       "Dropdown(description='Operation:', options=('CREATE', 'UPDATE'), value='CREATE')"
      ]
     },
     "metadata": {},
     "output_type": "display_data"
    }
   ],
   "source": [
    "# Import and export so far work for sites and \n",
    "schema=widgets.Dropdown(\n",
    "    options= [(), ('Collection Protocol', 'cp'), ('Specimen', 'specimen'), ('Collection Protocol Registration', 'cpr'),\n",
    "              ('User', 'user'), ('User Roles', 'userRoles'), ('Site', 'site'), ('Shipments', 'shipment'), \n",
    "              ('Institute', 'institute'), ('Distribution Protocol Requirement', 'dpRequirement'), \n",
    "              ('Distribution Protocol', 'distributionProtocol'), ('Distribution Order', 'distributionOrder'), \n",
    "              ('Containers', 'storageContainer'), ('Container Type', 'storagecontainerType'),\n",
    "              ('Container Shipment', 'containerShipment'), ('Collection Protocol Event', 'cpe'),\n",
    "              ('Master Specimen', 'masterSpecimen'), ('Participant', 'participant'), ('Specimen Requirement', 'sr'),\n",
    "              ('Visit', 'visit'), ('Specimen Aliquot', 'specimenAliquot'), \n",
    "              ('Specimen Derivate', 'specimenDerivative'),('Specimen Disposal', 'specimenDisposal'),\n",
    "              ('Consent', 'consent')],\n",
    "    value=('Specimen', 'specimen'),\n",
    "    description='Entity:')\n",
    "\n",
    "operation = widgets.Dropdown(\n",
    "    options = [\"CREATE\",  'UPDATE'],\n",
    "              value=\"CREATE\",\n",
    "              description='Operation:')\n",
    "\n",
    "print('Choose your Entity:')\n",
    "display(schema)\n",
    "print('Choose Operation:')\n",
    "display(operation)"
   ]
  },
  {
   "cell_type": "code",
   "execution_count": 8,
   "metadata": {},
   "outputs": [
    {
     "name": "stdout",
     "output_type": "stream",
     "text": [
      "Selected Schema:\n",
      "('Collection Protocol Registration', 'cpr')\n",
      "cpr\n",
      "Selected Operation:\n",
      "CREATE\n"
     ]
    }
   ],
   "source": [
    "print(\"Selected Schema:\")\n",
    "print(schema.value)\n",
    "sel_schema = schema.value[1]\n",
    "print(sel_schema)\n",
    "print(\"Selected Operation:\")\n",
    "sel_op = operation.value\n",
    "print(sel_op)"
   ]
  },
  {
   "cell_type": "code",
   "execution_count": 9,
   "metadata": {},
   "outputs": [],
   "source": [
    "#initialize csv_bulk, bulk_operations and CSV_exporter\n",
    "csv_files=csv_bulk(base_url2,(loginname, password))\n",
    "bulk_op=bulk_operations(base_url2, (loginname, password))\n",
    "csv_export = Export_OP(base_url, (loginname, password))"
   ]
  },
  {
   "cell_type": "code",
   "execution_count": 42,
   "metadata": {},
   "outputs": [
    {
     "name": "stdout",
     "output_type": "stream",
     "text": [
      "Main collection of Clinical-biological Biobank at INAB, comprising of all the samples.\n",
      "9\n",
      "Hellenic Biobank of Overweight and Obesity in Childhood and Adolescence\n",
      "10\n",
      "Hellenic Biobank for Parkinson's Disease\n",
      "7\n",
      "Cp Title:\n",
      "Main collection of Clinical-biological Biobank at INAB, comprising of all the samples.\n",
      "Cp ID\n",
      "16 \n",
      "\n",
      "Cp Title:\n",
      "Hellenic Biobank of Overweight and Obesity in Childhood and Adolescence\n",
      "Cp ID\n",
      "17 \n",
      "\n",
      "Cp Title:\n",
      "Hellenic Biobank for Parkinson's Disease\n",
      "Cp ID\n",
      "18 \n",
      "\n",
      "Source CP:  ['Hellenic Biobank of Overweight and Obesity in Childhood and Adolescence', 10]\n",
      "Target CP:  ['Hellenic Biobank of Overweight and Obesity in Childhood and Adolescence', 17]\n"
     ]
    }
   ],
   "source": [
    "# get necessary cp information since we fetch data from a different Openspecimen Client and aggregate Fields on\n",
    "# another one\n",
    "\n",
    "cp_tools_source = collection_protocol(base_url, (loginname, password))\n",
    "cp_tools_target = collection_protocol(base_url2, (loginname, password))\n",
    "# get source cp info\n",
    "cps_source = cp_tools_source.get_all_collection_protocols()\n",
    "cps_dict_source = {}\n",
    "for i, item in enumerate(cps_source):\n",
    "    print(item[\"title\"])\n",
    "    print(item[\"id\"])\n",
    "    cps_dict_source[i] = [item[\"title\"], item[\"id\"]]\n",
    "\n",
    "# get target cp info\n",
    "cps_target = cp_tools_target.get_all_collection_protocols()\n",
    "cps_dict_target = {}\n",
    "for i, item in enumerate(cps_target):\n",
    "    print(\"Cp Title:\")\n",
    "    print(item[\"title\"])\n",
    "    print(\"Cp ID\")\n",
    "    print(item[\"id\"], \"\\n\")\n",
    "    \n",
    "    cps_dict_target[i] = [item[\"title\"], item[\"id\"]]\n",
    "\n",
    "# choose source CP/ Check if atching is correct\n",
    "print(\"Source CP: \", cps_dict_source[1])\n",
    "cp_id_source = cps_dict_source[1][1]\n",
    "cp_source = cp_tools_source.get_cp_def(cp_id_source)\n",
    "cp_def_source = cp_tools_source.get_collection_protocol(cp_id_source)\n",
    "\n",
    "# choose target CP / Check if matching is correct\n",
    "print(\"Target CP: \", cps_dict_target[1])\n",
    "cp_id_target = cps_dict_target[1][1]\n",
    "cp_target = cp_tools_target.get_collection_protocol(cp_id_target)\n",
    "cp_def_target = cp_tools_target.get_cp_def(cp_id_target)\n"
   ]
  },
  {
   "cell_type": "code",
   "execution_count": 16,
   "metadata": {},
   "outputs": [
    {
     "data": {
      "text/html": [
       "<a href=http://localhost:8888/edit/work/cpr_template.csv target=_blank>Download/Edit</a>"
      ],
      "text/plain": [
       "<IPython.core.display.HTML object>"
      ]
     },
     "metadata": {},
     "output_type": "display_data"
    }
   ],
   "source": [
    "#Download Template file, Export File for data aggregation\n",
    "template = csv_files.get_template(schemaname=sel_schema)\n",
    "filename = sel_schema +'_template.csv'\n",
    "csv_download_link(template, filename)\n",
    "export = csv_export.export_file(sel_schema, cp_id_source)"
   ]
  },
  {
   "cell_type": "code",
   "execution_count": 48,
   "metadata": {},
   "outputs": [
    {
     "name": "stdout",
     "output_type": "stream",
     "text": [
      "Age high:  99.0\n",
      "Age low:  5.0\n",
      "Age mean:  51.36391068195534\n"
     ]
    }
   ],
   "source": [
    "import numpy as np\n",
    "\n",
    "age_array = []\n",
    "# crude example of age calculation\n",
    "for item in export[\"Birth Date\"]:\n",
    "    age_array.append(2020 - float(item.split(\"-\")[-1]))\n",
    "\n",
    "age_array = np.array(age_array)\n",
    "print(\"Age high: \",np.max(age_array))\n",
    "print(\"Age low: \", np.min(age_array))\n",
    "print(\"Age mean: \", age_array.mean())\n",
    "\n",
    "#rewrite our custom Aggregtion fields (there is a better way to do this)\n",
    "for i, item in enumerate(cp_target[\"extensionDetail\"][\"attrs\"]):\n",
    "    \n",
    "    if cp_target[\"extensionDetail\"][\"attrs\"][i][\"name\"] == \"AgeLow\":\n",
    "        cp_target[\"extensionDetail\"][\"attrs\"][i][\"value\"] = str(int(np.min(age_array)))\n",
    "        cp_target[\"extensionDetail\"][\"attrs\"][i][\"displayValue\"] = str(np.min(age_array))\n",
    "    elif cp_target[\"extensionDetail\"][\"attrs\"][i][\"name\"] == \"AgeHigh\":\n",
    "        cp_target[\"extensionDetail\"][\"attrs\"][i][\"value\"] = str(int(np.max(age_array)))\n",
    "        cp_target[\"extensionDetail\"][\"attrs\"][i][\"displayValue\"] = str(np.max(age_array))\n"
   ]
  },
  {
   "cell_type": "code",
   "execution_count": 49,
   "metadata": {},
   "outputs": [
    {
     "name": "stdout",
     "output_type": "stream",
     "text": [
      "{'id': 17, 'shortTitle': 'Hellenic Biobank OOCA', 'title': 'Hellenic Biobank of Overweight and Obesity in Childhood and Adolescence', 'principalInvestigator': {'id': 5, 'type': 'INSTITUTE', 'firstName': 'Evangelia', 'lastName': 'Charmandari', 'loginName': 'EvaCharm', 'domain': 'openspecimen', 'emailAddress': 'echarmand@med.uoa.gr', 'instituteName': 'Biomedical Research Foundation, Academy of Athens', 'primarySite': None, 'admin': False, 'instituteAdmin': True, 'manageForms': True, 'cpCount': 0, 'creationDate': 1607904000000, 'activityStatus': 'Active'}, 'manualPpidEnabled': False, 'specimenCentric': False, 'coordinators': [], 'cpSites': [{'id': 17, 'siteName': \"Hellenic Biobank for Parkinson's Disease\", 'code': None}], 'consentsWaived': False, 'anticipatedParticipantsCount': 10000, 'manualVisitNameEnabled': False, 'manualSpecLabelEnabled': False, 'bulkPartRegEnabled': False, 'barcodingEnabled': False, 'closeParentSpecimens': False, 'visitCollectionMode': 'ALL_SPMNS', 'visitNamePrintMode': 'NONE', 'spmnLabelPrePrintMode': 'NONE', 'spmnLabelPrintSettings': [], 'distributionProtocols': [], 'activityStatus': 'Active', 'extensionDetail': {'id': 10, 'objectId': 17, 'formId': 105, 'formCaption': 'BBMRI Collection', 'attrs': [{'name': 'bBMRICollectionId', 'udn': 'BBMRI_COLLECTION_ID', 'caption': 'BBMRI Collection ID', 'value': 'bbmri-eric:ID:GR_HBOOCA:collection:oo1', 'type': 'stringTextField', 'displayValue': 'bbmri-eric:ID:GR_HBOOCA:collection:oo1'}, {'name': 'bBMRICollectionCountry', 'udn': 'BBMRI_COLLECTION_COUNTRY', 'caption': 'Country', 'value': 'GR', 'type': 'stringTextField', 'displayValue': 'GR'}, {'name': 'bBMRIDescription', 'udn': 'BBMRI_DESCRIPTION', 'caption': 'Description', 'value': 'A collection of biological samples from patients living from overweight or obese children and adolescents living in Greece.', 'type': 'textArea', 'displayValue': 'A collection of biological samples from patients living from overweight or obese children and adolescents living in Greece.'}, {'name': 'bBMRIBioresourceReference', 'udn': 'BBMRI_BIORESOURCE_REFERENCE', 'caption': 'Bioresource Reference', 'value': None, 'type': 'textArea', 'displayValue': None}, {'name': 'bBMRINetwork', 'udn': 'BBMRI_Network', 'caption': 'Network', 'value': None, 'type': 'stringTextField', 'displayValue': None}, {'name': 'bBMRICollectionType', 'udn': 'BBMRI_COLLECTION_TYPE', 'caption': 'Collection Type', 'value': ['Case-Control', 'Cross-sectional', 'Disease specific', 'Hospital', 'Rare-Disease Collection.', 'Sample Collection'], 'type': 'multiSelectListbox', 'displayValue': 'Case-Control, Cross-sectional, Disease specific, Hospital, Rare-Disease Collection., Sample Collection'}, {'name': 'bBMRIDataCategories', 'udn': 'BBMRI_DATA_CATEGORIES', 'caption': 'Data Categories', 'value': ['Biological Samples', 'Imaging Data', 'Medical Records', 'Other', 'Physiological/Biochemical measurements', 'Survey Data'], 'type': 'multiSelectListbox', 'displayValue': 'Biological Samples, Imaging Data, Medical Records, Other, Physiological/Biochemical measurements, Survey Data'}, {'name': 'bBMRIOrderOfMagnitude', 'udn': 'BBMRI_ORDER_OF_MAGNITUDE', 'caption': 'Order of Magnitude', 'value': '3', 'type': 'numberField', 'displayValue': '3'}, {'name': 'bBMRINumberOfDonors', 'udn': 'BBMRI_NUMBER_OF_DONORS', 'caption': 'Number of Donors', 'value': None, 'type': 'numberField', 'displayValue': None}, {'name': 'bBMRIMagnitudeOfDonors', 'udn': 'BBMRI_MAGNITUDE_OF_DONORS', 'caption': 'Magnitude of Donors', 'value': None, 'type': 'numberField', 'displayValue': None}, {'name': 'bBMRIParentCollections', 'udn': 'BBMRI_PARENT_COLLECTIONS', 'caption': 'Parent Collections', 'value': None, 'type': 'stringTextField', 'displayValue': None}, {'name': 'bBMRISubCollections', 'udn': 'BBMRI_SUB_COLLECTIONS', 'caption': 'Sub Collections', 'value': None, 'type': 'stringTextField', 'displayValue': None}, {'name': 'bBMRIIdCard', 'udn': 'BBMRI_ID_CARD', 'caption': 'ID Card', 'value': None, 'type': 'stringTextField', 'displayValue': None}, {'name': 'headTitle', 'udn': 'BBMRI_COLLECTION_HEAD_TITLE', 'caption': 'Head Title', 'value': None, 'type': 'stringTextField', 'displayValue': None}, {'name': 'headFirstname', 'udn': 'BBMRI_COLLECTION_HEAD_FIRSTNAME', 'caption': 'Head Firstname', 'value': 'Evangelia', 'type': 'stringTextField', 'displayValue': 'Evangelia'}, {'name': 'headLastname', 'udn': 'BBMRI_COLLECTION_HEAD_LASTNAME', 'caption': 'Head Lastname', 'value': 'Charmandari', 'type': 'stringTextField', 'displayValue': 'Charmandari'}, {'name': 'headTitleAfter', 'udn': 'BBMRI_COLLECTION_TITLE_AFTER', 'caption': 'Head Title After Name', 'value': None, 'type': 'stringTextField', 'displayValue': None}, {'name': 'headRole', 'udn': 'BBMRI_COLLECTION_HEAD_ROLE', 'caption': 'Head Role', 'value': 'PI', 'type': 'stringTextField', 'displayValue': 'PI'}, {'name': 'contactPriority', 'udn': 'BBMRI_COLLECTION_CONTACT_PRIORITY', 'caption': 'Contact Priority', 'value': '0', 'type': 'numberField', 'displayValue': '0'}, {'name': 'latitude', 'udn': 'BBMRI_COLLECTION_LATITUDE', 'caption': 'Latitude', 'value': None, 'type': 'numberField', 'displayValue': None}, {'name': 'longitude', 'udn': 'BBMRI_COLLECTION_LONGITUDE', 'caption': 'Longitude', 'value': None, 'type': 'numberField', 'displayValue': None}, {'name': 'contact', 'udn': 'BBMRI_COLLECTION_CONTACT', 'caption': 'Contact', 'value': None, 'type': 'stringTextField', 'displayValue': None}, {'name': 'bBMRICollectionSex', 'udn': 'BBMRI_COLLECTION_SEX', 'caption': 'Sex of the Probands in the Study.', 'value': ['Male', 'Female'], 'type': 'multiSelectListbox', 'displayValue': 'Male, Female'}, {'name': 'bBMRIDiagnosisAvailable', 'udn': 'BBMRI_COLLECTION_DIAGNOSIS_AVAILABLE', 'caption': 'Diagnosis Available', 'value': None, 'type': 'textArea', 'displayValue': None}, {'name': 'expectedAgeLow', 'udn': 'BBMRI_COLLECTION_EXP_AGE_LOW', 'caption': 'Expected Age Low', 'value': None, 'type': 'numberField', 'displayValue': None}, {'name': 'expectedAgeHigh', 'udn': 'BBMRI_COLLECTION_EXP_AGE_HIGH', 'caption': 'Expected Age High', 'value': None, 'type': 'numberField', 'displayValue': None}, {'name': 'AgeLow', 'udn': 'BBMRI_COLLECTION_AGE_LOW', 'caption': 'Age Low', 'value': '5', 'type': 'numberField', 'displayValue': '5'}, {'name': 'AgeHigh', 'udn': 'BBMRI_COLLECTION_AGE_HIGH', 'caption': 'Age High', 'value': '99', 'type': 'numberField', 'displayValue': '99'}, {'name': 'mIABISAgeUnit', 'udn': 'MIABIS_AGE_UNIT', 'caption': 'Age Unit', 'value': ['years'], 'type': 'multiSelectListbox', 'displayValue': 'years'}, {'name': 'bBMRICollectionBodyPartExaimed', 'udn': 'BBMRI_COLLECTION_BODY_PART_EXAIMED', 'caption': 'Body Part Exaimed', 'value': None, 'type': 'stringTextField', 'displayValue': None}, {'name': 'bBMRICollectionImagingModality', 'udn': 'BBMRI_COLLECTION_IMAGING_MODALITY', 'caption': 'Imaging Modality', 'value': None, 'type': 'stringTextField', 'displayValue': None}, {'name': 'bBMRICollectionImageDatasetType', 'udn': 'BBMRI_COLLECTION_IMAGE_DATASET_TYPE', 'caption': 'Image Dataset Type', 'value': None, 'type': 'stringTextField', 'displayValue': None}, {'name': 'bBMRICollectionMaterials', 'udn': 'BBMRI_COLLECTION_MATERIALS', 'caption': 'Materials', 'value': ['Plasma', 'Serum', 'DNA'], 'type': 'multiSelectListbox', 'displayValue': 'Plasma, Serum, DNA'}, {'name': 'bBMRIStorageTemperatures', 'udn': 'BBMRI_STORAGE_TEMPERATURES', 'caption': 'Storage temperatures', 'value': ['-60 to -85 degree Celsius'], 'type': 'multiSelectListbox', 'displayValue': '-60 to -85 degree Celsius'}, {'name': 'bBMRICollectionSampleAcessFee', 'udn': 'BBMRI_COLLECTION_SAMPLE_ACCESS_FEE', 'caption': 'Sample Access Fee', 'value': '0', 'type': 'booleanCheckbox', 'displayValue': 'No'}, {'name': 'bBMRICollectionSampleAccessJointProject', 'udn': 'BBMRI_COLLECTION_SAMPLE_ACCESS_JOINT_PROJECT', 'caption': 'Sample Acess Joint Project', 'value': '0', 'type': 'booleanCheckbox', 'displayValue': 'No'}, {'name': 'bBMRICollectionSampleAccessDescription', 'udn': 'BBMRI_COLLECTION_SAMPLE_ACCESS_DESCRIPTION', 'caption': 'Sample Acess Description', 'value': None, 'type': 'stringTextField', 'displayValue': None}, {'name': 'bBMRICollectionSampleAccessUri', 'udn': 'BBMRI_COLLECTION_SAMPLE_ACCESS_URI', 'caption': 'Sample Acess Uri', 'value': None, 'type': 'stringTextField', 'displayValue': None}, {'name': 'bBMRICollectionDataAcessFee', 'udn': 'BBMRI_COLLECTION_DATA_ACCESS_FEE', 'caption': 'Data Access Fee', 'value': '0', 'type': 'booleanCheckbox', 'displayValue': 'No'}, {'name': 'bBMRICollectionDataAccessJointProject', 'udn': 'BBMRI_COLLECTION_DATA_ACCESS_JOINT_PROJECT', 'caption': 'Data Acess Joint Project', 'value': '0', 'type': 'booleanCheckbox', 'displayValue': 'No'}, {'name': 'bBMRICollectionDataAccessDescription', 'udn': 'BBMRI_COLLECTION_DATA_ACCESS_DESCRIPTION', 'caption': 'Data Acess Description', 'value': None, 'type': 'stringTextField', 'displayValue': None}, {'name': 'bBMRICollectionDataAccessUri', 'udn': 'BBMRI_COLLECTION_DATA_ACCESS_URI', 'caption': 'Data Acess Uri', 'value': None, 'type': 'stringTextField', 'displayValue': None}, {'name': 'bBMRICollectionImageAcessFee', 'udn': 'BBMRI_COLLECTION_IMAGE_ACCESS_FEE', 'caption': 'Image Access Fee', 'value': '0', 'type': 'booleanCheckbox', 'displayValue': 'No'}, {'name': 'bBMRICollectionImageAccessJointProject', 'udn': 'BBMRI_COLLECTION_IMAGE_ACCESS_JOINT_PROJECT', 'caption': 'Image Acess Joint Project', 'value': '0', 'type': 'booleanCheckbox', 'displayValue': 'No'}, {'name': 'bBMRICollectionImageAccessDescription', 'udn': 'BBMRI_COLLECTION_IMAGE_ACCESS_DESCRIPTION', 'caption': 'Image Acess Description', 'value': None, 'type': 'stringTextField', 'displayValue': None}, {'name': 'bBMRICollectionImageAccessUri', 'udn': 'BBMRI_COLLECTION_IMAGE_ACCESS_URI', 'caption': 'Image Acess Uri', 'value': None, 'type': 'stringTextField', 'displayValue': None}, {'name': 'collaborationCommercial', 'udn': 'BBMRI_COLLECTION_COLLABORATION_COMERCIAL', 'caption': 'Collection Collaboration Comercial', 'value': '1', 'type': 'booleanCheckbox', 'displayValue': 'Yes'}, {'name': 'collaborationNonForProfit', 'udn': 'BBMRI_COLLECTION_COLLABORATION_NON_PROFIT', 'caption': 'Collaboration non for profit', 'value': '1', 'type': 'booleanCheckbox', 'displayValue': 'Yes'}, {'name': 'sampleProcessingSOP', 'udn': 'BBMRI_COLLECTION_SAMPLE_PROCESSING_SOP', 'caption': 'Sample Processing SOP', 'value': '0', 'type': 'booleanCheckbox', 'displayValue': 'No'}, {'name': 'sampleTransportSOP', 'udn': 'BBMRI_COLLECTION_SAMPLE_TRANSPORT_SOP', 'caption': 'Sample Transport SOP', 'value': '0', 'type': 'booleanCheckbox', 'displayValue': 'No'}, {'name': 'dataStorageSOP', 'udn': 'BBMRI_COLLECTION_SAMPLE_STORAGE_SOP', 'caption': 'Sample Storage SOP', 'value': '0', 'type': 'booleanCheckbox', 'displayValue': 'No'}, {'name': 'collectionDataProcessingSOP', 'udn': 'BBMRI_COLLECTION_DATA_PROCESSING_SOP', 'caption': 'Data Processing SOP', 'value': '0', 'type': 'booleanCheckbox', 'displayValue': 'No'}, {'name': 'collectionDataTransportSOP', 'udn': 'BBMRI_COLLECTION_DATA_TRANSPORT_SOP', 'caption': 'Data Transport SOP', 'value': '0', 'type': 'booleanCheckbox', 'displayValue': 'No'}, {'name': 'collectionDataStorageSOP', 'udn': 'BBMRI_COLLECTION_DATA_STORAGE_SOP', 'caption': 'Data Storage SOP', 'value': '0', 'type': 'booleanCheckbox', 'displayValue': 'No'}, {'name': 'CollectionQuality', 'udn': 'BBMRI_COLLECTION_QUALITY', 'caption': 'Quality', 'value': None, 'type': 'stringTextField', 'displayValue': None}, {'name': 'biobankLabel', 'udn': 'BBMRI_COLLECTION_BIOBANK_LABEL', 'caption': 'Biobank Label', 'value': None, 'type': 'stringTextField', 'displayValue': None}, {'name': 'CollectionAlsoKnown', 'udn': 'BBMRI_COLLECTION_ALSO_KNOWN', 'caption': 'Also Known', 'value': None, 'type': 'stringTextField', 'displayValue': None}], 'useUdn': False}, 'aliquotLabelFmtToUse': '%PSPEC_LABEL%_%PSPEC_UID%'}\n"
     ]
    }
   ],
   "source": [
    "#update CP at Target with fields set\n",
    "status = cp_tools_target.update_collection_protocol(cp_id_target, json.dumps(cp_target))\n",
    "print(status)"
   ]
  },
  {
   "cell_type": "code",
   "execution_count": 53,
   "metadata": {},
   "outputs": [
    {
     "name": "stdout",
     "output_type": "stream",
     "text": [
      "Index(['Identifier', 'Study Short Title', 'PPID', 'Registration Date',\n",
      "       'Registration Site', 'External Subject ID', 'Activity Status', 'Reason',\n",
      "       'First Name', 'Last Name', 'Middle Name', 'Birth Date', 'Death Date',\n",
      "       'Sex', 'Race#1', 'Vital Status', 'Ethnic Group#1',\n",
      "       'Personal Identification Number', 'eMPI', 'PMI#1#Site Name',\n",
      "       'PMI#1#MRN', 'MIABIS participant#Proband',\n",
      "       'MIABIS participant#Relation with Proband',\n",
      "       'MIABIS participant#Categories of data collected#1',\n",
      "       'MIABIS participant#Death Cause', 'MIABIS participant#Survey Data'],\n",
      "      dtype='object')\n",
      "                                      PPID OS_IMPORT_STATUS  \\\n",
      "0     71b0ffce-7e03-46da-97b4-65bed82d369f             FAIL   \n",
      "1     ac2987b6-3f16-40a5-be33-59810750fff4             FAIL   \n",
      "2     6e57de98-244d-4c8c-ae8e-f9665d7a0297             FAIL   \n",
      "3     94c16eb4-3fc9-4f56-8dd5-9c2eb20ecea0             FAIL   \n",
      "4     347eb46b-31db-40f2-8c86-b627c7692489             FAIL   \n",
      "...                                    ...              ...   \n",
      "3309  9526c7bc-1f2d-4c9f-8287-fa948d7d26be             FAIL   \n",
      "3310  551f62e4-7503-488d-bef1-8ab83c4a5301             FAIL   \n",
      "3311  5eb17362-ae48-4033-a1bf-c8e8fea08a00             FAIL   \n",
      "3312  65949acb-d5f3-451e-bdc1-399df27afa6d             FAIL   \n",
      "3313  7f74103d-2eff-4f20-a7f7-c58fbb38e351             FAIL   \n",
      "\n",
      "                                       OS_ERROR_MESSAGE  \n",
      "0                      Collection protocol is required.  \n",
      "1     Error parsing CSV record to object. Root cause...  \n",
      "2     Error parsing CSV record to object. Root cause...  \n",
      "3     Error parsing CSV record to object. Root cause...  \n",
      "4     Error parsing CSV record to object. Root cause...  \n",
      "...                                                 ...  \n",
      "3309  Error parsing CSV record to object. Root cause...  \n",
      "3310                   Collection protocol is required.  \n",
      "3311                   Collection protocol is required.  \n",
      "3312  Error parsing CSV record to object. Root cause...  \n",
      "3313                   Collection protocol is required.  \n",
      "\n",
      "[3314 rows x 3 columns]\n"
     ]
    }
   ],
   "source": [
    "#Open file from working dir and run upload\n",
    "##TODO: adding directory and name of the file\n",
    "print(export.columns)\n",
    "uplo=bulk_op.bulk_import(file=export.to_csv(index=False),\n",
    "                         filename='upload_cpr.csv', \n",
    "                         schemaname=sel_schema, \n",
    "                         operation=sel_op)\n",
    "print(uplo)"
   ]
  },
  {
   "cell_type": "code",
   "execution_count": 12,
   "metadata": {},
   "outputs": [
    {
     "name": "stdout",
     "output_type": "stream",
     "text": [
      "\n"
     ]
    },
    {
     "data": {
      "text/plain": [
       "''"
      ]
     },
     "execution_count": 12,
     "metadata": {},
     "output_type": "execute_result"
    }
   ],
   "source": []
  },
  {
   "cell_type": "code",
   "execution_count": 13,
   "metadata": {},
   "outputs": [
    {
     "name": "stdout",
     "output_type": "stream",
     "text": [
      "  Specimen Label OS_IMPORT_STATUS  OS_ERROR_MESSAGE\n",
      "0       Jupyter1          SUCCESS               NaN\n",
      "1       Jupyter3          SUCCESS               NaN\n",
      "2       Jupyter4          SUCCESS               NaN\n"
     ]
    }
   ],
   "source": [
    "# Update some Specimens (operation='UPDATE')\n",
    "upload_=pandas.read_csv('update_specimen.csv',index_col=False)\n",
    "uplo=bulk_op.bulk_import(file=upload_.to_csv(index=False),filename='upload_specimen.csv', schemaname=schema,operation='UPDATE')\n",
    "print(uplo)"
   ]
  },
  {
   "cell_type": "code",
   "execution_count": null,
   "metadata": {},
   "outputs": [],
   "source": []
  }
 ],
 "metadata": {
  "kernelspec": {
   "display_name": "Python 3",
   "language": "python",
   "name": "python3"
  },
  "language_info": {
   "codemirror_mode": {
    "name": "ipython",
    "version": 3
   },
   "file_extension": ".py",
   "mimetype": "text/x-python",
   "name": "python",
   "nbconvert_exporter": "python",
   "pygments_lexer": "ipython3",
   "version": "3.7.4"
  }
 },
 "nbformat": 4,
 "nbformat_minor": 4
}
