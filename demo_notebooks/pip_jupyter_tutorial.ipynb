{
 "cells": [
  {
   "cell_type": "markdown",
   "metadata": {},
   "source": [
    "# OpenSpecimenAPIconnector.py tutorial"
   ]
  },
  {
   "cell_type": "code",
   "execution_count": 1,
   "metadata": {
    "ExecuteTime": {
     "end_time": "2025-06-27T07:31:22.015236Z",
     "start_time": "2025-06-27T07:31:19.060647Z"
    }
   },
   "outputs": [],
   "source": [
    "%%capture\n",
    "# Install a pip package in the current Jupyter kernel\n",
    "\n",
    "import sys\n",
    "!{sys.executable} -m pip install --force-reinstall ../dist/OpenSpecimenAPIconnector-0.9.3-py3-none-any.whl\n",
    "!{sys.executable} -m pip install faker\n",
    "!{sys.executable} -m pip install names"
   ]
  },
  {
   "cell_type": "code",
   "execution_count": 2,
   "metadata": {
    "ExecuteTime": {
     "end_time": "2025-06-27T07:32:24.224229Z",
     "start_time": "2025-06-27T07:32:24.220468Z"
    }
   },
   "outputs": [],
   "source": [
    "%%capture\n",
    "#Creating ID-dict for deleting the Tutorial Data\n",
    "ID = {}"
   ]
  },
  {
   "cell_type": "code",
   "execution_count": 3,
   "metadata": {
    "ExecuteTime": {
     "end_time": "2025-06-27T07:31:22.609713Z",
     "start_time": "2025-06-27T07:31:22.187594Z"
    }
   },
   "outputs": [
    {
     "ename": "ImportError",
     "evalue": "\nA module that was compiled using NumPy 1.x cannot be run in\nNumPy 2.3.1 as it may crash. To support both 1.x and 2.x\nversions of NumPy, modules must be compiled with NumPy 2.0.\nSome module may need to rebuild instead e.g. with 'pybind11>=2.12'.\n\nIf you are a user of the module, the easiest solution will be to\ndowngrade to 'numpy<2' or try to upgrade the affected module.\nWe expect that some modules will need time to support NumPy 2.\n\n",
     "output_type": "error",
     "traceback": [
      "\u001b[0;31m---------------------------------------------------------------------------\u001b[0m",
      "\u001b[0;31mImportError\u001b[0m                               Traceback (most recent call last)",
      "File \u001b[0;32m~/anaconda3/lib/python3.12/site-packages/numpy/core/_multiarray_umath.py:46\u001b[0m, in \u001b[0;36m__getattr__\u001b[0;34m(attr_name)\u001b[0m\n\u001b[1;32m     41\u001b[0m     \u001b[38;5;66;03m# Also print the message (with traceback).  This is because old versions\u001b[39;00m\n\u001b[1;32m     42\u001b[0m     \u001b[38;5;66;03m# of NumPy unfortunately set up the import to replace (and hide) the\u001b[39;00m\n\u001b[1;32m     43\u001b[0m     \u001b[38;5;66;03m# error.  The traceback shouldn't be needed, but e.g. pytest plugins\u001b[39;00m\n\u001b[1;32m     44\u001b[0m     \u001b[38;5;66;03m# seem to swallow it and we should be failing anyway...\u001b[39;00m\n\u001b[1;32m     45\u001b[0m     sys\u001b[38;5;241m.\u001b[39mstderr\u001b[38;5;241m.\u001b[39mwrite(msg \u001b[38;5;241m+\u001b[39m tb_msg)\n\u001b[0;32m---> 46\u001b[0m     \u001b[38;5;28;01mraise\u001b[39;00m \u001b[38;5;167;01mImportError\u001b[39;00m(msg)\n\u001b[1;32m     48\u001b[0m ret \u001b[38;5;241m=\u001b[39m \u001b[38;5;28mgetattr\u001b[39m(_multiarray_umath, attr_name, \u001b[38;5;28;01mNone\u001b[39;00m)\n\u001b[1;32m     49\u001b[0m \u001b[38;5;28;01mif\u001b[39;00m ret \u001b[38;5;129;01mis\u001b[39;00m \u001b[38;5;28;01mNone\u001b[39;00m:\n",
      "\u001b[0;31mImportError\u001b[0m: \nA module that was compiled using NumPy 1.x cannot be run in\nNumPy 2.3.1 as it may crash. To support both 1.x and 2.x\nversions of NumPy, modules must be compiled with NumPy 2.0.\nSome module may need to rebuild instead e.g. with 'pybind11>=2.12'.\n\nIf you are a user of the module, the easiest solution will be to\ndowngrade to 'numpy<2' or try to upgrade the affected module.\nWe expect that some modules will need time to support NumPy 2.\n\n"
     ]
    },
    {
     "ename": "ImportError",
     "evalue": "\nA module that was compiled using NumPy 1.x cannot be run in\nNumPy 2.3.1 as it may crash. To support both 1.x and 2.x\nversions of NumPy, modules must be compiled with NumPy 2.0.\nSome module may need to rebuild instead e.g. with 'pybind11>=2.12'.\n\nIf you are a user of the module, the easiest solution will be to\ndowngrade to 'numpy<2' or try to upgrade the affected module.\nWe expect that some modules will need time to support NumPy 2.\n\n",
     "output_type": "error",
     "traceback": [
      "\u001b[0;31m---------------------------------------------------------------------------\u001b[0m",
      "\u001b[0;31mImportError\u001b[0m                               Traceback (most recent call last)",
      "File \u001b[0;32m~/anaconda3/lib/python3.12/site-packages/numpy/core/_multiarray_umath.py:46\u001b[0m, in \u001b[0;36m__getattr__\u001b[0;34m(attr_name)\u001b[0m\n\u001b[1;32m     41\u001b[0m     \u001b[38;5;66;03m# Also print the message (with traceback).  This is because old versions\u001b[39;00m\n\u001b[1;32m     42\u001b[0m     \u001b[38;5;66;03m# of NumPy unfortunately set up the import to replace (and hide) the\u001b[39;00m\n\u001b[1;32m     43\u001b[0m     \u001b[38;5;66;03m# error.  The traceback shouldn't be needed, but e.g. pytest plugins\u001b[39;00m\n\u001b[1;32m     44\u001b[0m     \u001b[38;5;66;03m# seem to swallow it and we should be failing anyway...\u001b[39;00m\n\u001b[1;32m     45\u001b[0m     sys\u001b[38;5;241m.\u001b[39mstderr\u001b[38;5;241m.\u001b[39mwrite(msg \u001b[38;5;241m+\u001b[39m tb_msg)\n\u001b[0;32m---> 46\u001b[0m     \u001b[38;5;28;01mraise\u001b[39;00m \u001b[38;5;167;01mImportError\u001b[39;00m(msg)\n\u001b[1;32m     48\u001b[0m ret \u001b[38;5;241m=\u001b[39m \u001b[38;5;28mgetattr\u001b[39m(_multiarray_umath, attr_name, \u001b[38;5;28;01mNone\u001b[39;00m)\n\u001b[1;32m     49\u001b[0m \u001b[38;5;28;01mif\u001b[39;00m ret \u001b[38;5;129;01mis\u001b[39;00m \u001b[38;5;28;01mNone\u001b[39;00m:\n",
      "\u001b[0;31mImportError\u001b[0m: \nA module that was compiled using NumPy 1.x cannot be run in\nNumPy 2.3.1 as it may crash. To support both 1.x and 2.x\nversions of NumPy, modules must be compiled with NumPy 2.0.\nSome module may need to rebuild instead e.g. with 'pybind11>=2.12'.\n\nIf you are a user of the module, the easiest solution will be to\ndowngrade to 'numpy<2' or try to upgrade the affected module.\nWe expect that some modules will need time to support NumPy 2.\n\n"
     ]
    },
    {
     "ename": "AttributeError",
     "evalue": "_ARRAY_API not found",
     "output_type": "error",
     "traceback": [
      "\u001b[0;31m---------------------------------------------------------------------------\u001b[0m",
      "\u001b[0;31mAttributeError\u001b[0m                            Traceback (most recent call last)",
      "\u001b[0;31mAttributeError\u001b[0m: _ARRAY_API not found"
     ]
    },
    {
     "ename": "ImportError",
     "evalue": "\nA module that was compiled using NumPy 1.x cannot be run in\nNumPy 2.3.1 as it may crash. To support both 1.x and 2.x\nversions of NumPy, modules must be compiled with NumPy 2.0.\nSome module may need to rebuild instead e.g. with 'pybind11>=2.12'.\n\nIf you are a user of the module, the easiest solution will be to\ndowngrade to 'numpy<2' or try to upgrade the affected module.\nWe expect that some modules will need time to support NumPy 2.\n\n",
     "output_type": "error",
     "traceback": [
      "\u001b[0;31m---------------------------------------------------------------------------\u001b[0m",
      "\u001b[0;31mImportError\u001b[0m                               Traceback (most recent call last)",
      "File \u001b[0;32m~/anaconda3/lib/python3.12/site-packages/numpy/core/_multiarray_umath.py:46\u001b[0m, in \u001b[0;36m__getattr__\u001b[0;34m(attr_name)\u001b[0m\n\u001b[1;32m     41\u001b[0m     \u001b[38;5;66;03m# Also print the message (with traceback).  This is because old versions\u001b[39;00m\n\u001b[1;32m     42\u001b[0m     \u001b[38;5;66;03m# of NumPy unfortunately set up the import to replace (and hide) the\u001b[39;00m\n\u001b[1;32m     43\u001b[0m     \u001b[38;5;66;03m# error.  The traceback shouldn't be needed, but e.g. pytest plugins\u001b[39;00m\n\u001b[1;32m     44\u001b[0m     \u001b[38;5;66;03m# seem to swallow it and we should be failing anyway...\u001b[39;00m\n\u001b[1;32m     45\u001b[0m     sys\u001b[38;5;241m.\u001b[39mstderr\u001b[38;5;241m.\u001b[39mwrite(msg \u001b[38;5;241m+\u001b[39m tb_msg)\n\u001b[0;32m---> 46\u001b[0m     \u001b[38;5;28;01mraise\u001b[39;00m \u001b[38;5;167;01mImportError\u001b[39;00m(msg)\n\u001b[1;32m     48\u001b[0m ret \u001b[38;5;241m=\u001b[39m \u001b[38;5;28mgetattr\u001b[39m(_multiarray_umath, attr_name, \u001b[38;5;28;01mNone\u001b[39;00m)\n\u001b[1;32m     49\u001b[0m \u001b[38;5;28;01mif\u001b[39;00m ret \u001b[38;5;129;01mis\u001b[39;00m \u001b[38;5;28;01mNone\u001b[39;00m:\n",
      "\u001b[0;31mImportError\u001b[0m: \nA module that was compiled using NumPy 1.x cannot be run in\nNumPy 2.3.1 as it may crash. To support both 1.x and 2.x\nversions of NumPy, modules must be compiled with NumPy 2.0.\nSome module may need to rebuild instead e.g. with 'pybind11>=2.12'.\n\nIf you are a user of the module, the easiest solution will be to\ndowngrade to 'numpy<2' or try to upgrade the affected module.\nWe expect that some modules will need time to support NumPy 2.\n\n"
     ]
    }
   ],
   "source": [
    "%%capture\n",
    "#import the packages which are needed\n",
    "import json\n",
    "import pandas\n",
    "import ipywidgets as widgets\n",
    "import faker\n",
    "from IPython.display import display"
   ]
  },
  {
   "cell_type": "markdown",
   "metadata": {},
   "source": [
    "### Importing the PIP-package as:"
   ]
  },
  {
   "cell_type": "code",
   "execution_count": 4,
   "metadata": {
    "ExecuteTime": {
     "end_time": "2025-06-27T07:31:22.785191Z",
     "start_time": "2025-06-27T07:31:22.621461Z"
    }
   },
   "outputs": [],
   "source": [
    "import OpenSpecimenAPIconnector as OSconn\n",
    "import OpenSpecimenAPIconnector.os_core as os_core\n",
    "import OpenSpecimenAPIconnector.os_util as os_util"
   ]
  },
  {
   "cell_type": "code",
   "execution_count": 5,
   "metadata": {
    "ExecuteTime": {
     "end_time": "2025-06-27T07:31:34.157875Z",
     "start_time": "2025-06-27T07:31:22.795727Z"
    }
   },
   "outputs": [
    {
     "name": "stdout",
     "output_type": "stream",
     "text": [
      "Fill in Openspecimen url (http(s)://<IP-Adress>:<port>) and press enter\n",
      "The whole URL for API Calls is: http://localhost:9000/openspecimen/rest/ng\n"
     ]
    }
   ],
   "source": [
    "# Setting the URL of the OpenSpecimen distribution\n",
    "# The URL of the Openspecimen\n",
    "print('Fill in Openspecimen url (http(s)://<IP-Adress>:<port>) and press enter')\n",
    "input_=input()\n",
    "if input_ == '':\n",
    "    base_url = 'http://localhost:9000'\n",
    "else:\n",
    "    base_url = input_\n",
    "base_url +='/openspecimen/rest/ng'\n",
    "print('The whole URL for API Calls is: ' + base_url)"
   ]
  },
  {
   "cell_type": "code",
   "execution_count": 6,
   "metadata": {
    "ExecuteTime": {
     "end_time": "2025-06-27T07:31:36.374164Z",
     "start_time": "2025-06-27T07:31:34.257026Z"
    }
   },
   "outputs": [
    {
     "name": "stdout",
     "output_type": "stream",
     "text": [
      "Loginname(admin):\n",
      "Password(Login@123):\n",
      "Your (loginname,password) is (admin,Login@123)\n"
     ]
    }
   ],
   "source": [
    "#Setting the login data, in particular (loginname, passwort)\n",
    "loginname='admin';\n",
    "password='Login@123'\n",
    "print('Loginname(admin):')\n",
    "input_=input()\n",
    "if input_ != '':\n",
    "    loginname=input_\n",
    "print('Password(Login@123):')\n",
    "input_=input()\n",
    "if input_ != '':\n",
    "    password=input_\n",
    "auth = (loginname, password)\n",
    "print('Your (loginname,password) is (' + str(loginname) + ',' +str(password) + ')')"
   ]
  },
  {
   "cell_type": "markdown",
   "metadata": {},
   "source": [
    "### Configuring the package with the Logindata\n",
    "If the logindata is wrong the next cell will throw an error, else everything is fine."
   ]
  },
  {
   "cell_type": "code",
   "execution_count": 7,
   "metadata": {
    "ExecuteTime": {
     "end_time": "2025-06-27T07:31:39.733878Z",
     "start_time": "2025-06-27T07:31:39.606924Z"
    }
   },
   "outputs": [],
   "source": [
    "OSconn.config_manager.set_login(url = base_url, auth = auth)"
   ]
  },
  {
   "cell_type": "markdown",
   "metadata": {},
   "source": [
    "## Creating a Specimen\n",
    "OpenSpecimen has an internal hierarchy. Precisely it is,\n",
    "**Institute>Site>Collection Protocol>Participant>Event>Visit>Specimen**.\n",
    "It is not possible to create a object from a lower instance without all the higher, except visit and specimen in on go. It is not possible for example to create a Site without an Institute."
   ]
  },
  {
   "cell_type": "markdown",
   "metadata": {},
   "source": [
    "### Institutes\n"
   ]
  },
  {
   "cell_type": "code",
   "execution_count": 8,
   "metadata": {
    "ExecuteTime": {
     "end_time": "2025-06-27T07:32:34.273035Z",
     "start_time": "2025-06-27T07:32:34.146562Z"
    }
   },
   "outputs": [
    {
     "name": "stdout",
     "output_type": "stream",
     "text": [
      "{'id': 37, 'name': 'Demo Institute', 'activityStatus': 'Active', 'usersCount': 0}\n"
     ]
    }
   ],
   "source": [
    "# initialize the institutes class\n",
    "institutes_util = os_util.institutes_util()\n",
    "response = institutes_util.create_institute(institutename = 'Demo Institute')\n",
    "ID['institute'] = response['id']\n",
    "print(response)"
   ]
  },
  {
   "cell_type": "markdown",
   "metadata": {},
   "source": [
    "#### Creating with the Core-package.\n",
    "One can also make the calls via the os_core package. This is more advanced, because the user has to know all the paramteres which can and have to be passed to OpenSpecimen. The advantage of this method is, if the OpenSpecimen distribution has custom forms, it is still useable without further programming. Else the new keywords have to be added to the classes.\n",
    "\n",
    "In the next cell it is shown how the core package can be used."
   ]
  },
  {
   "cell_type": "code",
   "execution_count": 9,
   "metadata": {},
   "outputs": [
    {
     "name": "stdout",
     "output_type": "stream",
     "text": [
      "{'id': 38, 'name': 'Demo Institute2', 'activityStatus': 'Active', 'usersCount': 0}\n"
     ]
    }
   ],
   "source": [
    "institutes = os_core.institutes()\n",
    "params = '{\\\"name\\\":\\\"Demo Institute2\\\"}'\n",
    "response = institutes.create_institute(params = params)\n",
    "ID['institute2'] = response['id']\n",
    "print(response)"
   ]
  },
  {
   "cell_type": "code",
   "execution_count": 10,
   "metadata": {},
   "outputs": [
    {
     "name": "stdout",
     "output_type": "stream",
     "text": [
      "[{'code': 'INSTITUTE_DUP_NAME', 'message': 'Institute with same name already exists.'}]\n"
     ]
    }
   ],
   "source": [
    "#The response should be Institute with same name already exists.\n",
    "params = '{\\\"name\\\":\\\"Demo Institute\\\"}'\n",
    "response = institutes.create_institute(params = params)\n",
    "print(response)"
   ]
  },
  {
   "cell_type": "markdown",
   "metadata": {},
   "source": [
    "### Site"
   ]
  },
  {
   "cell_type": "code",
   "execution_count": 11,
   "metadata": {},
   "outputs": [
    {
     "name": "stdout",
     "output_type": "stream",
     "text": [
      "{'opComments': None, 'id': 16, 'name': 'Demo Site', 'instituteName': 'Demo Institute', 'code': None, 'type': 'Not Specified', 'activityStatus': 'Active', 'cpCount': 0, 'coordinators': [], 'address': None, 'extensionDetail': None}\n"
     ]
    }
   ],
   "source": [
    "#Initialize sites\n",
    "site_util = os_util.site_util()\n",
    "response = site_util.create_sites(name = 'Demo Site', institutename = ' Demo Institute', type_ = 'not specified')\n",
    "ID['site']=response['id']\n",
    "print(response)"
   ]
  },
  {
   "cell_type": "code",
   "execution_count": 12,
   "metadata": {},
   "outputs": [],
   "source": [
    "csv_bulk = os_core.csv_bulk()\n",
    "\n",
    "df = csv_bulk.get_template(schemaname = 'cp')\n",
    "df = df[0]\n",
    "df.to_csv('/home/christoph/cp_template.csv', index = False)"
   ]
  },
  {
   "cell_type": "markdown",
   "metadata": {},
   "source": [
    "### Collection Protocol"
   ]
  },
  {
   "cell_type": "code",
   "execution_count": 13,
   "metadata": {
    "ExecuteTime": {
     "end_time": "2025-06-27T07:33:04.715506Z",
     "start_time": "2025-06-27T07:33:04.574153Z"
    }
   },
   "outputs": [
    {
     "name": "stdout",
     "output_type": "stream",
     "text": [
      "{'id': 6, 'shortTitle': 'Demo CP', 'title': 'Demo Collection Protocol', 'principalInvestigator': {'id': 2, 'type': 'SUPER', 'firstName': 'System', 'lastName': 'Administrator', 'loginName': 'admin', 'domain': 'openspecimen', 'emailAddress': 'admin@localhost', 'instituteId': 1, 'instituteName': 'Biobank Institute', 'admin': True, 'instituteAdmin': False, 'manageForms': False, 'manageWfs': True, 'cpCount': 0, 'activityStatus': 'Active'}, 'manualPpidEnabled': False, 'specimenCentric': False, 'draftMode': False, 'coordinators': [], 'cpSites': [{'id': 6, 'siteId': 16, 'siteName': 'Demo Site', 'code': None}], 'consentsWaived': False, 'manualVisitNameEnabled': False, 'manualSpecLabelEnabled': False, 'bulkPartRegEnabled': False, 'barcodingEnabled': False, 'closeParentSpecimens': False, 'labelSequenceKey': 'ID', 'visitCollectionMode': 'ALL_SPMNS', 'visitNamePrintMode': 'NONE', 'spmnLabelPrePrintMode': 'NONE', 'spmnLabelPrintSettings': [], 'distributionProtocols': [], 'activityStatus': 'Active', 'aliquotLabelFmtToUse': '%PSPEC_LABEL%_%PSPEC_UID%'}\n"
     ]
    }
   ],
   "source": [
    "#initialize\n",
    "collection_protocol_util = os_util.collection_protocol_util()\n",
    "response = collection_protocol_util.create_cp(short_title = 'Demo CP', title = 'Demo Collection Protocol', pi_mail = 'admin', pi_domain=\"openspecimen\", sites = ['Demo Site'])\n",
    "ID['cp'] = response['id']\n",
    "print(response)\n"
   ]
  },
  {
   "cell_type": "markdown",
   "metadata": {},
   "source": [
    "### Participant Registration"
   ]
  },
  {
   "cell_type": "code",
   "execution_count": 14,
   "metadata": {},
   "outputs": [
    {
     "name": "stdout",
     "output_type": "stream",
     "text": [
      "{'opComments': None, 'id': 5, 'participant': {'id': 5, 'source': 'OpenSpecimen', 'lastName': 'Sepp', 'races': [], 'pmis': [], 'ethnicities': [], 'activityStatus': 'Active', 'phiAccess': True, 'registeredCps': [], 'cpId': -1, 'reqRegInfo': False, 'forceDelete': False}, 'cpId': 6, 'cpTitle': 'Demo Collection Protocol', 'cpShortTitle': 'Demo CP', 'ppid': 'Demo Participant', 'barcode': None, 'activityStatus': 'Active', 'registrationDate': 1615939200000, 'externalSubjectId': None, 'site': None, 'consentDetails': None, 'specimenLabelFmt': None, 'aliquotLabelFmt': '%PSPEC_LABEL%_%PSPEC_UID%', 'derivativeLabelFmt': None, 'forceDelete': False}\n"
     ]
    }
   ],
   "source": [
    "#initialize\n",
    "cpr_util = os_util.cpr_util()\n",
    "\n",
    "response = cpr_util.create_registration(regdate = '2021-03-17', cpid = ID['cp'], ppid = \"Demo Participant\",lastname = \"Sepp\")\n",
    "ID['cpr'] = response['id'] #is needed afterwards\n",
    "ID['participant'] = response['participant']['id']\n",
    "print(response)\n"
   ]
  },
  {
   "cell_type": "markdown",
   "metadata": {},
   "source": [
    "### Event\n",
    "There are two different ways starting from here for creating a Specimens. The first one is to create an **event**, then a **visit** and last but not least the **specimen**. The other way is to create a **specimen** and a **visit** in one go. the first one, is  prefferable if the events are known before, beause it is easy to integrate in the workflow via the parameter **code** of the event."
   ]
  },
  {
   "cell_type": "code",
   "execution_count": 15,
   "metadata": {},
   "outputs": [
    {
     "name": "stdout",
     "output_type": "stream",
     "text": [
      "{'id': 2, 'eventLabel': 'Demo Label', 'eventPoint': 0, 'eventPointUnit': 'DAYS', 'cpId': 6, 'collectionProtocol': 'Demo Collection Protocol', 'cpShortTitle': 'Demo CP', 'defaultSite': 'Demo Site', 'clinicalDiagnosis': 'Not Specified', 'clinicalStatus': 'Not Specified', 'activityStatus': 'Active', 'offset': 0, 'offsetUnit': 'DAYS'}\n"
     ]
    }
   ],
   "source": [
    "#initialize\n",
    "cpevent_util = os_util.cpevent_util()\n",
    "\n",
    "response = cpevent_util.create_event(label = 'Demo Label', point = 0, cp = 'Demo Collection Protocol', \n",
    "                                     site = 'Demo Site', diagnosis = 'Not Specified', status = 'Not Specified',\n",
    "                                     activity = 'Active', unit = 'DAYS', code ='DemoEventCode')\n",
    "ID['event'] = response['id']\n",
    "print(response)"
   ]
  },
  {
   "cell_type": "markdown",
   "metadata": {},
   "source": [
    "### Visit"
   ]
  },
  {
   "cell_type": "code",
   "execution_count": 16,
   "metadata": {},
   "outputs": [
    {
     "name": "stdout",
     "output_type": "stream",
     "text": [
      "response\n"
     ]
    }
   ],
   "source": [
    "#initialize\n",
    "visit_util = os_util.visit_util()\n",
    "\n",
    "response = visit_util.add_visit(name = 'Demo Visit', site = 'Demo Site', cprid = ID['cpr'])\n",
    "ID['visit'] = response['id']\n",
    "print('response')"
   ]
  },
  {
   "cell_type": "markdown",
   "metadata": {},
   "source": [
    "### Specimen"
   ]
  },
  {
   "cell_type": "code",
   "execution_count": 17,
   "metadata": {},
   "outputs": [
    {
     "name": "stdout",
     "output_type": "stream",
     "text": [
      "{'opComments': None, 'id': 21, 'cpId': 6, 'cprId': 5, 'ppid': 'Demo Participant', 'eventId': None, 'eventCode': None, 'eventLabel': None, 'visitId': 8, 'visitName': 'Demo Visit', 'visitStatus': 'Complete', 'sprNo': None, 'visitDate': 1753189261000, 'cpShortTitle': 'Demo CP', 'reqId': None, 'sortOrder': None, 'label': 'Demo Specimen Label', 'barcode': None, 'type': 'Bile', 'specimenClass': 'Fluid', 'lineage': 'New', 'anatomicSite': 'Anal canal', 'laterality': 'Left', 'status': 'Collected', 'reqLabel': None, 'pathology': 'Malignant', 'initialQty': 10, 'availableQty': 10, 'concentration': None, 'parentId': None, 'parentLabel': None, 'storageLocation': {'id': -1, 'name': None, 'barcode': None, 'mode': None, 'positionX': None, 'positionY': None, 'position': None, 'reservationId': None}, 'storageType': None, 'collector': None, 'collectionContainer': None, 'collectionDate': None, 'storageSite': None, 'activityStatus': 'Active', 'createdOn': 1614556800000, 'createdBy': None, 'code': None, 'availabilityStatus': 'Available', 'freezeThawCycles': None, 'imageId': None, 'externalIds': [], 'labelAutoPrintMode': None, 'collectionEvent': {'opComments': None, 'id': 77, 'time': 1614556800000, 'user': {'id': 2, 'type': 'SUPER', 'firstName': 'System', 'lastName': 'Administrator', 'loginName': 'admin', 'domain': 'openspecimen', 'emailAddress': 'admin@localhost', 'instituteId': 1, 'instituteName': 'Biobank Institute', 'admin': True, 'instituteAdmin': False, 'manageForms': False, 'manageWfs': True, 'cpCount': 0, 'activityStatus': 'Active'}, 'comments': None, 'specimenLabel': None, 'specimenId': None, 'reason': None, 'procedure': 'Not Specified', 'container': 'Not Specified'}, 'receivedEvent': {'opComments': None, 'id': 78, 'time': 1614556800000, 'user': {'id': 2, 'type': 'SUPER', 'firstName': 'System', 'lastName': 'Administrator', 'loginName': 'admin', 'domain': 'openspecimen', 'emailAddress': 'admin@localhost', 'instituteId': 1, 'instituteName': 'Biobank Institute', 'admin': True, 'instituteAdmin': False, 'manageForms': False, 'manageWfs': True, 'cpCount': 0, 'activityStatus': 'Active'}, 'comments': None, 'specimenLabel': None, 'specimenId': None, 'reason': None, 'receivedQuality': 'Acceptable'}, 'labelFmt': None, 'biohazards': [], 'comments': None, 'children': [], 'specimensPool': None, 'pooledSpecimens': None, 'poolSpecimen': None, 'reqCode': None, 'extensionDetail': None, 'reserved': False, 'uid': None, 'parentUid': None, 'dpId': None}\n"
     ]
    }
   ],
   "source": [
    "#initialize\n",
    "specimen_util = os_util.specimen_util()\n",
    "\n",
    "response = specimen_util.create_specimen(specimenclass = 'Fluid', specimentype = 'Bile', pathology = 'Malignant', anatomic = 'Anal Canal',  \n",
    "                 laterality = 'Left', initqty = 10, avaqty =10, visitid = ID['visit'], recqlt = 'Acceptable', userid = 2,\n",
    "                 label = 'Demo Specimen Label', colltime = '2021-03-01', rectime = '2021-03-01')\n",
    "ID['specimen'] = response['id']\n",
    "print(response)"
   ]
  },
  {
   "cell_type": "markdown",
   "metadata": {},
   "source": [
    "### Visit and Specimen in one go"
   ]
  },
  {
   "cell_type": "code",
   "execution_count": 18,
   "metadata": {},
   "outputs": [
    {
     "name": "stdout",
     "output_type": "stream",
     "text": [
      "{'visit': {'id': 9, 'cpId': 6, 'name': 'Demo Visit 2', 'status': 'Complete', 'visitDate': 1753189261639, 'totalPendingSpmns': 0, 'pendingPrimarySpmns': 0, 'plannedPrimarySpmnsColl': 0, 'uncollectedPrimarySpmns': 0, 'unplannedPrimarySpmnsColl': 0, 'storedSpecimens': 0, 'notStoredSpecimens': 0, 'distributedSpecimens': 0, 'closedSpecimens': 0, 'cprId': 5, 'ppid': 'Demo Participant', 'cpTitle': 'Demo Collection Protocol', 'cpShortTitle': 'Demo CP', 'clinicalDiagnoses': [], 'diagnosisList': [], 'activityStatus': 'Active', 'site': 'Demo Site', 'sprLocked': False, 'forceDelete': False, 'description': 'Unplanned Visit / Demo Visit 2'}, 'specimens': [{'opComments': None, 'id': 22, 'cpId': 6, 'cprId': 5, 'ppid': 'Demo Participant', 'eventId': None, 'eventCode': None, 'eventLabel': None, 'visitId': 9, 'visitName': 'Demo Visit 2', 'visitStatus': 'Complete', 'sprNo': None, 'visitDate': 1753189261639, 'cpShortTitle': 'Demo CP', 'reqId': None, 'sortOrder': None, 'label': 'Demo SP Label', 'barcode': None, 'type': 'Bile', 'specimenClass': 'Fluid', 'lineage': 'New', 'anatomicSite': 'Anal canal', 'laterality': 'Not Specified', 'status': 'Collected', 'reqLabel': None, 'pathology': 'Malignant', 'initialQty': 10, 'availableQty': 10, 'concentration': None, 'parentId': None, 'parentLabel': None, 'storageLocation': {'id': -1, 'name': None, 'barcode': None, 'mode': None, 'positionX': None, 'positionY': None, 'position': None, 'reservationId': None}, 'storageType': None, 'collector': None, 'collectionContainer': None, 'collectionDate': None, 'storageSite': None, 'activityStatus': 'Active', 'createdOn': 1614556800000, 'createdBy': None, 'code': None, 'availabilityStatus': 'Available', 'freezeThawCycles': None, 'imageId': None, 'externalIds': [], 'labelAutoPrintMode': None, 'collectionEvent': {'opComments': None, 'id': 79, 'time': 1614556800000, 'user': {'id': 2, 'type': 'SUPER', 'firstName': 'System', 'lastName': 'Administrator', 'loginName': 'admin', 'domain': 'openspecimen', 'emailAddress': 'admin@localhost', 'instituteId': 1, 'instituteName': 'Biobank Institute', 'admin': True, 'instituteAdmin': False, 'manageForms': False, 'manageWfs': True, 'cpCount': 0, 'activityStatus': 'Active'}, 'comments': None, 'specimenLabel': None, 'specimenId': None, 'reason': None, 'procedure': 'Not Specified', 'container': 'Not Specified'}, 'receivedEvent': {'opComments': None, 'id': 80, 'time': 1614556800000, 'user': {'id': 2, 'type': 'SUPER', 'firstName': 'System', 'lastName': 'Administrator', 'loginName': 'admin', 'domain': 'openspecimen', 'emailAddress': 'admin@localhost', 'instituteId': 1, 'instituteName': 'Biobank Institute', 'admin': True, 'instituteAdmin': False, 'manageForms': False, 'manageWfs': True, 'cpCount': 0, 'activityStatus': 'Active'}, 'comments': None, 'specimenLabel': None, 'specimenId': None, 'reason': None, 'receivedQuality': 'Acceptable'}, 'labelFmt': None, 'biohazards': [], 'comments': None, 'children': [], 'specimensPool': None, 'pooledSpecimens': None, 'poolSpecimen': None, 'reqCode': None, 'extensionDetail': None, 'reserved': False, 'uid': None, 'parentUid': None, 'dpId': None}]}\n"
     ]
    }
   ],
   "source": [
    "response = visit_util.add_visit_speci(name = 'Demo Visit 2', lineage = 'New', av_qty = 10, user = 2, init_qty =10,\n",
    "                                      spec_class = 'Fluid', spec_type = 'Bile', anat_site = 'Anal Canal', \n",
    "                                      path = 'Malignant', site = 'Demo Site', speclabel = 'Demo SP Label',\n",
    "                                      cpid =ID['cp'], ppid = 'Demo PPID2', cprid = ID['cpr'], \n",
    "                                      colltime = '2021-03-01', rectime = '2021-03-01')\n",
    "ID['visit2']=response['visit']['id']\n",
    "ID['specimen2']=response['specimens'][0]['id']\n",
    "print(response)"
   ]
  },
  {
   "cell_type": "markdown",
   "metadata": {},
   "source": [
    " ## Removing the Tutorial Data"
   ]
  },
  {
   "cell_type": "code",
   "execution_count": 19,
   "metadata": {},
   "outputs": [
    {
     "name": "stdout",
     "output_type": "stream",
     "text": [
      "Press enter to remove the Tutorial Data. If you like to keep it and delete it manually write anything.\n"
     ]
    }
   ],
   "source": [
    "#Ask if the user wants to remove the data\n",
    "print('Press enter to remove the Tutorial Data. If you like to keep it and delete it manually write anything.')\n",
    "input_ =input()\n",
    "if input_ =='':\n",
    "    specimen_util.delete_specimens([ID['specimen'],ID['specimen2']])\n",
    "    visit = os_core.visit()\n",
    "    visit.delete_visit(ID['visit'])\n",
    "    visit.delete_visit(ID['visit2'])\n",
    "    event = os_core.collection_protocol_event()\n",
    "    event.delete_event(ID['event'])\n",
    "    cpr = os_core.collection_protocol_registration()\n",
    "    cpr.delete_participant(ID['cpr'])\n",
    "    cp = os_core.collection_protocol()\n",
    "    cp.delete_collection_protocol(ID['cp'])\n",
    "    site = os_core.sites()\n",
    "    site.delete_sites(ID['site'])\n",
    "    institutes.delete_institute(ID['institute'])\n",
    "    institutes.delete_institute(ID['institute2'])"
   ]
  }
 ],
 "metadata": {
  "file_extension": ".py",
  "kernelspec": {
   "display_name": "base",
   "language": "python",
   "name": "python3"
  },
  "language_info": {
   "codemirror_mode": {
    "name": "ipython",
    "version": 3
   },
   "file_extension": ".py",
   "mimetype": "text/x-python",
   "name": "python",
   "nbconvert_exporter": "python",
   "pygments_lexer": "ipython3",
   "version": "3.12.7"
  },
  "mimetype": "text/x-python",
  "name": "python",
  "npconvert_exporter": "python",
  "pygments_lexer": "ipython3",
  "version": 3
 },
 "nbformat": 4,
 "nbformat_minor": 2
}
