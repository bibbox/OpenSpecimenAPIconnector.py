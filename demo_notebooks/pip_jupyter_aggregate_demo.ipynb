{
 "cells": [
  {
   "cell_type": "code",
   "execution_count": 1,
   "metadata": {
    "scrolled": true
   },
   "outputs": [
    {
     "name": "stdout",
     "output_type": "stream",
     "text": [
      "Requirement already satisfied: faker in /home/simon/anaconda3/envs/OP_api/lib/python3.6/site-packages (4.14.0)\n",
      "Requirement already satisfied: text-unidecode==1.3 in /home/simon/anaconda3/envs/OP_api/lib/python3.6/site-packages (from faker) (1.3)\n",
      "Requirement already satisfied: python-dateutil>=2.4 in /home/simon/.local/lib/python3.6/site-packages (from faker) (2.8.1)\n",
      "Requirement already satisfied: six>=1.5 in /home/simon/.local/lib/python3.6/site-packages (from python-dateutil>=2.4->faker) (1.13.0)\n",
      "Requirement already satisfied: names in /home/simon/anaconda3/envs/OP_api/lib/python3.6/site-packages (0.3.0)\n",
      "Found existing installation: OpenSpecimenAPIconnector 0.9.1\n",
      "Uninstalling OpenSpecimenAPIconnector-0.9.1:\n",
      "  Successfully uninstalled OpenSpecimenAPIconnector-0.9.1\n",
      "Processing ./dist/OpenSpecimenAPIconnector-0.9.1-py3-none-any.whl\n",
      "Requirement already satisfied: names in /home/simon/anaconda3/envs/OP_api/lib/python3.6/site-packages (from OpenSpecimenAPIconnector==0.9.1) (0.3.0)\n",
      "Requirement already satisfied: openpyxl in /home/simon/anaconda3/envs/OP_api/lib/python3.6/site-packages (from OpenSpecimenAPIconnector==0.9.1) (3.0.6)\n",
      "Requirement already satisfied: pandas in /home/simon/anaconda3/envs/OP_api/lib/python3.6/site-packages (from OpenSpecimenAPIconnector==0.9.1) (1.1.3)\n",
      "Requirement already satisfied: xlsxwriter in /home/simon/anaconda3/envs/OP_api/lib/python3.6/site-packages (from OpenSpecimenAPIconnector==0.9.1) (1.3.7)\n",
      "Requirement already satisfied: requests in /home/simon/.local/lib/python3.6/site-packages (from OpenSpecimenAPIconnector==0.9.1) (2.22.0)\n",
      "Requirement already satisfied: numpy in /home/simon/anaconda3/envs/OP_api/lib/python3.6/site-packages (from OpenSpecimenAPIconnector==0.9.1) (1.19.2)\n",
      "Requirement already satisfied: faker in /home/simon/anaconda3/envs/OP_api/lib/python3.6/site-packages (from OpenSpecimenAPIconnector==0.9.1) (4.14.0)\n",
      "Requirement already satisfied: et-xmlfile in /home/simon/anaconda3/envs/OP_api/lib/python3.6/site-packages (from openpyxl->OpenSpecimenAPIconnector==0.9.1) (1.0.1)\n",
      "Requirement already satisfied: jdcal in /home/simon/anaconda3/envs/OP_api/lib/python3.6/site-packages (from openpyxl->OpenSpecimenAPIconnector==0.9.1) (1.4.1)\n",
      "Requirement already satisfied: python-dateutil>=2.7.3 in /home/simon/.local/lib/python3.6/site-packages (from pandas->OpenSpecimenAPIconnector==0.9.1) (2.8.1)\n",
      "Requirement already satisfied: pytz>=2017.2 in /home/simon/anaconda3/envs/OP_api/lib/python3.6/site-packages (from pandas->OpenSpecimenAPIconnector==0.9.1) (2020.1)\n",
      "Requirement already satisfied: chardet<3.1.0,>=3.0.2 in /home/simon/.local/lib/python3.6/site-packages (from requests->OpenSpecimenAPIconnector==0.9.1) (3.0.4)\n",
      "Requirement already satisfied: certifi>=2017.4.17 in /home/simon/.local/lib/python3.6/site-packages (from requests->OpenSpecimenAPIconnector==0.9.1) (2019.11.28)\n",
      "Requirement already satisfied: urllib3!=1.25.0,!=1.25.1,<1.26,>=1.21.1 in /home/simon/.local/lib/python3.6/site-packages (from requests->OpenSpecimenAPIconnector==0.9.1) (1.25.7)\n",
      "Requirement already satisfied: idna<2.9,>=2.5 in /home/simon/.local/lib/python3.6/site-packages (from requests->OpenSpecimenAPIconnector==0.9.1) (2.8)\n",
      "Requirement already satisfied: text-unidecode==1.3 in /home/simon/anaconda3/envs/OP_api/lib/python3.6/site-packages (from faker->OpenSpecimenAPIconnector==0.9.1) (1.3)\n",
      "Requirement already satisfied: six>=1.5 in /home/simon/.local/lib/python3.6/site-packages (from python-dateutil>=2.7.3->pandas->OpenSpecimenAPIconnector==0.9.1) (1.13.0)\n",
      "Installing collected packages: OpenSpecimenAPIconnector\n",
      "Successfully installed OpenSpecimenAPIconnector-0.9.1\n"
     ]
    }
   ],
   "source": [
    "# import packages\n",
    "!pip install faker\n",
    "!pip install names\n",
    "!pip uninstall -y dist/OpenSpecimenAPIconnector-0.9.1-py3-none-any.whl\n",
    "!pip install dist/OpenSpecimenAPIconnector-0.9.1-py3-none-any.whl\n",
    "\n",
    "import json\n",
    "import pandas as pd\n",
    "import faker\n",
    "import os\n",
    "from IPython.display import display\n",
    "import requests\n",
    "import random\n",
    "import ipywidgets as wid\n",
    "import numpy as np"
   ]
  },
  {
   "cell_type": "code",
   "execution_count": 2,
   "metadata": {
    "scrolled": false
   },
   "outputs": [],
   "source": [
    "import OpenSpecimenAPIconnector as OSconn\n",
    "import OpenSpecimenAPIconnector.os_core as os_core\n",
    "import OpenSpecimenAPIconnector.os_util as os_util\n",
    "import OpenSpecimenAPIconnector.mg_core as mg_core\n",
    "import OpenSpecimenAPIconnector.mg_util as mg_util"
   ]
  },
  {
   "cell_type": "code",
   "execution_count": 3,
   "metadata": {},
   "outputs": [],
   "source": [
    "def csv_download_link(df, csv_file_name, delete_prompt=False):\n",
    "    \"\"\"Display a download link to load a data frame as csv from within a Jupyter notebook\"\"\"\n",
    "    from IPython.core.display import display, HTML\n",
    "    link = \"http://localhost:8888/edit/work/\" + csv_file_name\n",
    "    df.to_csv(csv_file_name, index=False)\n",
    "    text = \"Download/Edit \" + csv_file_name\n",
    "    display(HTML(\"<a href={} target=_blank>{}</a>\".format(link, text)))\n",
    "   \n",
    "    if delete_prompt:\n",
    "        a = input('Press enter to delete the file after you have downloaded it.')\n",
    "        import os\n",
    "        os.remove(csv_file_name)"
   ]
  },
  {
   "cell_type": "code",
   "execution_count": 4,
   "metadata": {},
   "outputs": [],
   "source": [
    "ALL = 'ALL'\n",
    "def unique_sorted_values_plus_ALL(array):\n",
    "    unique = array.unique().tolist()\n",
    "    unique.sort()\n",
    "    unique.insert(0, ALL)\n",
    "    return unique\n",
    "\n",
    "def common_filtering(year, purpose):\n",
    "    output.clear_output()\n",
    "    \n",
    "    if (year == ALL) & (purpose == ALL):\n",
    "        common_filter = df_london\n",
    "    elif (year == ALL):\n",
    "        common_filter = df_london[df_london.purpose == purpose]\n",
    "    elif (purpose == ALL):\n",
    "        common_filter = df_london[df_london.year == year]\n",
    "    else:\n",
    "        common_filter = df_london[(df_london.year == year) & \n",
    "                                  (df_london.purpose == purpose)]\n",
    "    \n",
    "    with output:\n",
    "        display(common_filter)\n",
    "\n",
    "def dropdown_year_eventhandler(change):\n",
    "    common_filtering(change.new, dropdown_purpose.value)\n",
    "\n",
    "def dropdown_purpose_eventhandler(change):\n",
    "    common_filtering(dropdown_year.value, change.new)"
   ]
  },
  {
   "cell_type": "code",
   "execution_count": 5,
   "metadata": {},
   "outputs": [],
   "source": [
    "def multi_checkbox_widget(options_dict):\n",
    "    \"\"\" Widget with a search field and lots of checkboxes \"\"\"\n",
    "    search_widget = wid.Text()\n",
    "    output_widget = wid.Output()\n",
    "    options = [x for x in options_dict.values()]\n",
    "    options_layout = wid.Layout(\n",
    "        overflow='auto',\n",
    "        border='1px solid black',\n",
    "        width='300px',\n",
    "        height='300px',\n",
    "        flex_flow='column',\n",
    "        display='flex'\n",
    "    )\n",
    "    \n",
    "    #selected_widget = wid.Box(children=[options[0]])\n",
    "    options_widget = wid.VBox(options, layout=options_layout)\n",
    "    #left_widget = wid.VBox(search_widget, selected_widget)\n",
    "    multi_select = wid.VBox([search_widget, options_widget])\n",
    "\n",
    "    @output_widget.capture()\n",
    "    def on_checkbox_change(change):\n",
    "        \n",
    "        selected_recipe = change[\"owner\"].description\n",
    "        #print(options_widget.children)\n",
    "        #selected_item = wid.Button(description = change[\"new\"])\n",
    "        #selected_widget.children = [] #selected_widget.children + [selected_item]\n",
    "        options_widget.children = sorted([x for x in options_widget.children], key = lambda x: x.value, reverse = True)\n",
    "        \n",
    "    for checkbox in options:\n",
    "        checkbox.observe(on_checkbox_change, names=\"value\")\n",
    "\n",
    "    # Wire the search field to the checkboxes\n",
    "    @output_widget.capture()\n",
    "    def on_text_change(change):\n",
    "        search_input = change['new']\n",
    "        if search_input == '':\n",
    "            # Reset search field\n",
    "            new_options = sorted(options, key = lambda x: x.value, reverse = True)\n",
    "        else:\n",
    "            # Filter by search field using difflib.\n",
    "            #close_matches = difflib.get_close_matches(search_input, list(options_dict.keys()), cutoff=0.0)\n",
    "            close_matches = [x for x in list(options_dict.keys()) if str.lower(search_input.strip('')) in str.lower(x)]\n",
    "            new_options = sorted(\n",
    "                [x for x in options if x.description in close_matches], \n",
    "                key = lambda x: x.value, reverse = True\n",
    "            ) #[options_dict[x] for x in close_matches]\n",
    "        options_widget.children = new_options\n",
    "\n",
    "    search_widget.observe(on_text_change, names='value')\n",
    "    display(output_widget)\n",
    "    return multi_select"
   ]
  },
  {
   "cell_type": "code",
   "execution_count": 6,
   "metadata": {},
   "outputs": [],
   "source": [
    "def display_search_select_box(cps_dict):\n",
    "    descriptions = [key for key in  cps_dict.keys()]\n",
    "\n",
    "    options_dict = {\n",
    "        x: wid.Checkbox(\n",
    "            description=x, \n",
    "            value=False,\n",
    "            style={\"description_width\":\"0px\"}\n",
    "        ) for x in descriptions\n",
    "    }\n",
    "\n",
    "    def f(**args):\n",
    "\n",
    "        results = [key for key, value in args.items() if value]\n",
    "        display(results)\n",
    "\n",
    "    ui = multi_checkbox_widget(options_dict)\n",
    "    out = wid.interactive_output(f, options_dict)\n",
    "    display(wid.HBox([ui, out]))\n",
    "    return ui"
   ]
  },
  {
   "cell_type": "code",
   "execution_count": 7,
   "metadata": {
    "scrolled": true
   },
   "outputs": [
    {
     "name": "stdout",
     "output_type": "stream",
     "text": [
      "Fill in Openspecimen url (http(s)://<IP-Adress>:<port>) and press enter\n",
      "The whole URL for API Calls is: http://biobank-7-2.silicolab.bibbox.org/openspecimen/rest/ng\n",
      "Loginname of the user:\n",
      "Password of the user:\n",
      "False\n",
      "http://biobank-7-2.silicolab.bibbox.org/openspecimen/rest/ng\n",
      "('admin', 'Login@123')\n"
     ]
    }
   ],
   "source": [
    "# The URL of the Openspecimen\n",
    "print('Fill in Openspecimen url (http(s)://<IP-Adress>:<port>) and press enter')\n",
    "base_url= 'http://biobank-7-2.silicolab.bibbox.org' \n",
    "base_url+='/openspecimen/rest/ng'\n",
    "print('The whole URL for API Calls is: ' + base_url)\n",
    "\n",
    "# Loginname and Pasword of the API-User, recommended is an extra API User\n",
    "print('Loginname of the user:')\n",
    "loginname='admin'#input() \n",
    "print('Password of the user:')\n",
    "password='Login@123'#input()\n",
    "\n",
    "auth = (loginname, password)\n",
    "# Setting the login data for the given Openspecimen instance\n",
    "OSconn.config_manager.set_login(base_url, auth)\n",
    "print(OSconn.config_manager.set_token)\n",
    "print(OSconn.config_manager.get_url())\n",
    "print(OSconn.config_manager.get_auth())\n",
    "# trying to set the login data again will produce an error except the reset Parameters is set to true\n",
    "# OSconn.config_manager.set_login(base_url, auth) # will produce assertion error\n",
    "# OSconn.config_manager.set_login(base_url, auth, reset=True) will work"
   ]
  },
  {
   "cell_type": "markdown",
   "metadata": {},
   "source": [
    "The next step is to choose the entity which will be created or updated. The following schemas are in Openspecimen available: (Name, openspecimen entity). One have to write the openspecimen entity. ('Collection Protocol', 'cp') ('Collection Protocol Registration', 'cpr') ('User', 'user') ('User Roles', 'userRoles') ('Site', 'site') ('Shipments', 'shipment') ('Institute', 'institute') ('Distribution Protocol Requirement', 'dpRequirement') ('Distribution Protocol', 'distributionProtocol') ('Distribution Order', 'distributionOrder') ('Containers', 'storageContainer') ('Container Type', 'storagecontainerType') ('Container Shipment', 'containerShipment') ('Collection Protocol Event', 'cpe') ('Master Specimen', 'masterSpecimen') ('Participant', 'participant') ('Specimen Requirement', 'sr') ('Visit', 'visit') ('Specimen Aliquot', 'specimenAliquot') ('Specimen Derivate', 'specimenDerivative') ('Specimen Disposal', 'specimenDisposal') ('Consent', 'consent')"
   ]
  },
  {
   "cell_type": "code",
   "execution_count": 8,
   "metadata": {},
   "outputs": [
    {
     "name": "stdout",
     "output_type": "stream",
     "text": [
      "Choose your Entity:\n"
     ]
    },
    {
     "data": {
      "application/vnd.jupyter.widget-view+json": {
       "model_id": "4e227ec5114f4101b4891e9fbe09aaab",
       "version_major": 2,
       "version_minor": 0
      },
      "text/plain": [
       "Dropdown(description='Entity:', options=((), ('Collection Protocol', 'cp'), ('Specimen', 'specimen'), ('Collec…"
      ]
     },
     "metadata": {},
     "output_type": "display_data"
    },
    {
     "name": "stdout",
     "output_type": "stream",
     "text": [
      "Choose Operation:\n"
     ]
    },
    {
     "data": {
      "application/vnd.jupyter.widget-view+json": {
       "model_id": "3e60cda2a35a43749f02dc9849075863",
       "version_major": 2,
       "version_minor": 0
      },
      "text/plain": [
       "Dropdown(description='Operation:', options=('CREATE', 'UPDATE'), value='CREATE')"
      ]
     },
     "metadata": {},
     "output_type": "display_data"
    }
   ],
   "source": [
    "schema=wid.Dropdown(\n",
    "    options= [(), ('Collection Protocol', 'cp'), ('Specimen', 'specimen'), ('Collection Protocol Registration', 'cpr'),\n",
    "              ('User', 'user'), ('User Roles', 'userRoles'), ('Site', 'site'), ('Shipments', 'shipment'), \n",
    "              ('Institute', 'institute'), ('Distribution Protocol Requirement', 'dpRequirement'), \n",
    "              ('Distribution Protocol', 'distributionProtocol'), ('Distribution Order', 'distributionOrder'), \n",
    "              ('Containers', 'storageContainer'), ('Container Type', 'storagecontainerType'),\n",
    "              ('Container Shipment', 'containerShipment'), ('Collection Protocol Event', 'cpe'),\n",
    "              ('Master Specimen', 'masterSpecimen'), ('Participant', 'participant'), ('Specimen Requirement', 'sr'),\n",
    "              ('Visit', 'visit'), ('Specimen Aliquot', 'specimenAliquot'), \n",
    "              ('Specimen Derivate', 'specimenDerivative'),('Specimen Disposal', 'specimenDisposal'),\n",
    "              ('Consent', 'consent')],\n",
    "    value=(),\n",
    "    description='Entity:')\n",
    "\n",
    "operation = wid.Dropdown(\n",
    "    options = [\"CREATE\",  'UPDATE'],\n",
    "              value=\"CREATE\",\n",
    "              description='Operation:')\n",
    "\n",
    "sel_schema = schema.value\n",
    "def change_value_schema(change):\n",
    "    global sel_schema\n",
    "    if change.new:\n",
    "        sel_schema = change.new[1]\n",
    "    else: sel_schema = None\n",
    "\n",
    "op = operation.value\n",
    "def change_value_op(change):\n",
    "    global op\n",
    "    if change.new:\n",
    "        op = change.new\n",
    "    else: op = None\n",
    "\n",
    "schema.observe(change_value_schema, names=\"value\")\n",
    "operation.observe(change_value_op, names=\"value\")\n",
    "\n",
    "print('Choose your Entity:')\n",
    "display(schema)\n",
    "# operation is only needed for csv import not for aggregating fields\n",
    "print('Choose Operation:')\n",
    "display(operation)"
   ]
  },
  {
   "cell_type": "code",
   "execution_count": 9,
   "metadata": {},
   "outputs": [
    {
     "name": "stdout",
     "output_type": "stream",
     "text": [
      "Selected Schema:  cpr\n",
      "Selected Operation:  CREATE\n"
     ]
    }
   ],
   "source": [
    "print(\"Selected Schema: \", sel_schema)\n",
    "print(\"Selected Operation: \", op)\n",
    "\n",
    "#initialize csv_bulk, bulk_operations and CSV_exporter\n",
    "csv_files= os_core.csv_bulk()\n",
    "bulk_op= os_util.bulk_operations()\n",
    "csv_export = os_util.Export_OP()"
   ]
  },
  {
   "cell_type": "code",
   "execution_count": 10,
   "metadata": {},
   "outputs": [],
   "source": [
    "# get necessary cp information\n",
    "cp_tools = os_core.collection_protocol()\n",
    "\n",
    "# get cp info and wirte a dict in order to simplify the api output\n",
    "cps = cp_tools.get_all_collection_protocols()\n",
    "cps_dict = {}\n",
    "for i, item in enumerate(cps):\n",
    "    # print(\"Cp Title:\")\n",
    "    # print(item[\"title\"])\n",
    "    # print(\"Cp ID: \",item[\"id\"], \"\\n\")\n",
    "    cps_dict[item[\"title\"]] = item[\"id\"]"
   ]
  },
  {
   "cell_type": "code",
   "execution_count": 11,
   "metadata": {},
   "outputs": [
    {
     "data": {
      "application/vnd.jupyter.widget-view+json": {
       "model_id": "f35c8ef30abe4f1f9bfbe63a75d2b13c",
       "version_major": 2,
       "version_minor": 0
      },
      "text/plain": [
       "Output()"
      ]
     },
     "metadata": {},
     "output_type": "display_data"
    },
    {
     "data": {
      "application/vnd.jupyter.widget-view+json": {
       "model_id": "6d585b147a0e4fd2a9937487e22d9482",
       "version_major": 2,
       "version_minor": 0
      },
      "text/plain": [
       "HBox(children=(VBox(children=(Text(value=''), VBox(children=(Checkbox(value=False, description='Main collectio…"
      ]
     },
     "metadata": {},
     "output_type": "display_data"
    }
   ],
   "source": [
    "# choose target CP / Check if matching is correct; ui is needed for output\n",
    "\n",
    "ui = display_search_select_box(cps_dict)"
   ]
  },
  {
   "cell_type": "code",
   "execution_count": 12,
   "metadata": {
    "scrolled": false
   },
   "outputs": [
    {
     "name": "stdout",
     "output_type": "stream",
     "text": [
      "CP ids selected for further usage:  [17, 18]\n",
      "\n",
      "Age high:  90.0\n",
      "Age low:  6.0\n",
      "Age mean:  47.87386843693422\n",
      "Age high:  90.0\n",
      "Age low:  6.0\n",
      "Age mean:  48.277190332326285\n",
      "Aggregation sucessfull\n"
     ]
    }
   ],
   "source": [
    "# get selected cp_ids\n",
    "cp_ids = []\n",
    "selected_options = [widget.description for widget in ui.children[1].children if widget.value]\n",
    "for item in selected_options:\n",
    "    cp_ids.append(cps_dict[item])\n",
    "\n",
    "print(\"CP ids selected for further usage: \", cp_ids)\n",
    "print()\n",
    "\n",
    "#cp_tools = os_core.collection_protocol()\n",
    "#test = cp_tools.get_cp_def(cp_ids[0])\n",
    "#test2 = cp_tools.get_collection_protocol(cp_ids[0])\n",
    "#r1 = cp_tools.update_collection_protocol(cp_ids[0], json.dumps(test))\n",
    "#r2 = cp_tools.update_collection_protocol(cp_ids[0], json.dumps(test2))\n",
    "\n",
    "aggregator = os_util.aggregator()\n",
    "aggregator.run_aggregation(sel_schema, cp_ids)"
   ]
  },
  {
   "cell_type": "code",
   "execution_count": null,
   "metadata": {},
   "outputs": [],
   "source": []
  }
 ],
 "metadata": {
  "file_extension": ".py",
  "kernelspec": {
   "display_name": "Python 3",
   "language": "python",
   "name": "python3"
  },
  "language_info": {
   "codemirror_mode": {
    "name": "ipython",
    "version": 3
   },
   "file_extension": ".py",
   "mimetype": "text/x-python",
   "name": "python",
   "nbconvert_exporter": "python",
   "pygments_lexer": "ipython3",
   "version": "3.8.5"
  },
  "mimetype": "text/x-python",
  "name": "python",
  "npconvert_exporter": "python",
  "pygments_lexer": "ipython3",
  "version": 3
 },
 "nbformat": 4,
 "nbformat_minor": 2
}
