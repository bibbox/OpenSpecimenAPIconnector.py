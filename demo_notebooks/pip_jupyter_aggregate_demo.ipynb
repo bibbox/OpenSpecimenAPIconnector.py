{
 "cells": [
  {
   "cell_type": "code",
   "execution_count": 13,
   "metadata": {
    "scrolled": true
   },
   "outputs": [],
   "source": [
    "%%capture\n",
    "# import packages\n",
    "#!pip install faker\n",
    "#!pip install names\n",
    "#!pip uninstall -y OpenSpecimenAPIconnector\n",
    "#!pip install OpenSpecimenAPIconnector\n",
    "\n",
    "# Install a pip package in the current Jupyter kernel\n",
    "\n",
    "import sys\n",
    "!{sys.executable} -m pip uninstall -y /home/simon/Documents/Arbeit_med_Uni/pyApi_master/OpenSpecimenAPIconnector.py/dist/OpenSpecimenAPIconnector-0.9.2-py3-none-any.whl\n",
    "!{sys.executable} -m pip install /home/simon/Documents/Arbeit_med_Uni/pyApi_master/OpenSpecimenAPIconnector.py/dist/OpenSpecimenAPIconnector-0.9.2-py3-none-any.whl\n",
    "!{sys.executable} -m pip install faker\n",
    "!{sys.executable} -m pip install names\n",
    "\n",
    "import json\n",
    "import pandas as pd\n",
    "import faker\n",
    "import os\n",
    "from IPython.display import display\n",
    "import requests\n",
    "import random\n",
    "import ipywidgets as wid\n",
    "import numpy as np"
   ]
  },
  {
   "cell_type": "code",
   "execution_count": 14,
   "metadata": {
    "scrolled": false
   },
   "outputs": [],
   "source": [
    "import OpenSpecimenAPIconnector as OSconn\n",
    "import OpenSpecimenAPIconnector.os_core as os_core\n",
    "import OpenSpecimenAPIconnector.os_util as os_util\n",
    "import OpenSpecimenAPIconnector.mg_core as mg_core\n",
    "import OpenSpecimenAPIconnector.mg_util as mg_util"
   ]
  },
  {
   "cell_type": "code",
   "execution_count": 15,
   "metadata": {},
   "outputs": [],
   "source": [
    "def csv_download_link(df, csv_file_name, delete_prompt=False):\n",
    "    \"\"\"Display a download link to load a data frame as csv from within a Jupyter notebook\"\"\"\n",
    "    from IPython.core.display import display, HTML\n",
    "    link = \"http://localhost:8888/edit/work/\" + csv_file_name\n",
    "    df.to_csv(csv_file_name, index=False)\n",
    "    text = \"Download/Edit \" + csv_file_name\n",
    "    display(HTML(\"<a href={} target=_blank>{}</a>\".format(link, text)))\n",
    "   \n",
    "    if delete_prompt:\n",
    "        a = input('Press enter to delete the file after you have downloaded it.')\n",
    "        import os\n",
    "        os.remove(csv_file_name)"
   ]
  },
  {
   "cell_type": "code",
   "execution_count": 16,
   "metadata": {},
   "outputs": [],
   "source": [
    "ALL = 'ALL'\n",
    "def unique_sorted_values_plus_ALL(array):\n",
    "    unique = array.unique().tolist()\n",
    "    unique.sort()\n",
    "    unique.insert(0, ALL)\n",
    "    return unique\n",
    "\n",
    "def common_filtering(year, purpose):\n",
    "    output.clear_output()\n",
    "    \n",
    "    if (year == ALL) & (purpose == ALL):\n",
    "        common_filter = df_london\n",
    "    elif (year == ALL):\n",
    "        common_filter = df_london[df_london.purpose == purpose]\n",
    "    elif (purpose == ALL):\n",
    "        common_filter = df_london[df_london.year == year]\n",
    "    else:\n",
    "        common_filter = df_london[(df_london.year == year) & \n",
    "                                  (df_london.purpose == purpose)]\n",
    "    \n",
    "    with output:\n",
    "        display(common_filter)\n",
    "\n",
    "def dropdown_year_eventhandler(change):\n",
    "    common_filtering(change.new, dropdown_purpose.value)\n",
    "\n",
    "def dropdown_purpose_eventhandler(change):\n",
    "    common_filtering(dropdown_year.value, change.new)"
   ]
  },
  {
   "cell_type": "code",
   "execution_count": 5,
   "metadata": {},
   "outputs": [],
   "source": [
    "def multi_checkbox_widget(options_dict):\n",
    "    \"\"\" Widget with a search field and lots of checkboxes \"\"\"\n",
    "    search_widget = wid.Text()\n",
    "    output_widget = wid.Output()\n",
    "    options = [x for x in options_dict.values()]\n",
    "    options_layout = wid.Layout(\n",
    "        overflow='auto',\n",
    "        border='1px solid black',\n",
    "        width='300px',\n",
    "        height='300px',\n",
    "        flex_flow='column',\n",
    "        display='flex'\n",
    "    )\n",
    "    \n",
    "    #selected_widget = wid.Box(children=[options[0]])\n",
    "    options_widget = wid.VBox(options, layout=options_layout)\n",
    "    #left_widget = wid.VBox(search_widget, selected_widget)\n",
    "    multi_select = wid.VBox([search_widget, options_widget])\n",
    "\n",
    "    @output_widget.capture()\n",
    "    def on_checkbox_change(change):\n",
    "        \n",
    "        selected_recipe = change[\"owner\"].description\n",
    "        #print(options_widget.children)\n",
    "        #selected_item = wid.Button(description = change[\"new\"])\n",
    "        #selected_widget.children = [] #selected_widget.children + [selected_item]\n",
    "        options_widget.children = sorted([x for x in options_widget.children], key = lambda x: x.value, reverse = True)\n",
    "        \n",
    "    for checkbox in options:\n",
    "        checkbox.observe(on_checkbox_change, names=\"value\")\n",
    "\n",
    "    # Wire the search field to the checkboxes\n",
    "    @output_widget.capture()\n",
    "    def on_text_change(change):\n",
    "        search_input = change['new']\n",
    "        if search_input == '':\n",
    "            # Reset search field\n",
    "            new_options = sorted(options, key = lambda x: x.value, reverse = True)\n",
    "        else:\n",
    "            # Filter by search field using difflib.\n",
    "            #close_matches = difflib.get_close_matches(search_input, list(options_dict.keys()), cutoff=0.0)\n",
    "            close_matches = [x for x in list(options_dict.keys()) if str.lower(search_input.strip('')) in str.lower(x)]\n",
    "            new_options = sorted(\n",
    "                [x for x in options if x.description in close_matches], \n",
    "                key = lambda x: x.value, reverse = True\n",
    "            ) #[options_dict[x] for x in close_matches]\n",
    "        options_widget.children = new_options\n",
    "\n",
    "    search_widget.observe(on_text_change, names='value')\n",
    "    display(output_widget)\n",
    "    return multi_select"
   ]
  },
  {
   "cell_type": "code",
   "execution_count": 6,
   "metadata": {},
   "outputs": [],
   "source": [
    "def display_search_select_box(cps_dict):\n",
    "    descriptions = [key for key in  cps_dict.keys()]\n",
    "\n",
    "    options_dict = {\n",
    "        x: wid.Checkbox(\n",
    "            description=x, \n",
    "            value=False,\n",
    "            style={\"description_width\":\"0px\"}\n",
    "        ) for x in descriptions\n",
    "    }\n",
    "\n",
    "    def f(**args):\n",
    "\n",
    "        results = [key for key, value in args.items() if value]\n",
    "        display(results)\n",
    "\n",
    "    ui = multi_checkbox_widget(options_dict)\n",
    "    out = wid.interactive_output(f, options_dict)\n",
    "    display(wid.HBox([ui, out]))\n",
    "    return ui"
   ]
  },
  {
   "cell_type": "code",
   "execution_count": 7,
   "metadata": {
    "scrolled": true
   },
   "outputs": [
    {
     "name": "stdout",
     "output_type": "stream",
     "text": [
      "Fill in Openspecimen url (http(s)://<IP-Adress>:<port>) and press enter\n",
      "The whole URL for API Calls is: http://biobank-7-2.silicolab.bibbox.org/openspecimen/rest/ng\n",
      "Loginname of the user:\n",
      "Password of the user:\n",
      "True\n",
      "http://biobank-7-2.silicolab.bibbox.org/openspecimen/rest/ng\n",
      "('admin', 'Login@123')\n"
     ]
    }
   ],
   "source": [
    "# The URL of the Openspecimen\n",
    "print('Fill in Openspecimen url (http(s)://<IP-Adress>:<port>) and press enter')\n",
    "base_url= 'http://biobank-7-2.silicolab.bibbox.org' \n",
    "base_url+='/openspecimen/rest/ng'\n",
    "print('The whole URL for API Calls is: ' + base_url)\n",
    "\n",
    "# Loginname and Pasword of the API-User, recommended is an extra API User\n",
    "print('Loginname of the user:')\n",
    "loginname='admin'#input() \n",
    "print('Password of the user:')\n",
    "password='Login@123'#input()\n",
    "\n",
    "auth = (loginname, password)\n",
    "# Setting the login data for the given Openspecimen instance\n",
    "OSconn.config_manager.set_login(base_url, auth)\n",
    "print(OSconn.config_manager.set_token)\n",
    "print(OSconn.config_manager.get_url())\n",
    "print(OSconn.config_manager.get_auth())\n",
    "# trying to set the login data again will produce an error except the reset Parameters is set to true\n",
    "# OSconn.config_manager.set_login(base_url, auth) # will produce assertion error\n",
    "# OSconn.config_manager.set_login(base_url, auth, reset=True) will work"
   ]
  },
  {
   "cell_type": "markdown",
   "metadata": {},
   "source": [
    "The next step is to choose the entity which will be created or updated. The following schemas are in Openspecimen available: (Name, openspecimen entity). One have to write the openspecimen entity. ('Collection Protocol', 'cp') ('Collection Protocol Registration', 'cpr') ('User', 'user') ('User Roles', 'userRoles') ('Site', 'site') ('Shipments', 'shipment') ('Institute', 'institute') ('Distribution Protocol Requirement', 'dpRequirement') ('Distribution Protocol', 'distributionProtocol') ('Distribution Order', 'distributionOrder') ('Containers', 'storageContainer') ('Container Type', 'storagecontainerType') ('Container Shipment', 'containerShipment') ('Collection Protocol Event', 'cpe') ('Master Specimen', 'masterSpecimen') ('Participant', 'participant') ('Specimen Requirement', 'sr') ('Visit', 'visit') ('Specimen Aliquot', 'specimenAliquot') ('Specimen Derivate', 'specimenDerivative') ('Specimen Disposal', 'specimenDisposal') ('Consent', 'consent')"
   ]
  },
  {
   "cell_type": "code",
   "execution_count": 8,
   "metadata": {},
   "outputs": [
    {
     "name": "stdout",
     "output_type": "stream",
     "text": [
      "Choose your Entity:\n"
     ]
    },
    {
     "data": {
      "application/vnd.jupyter.widget-view+json": {
       "model_id": "c23bf82283684b2bbeda680dc6a357a1",
       "version_major": 2,
       "version_minor": 0
      },
      "text/plain": [
       "Dropdown(description='Entity:', options=((), ('Collection Protocol', 'cp'), ('Specimen', 'specimen'), ('Collec…"
      ]
     },
     "metadata": {},
     "output_type": "display_data"
    },
    {
     "name": "stdout",
     "output_type": "stream",
     "text": [
      "Choose Operation:\n"
     ]
    },
    {
     "data": {
      "application/vnd.jupyter.widget-view+json": {
       "model_id": "9d393ac87987411b93a23ae10e541c3a",
       "version_major": 2,
       "version_minor": 0
      },
      "text/plain": [
       "Dropdown(description='Operation:', options=('CREATE', 'UPDATE'), value='CREATE')"
      ]
     },
     "metadata": {},
     "output_type": "display_data"
    }
   ],
   "source": [
    "schema=wid.Dropdown(\n",
    "    options= [(), ('Collection Protocol', 'cp'), ('Specimen', 'specimen'), ('Collection Protocol Registration', 'cpr'),\n",
    "              ('User', 'user'), ('User Roles', 'userRoles'), ('Site', 'site'), ('Shipments', 'shipment'), \n",
    "              ('Institute', 'institute'), ('Distribution Protocol Requirement', 'dpRequirement'), \n",
    "              ('Distribution Protocol', 'distributionProtocol'), ('Distribution Order', 'distributionOrder'), \n",
    "              ('Containers', 'storageContainer'), ('Container Type', 'storagecontainerType'),\n",
    "              ('Container Shipment', 'containerShipment'), ('Collection Protocol Event', 'cpe'),\n",
    "              ('Master Specimen', 'masterSpecimen'), ('Participant', 'participant'), ('Specimen Requirement', 'sr'),\n",
    "              ('Visit', 'visit'), ('Specimen Aliquot', 'specimenAliquot'), \n",
    "              ('Specimen Derivate', 'specimenDerivative'),('Specimen Disposal', 'specimenDisposal'),\n",
    "              ('Consent', 'consent')],\n",
    "    value=(),\n",
    "    description='Entity:')\n",
    "\n",
    "operation = wid.Dropdown(\n",
    "    options = [\"CREATE\",  'UPDATE'],\n",
    "              value=\"CREATE\",\n",
    "              description='Operation:')\n",
    "\n",
    "sel_schema = schema.value\n",
    "def change_value_schema(change):\n",
    "    global sel_schema\n",
    "    if change.new:\n",
    "        sel_schema = change.new[1]\n",
    "    else: sel_schema = None\n",
    "\n",
    "op = operation.value\n",
    "def change_value_op(change):\n",
    "    global op\n",
    "    if change.new:\n",
    "        op = change.new\n",
    "    else: op = None\n",
    "\n",
    "schema.observe(change_value_schema, names=\"value\")\n",
    "operation.observe(change_value_op, names=\"value\")\n",
    "\n",
    "print('Choose your Entity:')\n",
    "display(schema)\n",
    "# operation is only needed for csv import not for aggregating fields\n",
    "print('Choose Operation:')\n",
    "display(operation)"
   ]
  },
  {
   "cell_type": "code",
   "execution_count": 9,
   "metadata": {},
   "outputs": [
    {
     "name": "stdout",
     "output_type": "stream",
     "text": [
      "Selected Schema:  cpr\n",
      "Selected Operation:  CREATE\n"
     ]
    }
   ],
   "source": [
    "print(\"Selected Schema: \", sel_schema)\n",
    "print(\"Selected Operation: \", op)\n",
    "\n",
    "#initialize csv_bulk, bulk_operations and CSV_exporter\n",
    "csv_files= os_core.csv_bulk()\n",
    "bulk_op= os_util.bulk_operations()\n",
    "csv_export = os_util.csv_exporter()"
   ]
  },
  {
   "cell_type": "code",
   "execution_count": 10,
   "metadata": {},
   "outputs": [],
   "source": [
    "# get necessary cp information\n",
    "cp_tools = os_core.collection_protocol()\n",
    "\n",
    "# get cp info and wirte a dict in order to simplify the api output\n",
    "cps = cp_tools.get_all_collection_protocols()\n",
    "cps_dict = {}\n",
    "for i, item in enumerate(cps):\n",
    "    cps_dict[item[\"title\"]] = item[\"id\"]"
   ]
  },
  {
   "cell_type": "code",
   "execution_count": 11,
   "metadata": {},
   "outputs": [
    {
     "data": {
      "application/vnd.jupyter.widget-view+json": {
       "model_id": "90195667cea14204bed3341b983fde66",
       "version_major": 2,
       "version_minor": 0
      },
      "text/plain": [
       "Output()"
      ]
     },
     "metadata": {},
     "output_type": "display_data"
    },
    {
     "data": {
      "application/vnd.jupyter.widget-view+json": {
       "model_id": "e6c2ece41d884fee929146fc16235723",
       "version_major": 2,
       "version_minor": 0
      },
      "text/plain": [
       "HBox(children=(VBox(children=(Text(value=''), VBox(children=(Checkbox(value=False, description='Main collectio…"
      ]
     },
     "metadata": {},
     "output_type": "display_data"
    }
   ],
   "source": [
    "# choose target CP / Check if matching is correct; ui is needed for output\n",
    "\n",
    "ui = display_search_select_box(cps_dict)"
   ]
  },
  {
   "cell_type": "code",
   "execution_count": 12,
   "metadata": {
    "scrolled": false
   },
   "outputs": [
    {
     "name": "stdout",
     "output_type": "stream",
     "text": [
      "CP ids selected for further usage:  [17]\n",
      "\n",
      "17\n"
     ]
    },
    {
     "ename": "AssertionError",
     "evalue": "cpid may not be none with objecttype cpr",
     "output_type": "error",
     "traceback": [
      "\u001b[0;31m---------------------------------------------------------------------------\u001b[0m",
      "\u001b[0;31mAssertionError\u001b[0m                            Traceback (most recent call last)",
      "\u001b[0;32m<ipython-input-12-a96209adbdf0>\u001b[0m in \u001b[0;36m<module>\u001b[0;34m\u001b[0m\n\u001b[1;32m     15\u001b[0m \u001b[0;34m\u001b[0m\u001b[0m\n\u001b[1;32m     16\u001b[0m \u001b[0maggregator\u001b[0m \u001b[0;34m=\u001b[0m \u001b[0mos_util\u001b[0m\u001b[0;34m.\u001b[0m\u001b[0maggregator\u001b[0m\u001b[0;34m(\u001b[0m\u001b[0;34m)\u001b[0m\u001b[0;34m\u001b[0m\u001b[0;34m\u001b[0m\u001b[0m\n\u001b[0;32m---> 17\u001b[0;31m \u001b[0maggregator\u001b[0m\u001b[0;34m.\u001b[0m\u001b[0mrun_aggregation\u001b[0m\u001b[0;34m(\u001b[0m\u001b[0msel_schema\u001b[0m\u001b[0;34m,\u001b[0m \u001b[0mcp_ids\u001b[0m\u001b[0;34m)\u001b[0m\u001b[0;34m\u001b[0m\u001b[0;34m\u001b[0m\u001b[0m\n\u001b[0m",
      "\u001b[0;32m~/anaconda3/lib/python3.7/site-packages/OpenSpecimenAPIconnector/os_util/aggregated_fields.py\u001b[0m in \u001b[0;36mrun_aggregation\u001b[0;34m(self, sel_schema, ids)\u001b[0m\n\u001b[1;32m     69\u001b[0m             \u001b[0;32mfor\u001b[0m \u001b[0mi\u001b[0m\u001b[0;34m,\u001b[0m \u001b[0mcp_id\u001b[0m \u001b[0;32min\u001b[0m \u001b[0menumerate\u001b[0m\u001b[0;34m(\u001b[0m\u001b[0mids\u001b[0m\u001b[0;34m)\u001b[0m\u001b[0;34m:\u001b[0m\u001b[0;34m\u001b[0m\u001b[0;34m\u001b[0m\u001b[0m\n\u001b[1;32m     70\u001b[0m                 \u001b[0mprint\u001b[0m\u001b[0;34m(\u001b[0m\u001b[0mcp_id\u001b[0m\u001b[0;34m)\u001b[0m\u001b[0;34m\u001b[0m\u001b[0;34m\u001b[0m\u001b[0m\n\u001b[0;32m---> 71\u001b[0;31m                 up_cp_data = self.extract_age_fields(csv_export.csv_export(sel_schema, cp_id), \n\u001b[0m\u001b[1;32m     72\u001b[0m                                                     cp_tools.get_collection_protocol(cp_id), cp_id)\n\u001b[1;32m     73\u001b[0m                 \u001b[0mr\u001b[0m \u001b[0;34m=\u001b[0m \u001b[0mcp_tools\u001b[0m\u001b[0;34m.\u001b[0m\u001b[0mupdate_collection_protocol\u001b[0m\u001b[0;34m(\u001b[0m\u001b[0mstr\u001b[0m\u001b[0;34m(\u001b[0m\u001b[0mcp_id\u001b[0m\u001b[0;34m)\u001b[0m\u001b[0;34m,\u001b[0m \u001b[0mjson\u001b[0m\u001b[0;34m.\u001b[0m\u001b[0mdumps\u001b[0m\u001b[0;34m(\u001b[0m\u001b[0mup_cp_data\u001b[0m\u001b[0;34m)\u001b[0m\u001b[0;34m)\u001b[0m\u001b[0;34m\u001b[0m\u001b[0;34m\u001b[0m\u001b[0m\n",
      "\u001b[0;32m~/anaconda3/lib/python3.7/site-packages/OpenSpecimenAPIconnector/os_util/csv_exp_util.py\u001b[0m in \u001b[0;36mcsv_export\u001b[0;34m(self, objecttype, recordids, cpid, ppids, entitytype, formname, specimenlabels, csv)\u001b[0m\n\u001b[1;32m     81\u001b[0m \u001b[0;34m\u001b[0m\u001b[0m\n\u001b[1;32m     82\u001b[0m         data = self.json.create_csv_export_job(objecttype = objecttype, cpid = cpid,\n\u001b[0;32m---> 83\u001b[0;31m                 entitytype = entitytype, formname = formname)\n\u001b[0m\u001b[1;32m     84\u001b[0m \u001b[0;34m\u001b[0m\u001b[0m\n\u001b[1;32m     85\u001b[0m         \u001b[0mjob_id\u001b[0m \u001b[0;34m=\u001b[0m \u001b[0mself\u001b[0m\u001b[0;34m.\u001b[0m\u001b[0mexport\u001b[0m\u001b[0;34m.\u001b[0m\u001b[0mcreate_export_job\u001b[0m\u001b[0;34m(\u001b[0m\u001b[0mdata\u001b[0m \u001b[0;34m=\u001b[0m \u001b[0mdata\u001b[0m\u001b[0;34m)\u001b[0m\u001b[0;34m\u001b[0m\u001b[0;34m\u001b[0m\u001b[0m\n",
      "\u001b[0;32m~/anaconda3/lib/python3.7/site-packages/OpenSpecimenAPIconnector/os_core/jsons.py\u001b[0m in \u001b[0;36mcreate_csv_export_job\u001b[0;34m(self, objecttype, recordids, cpid, ppids, entitytype, formname, specimenlabels)\u001b[0m\n\u001b[1;32m    484\u001b[0m \u001b[0;34m\u001b[0m\u001b[0m\n\u001b[1;32m    485\u001b[0m         \u001b[0;32mif\u001b[0m \u001b[0mobjecttype\u001b[0m \u001b[0;34m==\u001b[0m \u001b[0;34m\"cpr\"\u001b[0m \u001b[0;32mor\u001b[0m \u001b[0mobjecttype\u001b[0m \u001b[0;34m==\u001b[0m \u001b[0;34m\"specimen\"\u001b[0m\u001b[0;34m:\u001b[0m\u001b[0;34m\u001b[0m\u001b[0;34m\u001b[0m\u001b[0m\n\u001b[0;32m--> 486\u001b[0;31m             \u001b[0;32massert\u001b[0m \u001b[0mcpid\u001b[0m \u001b[0;32mis\u001b[0m \u001b[0;32mnot\u001b[0m \u001b[0;32mNone\u001b[0m \u001b[0;34m,\u001b[0m \u001b[0;34m\"cpid may not be none with objecttype {}\"\u001b[0m\u001b[0;34m.\u001b[0m\u001b[0mformat\u001b[0m\u001b[0;34m(\u001b[0m\u001b[0mobjecttype\u001b[0m\u001b[0;34m)\u001b[0m\u001b[0;34m\u001b[0m\u001b[0;34m\u001b[0m\u001b[0m\n\u001b[0m\u001b[1;32m    487\u001b[0m         \u001b[0;32melif\u001b[0m \u001b[0mobjecttype\u001b[0m \u001b[0;34m==\u001b[0m \u001b[0;34m\"extensions\"\u001b[0m\u001b[0;34m:\u001b[0m\u001b[0;34m\u001b[0m\u001b[0;34m\u001b[0m\u001b[0m\n\u001b[1;32m    488\u001b[0m             \u001b[0;32massert\u001b[0m \u001b[0mformname\u001b[0m \u001b[0;32mis\u001b[0m \u001b[0;32mnot\u001b[0m \u001b[0;32mNone\u001b[0m \u001b[0;32mand\u001b[0m \u001b[0mentitytype\u001b[0m \u001b[0;32mis\u001b[0m \u001b[0;32mnot\u001b[0m \u001b[0;32mNone\u001b[0m\u001b[0;34m,\u001b[0m \u001b[0;34m\"Please specify formname and the entitytype the given form is attached to\"\u001b[0m\u001b[0;34m\u001b[0m\u001b[0;34m\u001b[0m\u001b[0m\n",
      "\u001b[0;31mAssertionError\u001b[0m: cpid may not be none with objecttype cpr"
     ]
    }
   ],
   "source": [
    "# get selected cp_ids\n",
    "cp_ids = []\n",
    "selected_options = [widget.description for widget in ui.children[1].children if widget.value]\n",
    "for item in selected_options:\n",
    "    cp_ids.append(cps_dict[item])\n",
    "\n",
    "print(\"CP ids selected for further usage: \", cp_ids)\n",
    "print()\n",
    "\n",
    "#cp_tools = os_core.collection_protocol()\n",
    "#test = cp_tools.get_cp_def(cp_ids[0])\n",
    "#test2 = cp_tools.get_collection_protocol(cp_ids[0])\n",
    "#r1 = cp_tools.update_collection_protocol(cp_ids[0], json.dumps(test))\n",
    "#r2 = cp_tools.update_collection_protocol(cp_ids[0], json.dumps(test2))\n",
    "\n",
    "aggregator = os_util.aggregator()\n",
    "aggregator.run_aggregation(sel_schema, cp_ids)"
   ]
  },
  {
   "cell_type": "code",
   "execution_count": 13,
   "metadata": {},
   "outputs": [
    {
     "name": "stdout",
     "output_type": "stream",
     "text": [
      "Python version\n",
      "3.7.4 (default, Aug 13 2019, 20:35:49) \n",
      "[GCC 7.3.0]\n",
      "Version info.\n",
      "sys.version_info(major=3, minor=7, micro=4, releaselevel='final', serial=0)\n"
     ]
    }
   ],
   "source": [
    "import sys\n",
    "print(\"Python version\")\n",
    "print (sys.version)\n",
    "print(\"Version info.\")\n",
    "print (sys.version_info)"
   ]
  },
  {
   "cell_type": "code",
   "execution_count": null,
   "metadata": {},
   "outputs": [],
   "source": []
  }
 ],
 "metadata": {
  "file_extension": ".py",
  "kernelspec": {
   "display_name": "Python 3",
   "language": "python",
   "name": "python3"
  },
  "language_info": {
   "codemirror_mode": {
    "name": "ipython",
    "version": 3
   },
   "file_extension": ".py",
   "mimetype": "text/x-python",
   "name": "python",
   "nbconvert_exporter": "python",
   "pygments_lexer": "ipython3",
   "version": "3.7.4"
  },
  "mimetype": "text/x-python",
  "name": "python",
  "npconvert_exporter": "python",
  "pygments_lexer": "ipython3",
  "version": 3
 },
 "nbformat": 4,
 "nbformat_minor": 2
}
