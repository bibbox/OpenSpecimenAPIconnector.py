{
 "cells": [
  {
   "cell_type": "code",
   "execution_count": 7,
   "metadata": {},
   "outputs": [
    {
     "name": "stdout",
     "output_type": "stream",
     "text": [
      "Defaulting to user installation because normal site-packages is not writeable\n",
      "Requirement already satisfied: faker in /home/v/.local/lib/python3.8/site-packages (6.5.0)\n",
      "Requirement already satisfied: text-unidecode==1.3 in /home/v/.local/lib/python3.8/site-packages (from faker) (1.3)\n",
      "Requirement already satisfied: python-dateutil>=2.4 in /home/v/.local/lib/python3.8/site-packages (from faker) (2.8.1)\n",
      "Requirement already satisfied: six>=1.5 in /home/v/.local/lib/python3.8/site-packages (from python-dateutil>=2.4->faker) (1.15.0)\n",
      "Defaulting to user installation because normal site-packages is not writeable\n",
      "Requirement already satisfied: names in /home/v/.local/lib/python3.8/site-packages (0.3.0)\n",
      "Defaulting to user installation because normal site-packages is not writeable\n",
      "Processing /home/v/Programs/BBMRI_API/OpenSpecimenAPIconnector.py/dist/OpenSpecimenAPIconnector-0.9.1-py3-none-any.whl\n",
      "Requirement already satisfied: names in /home/v/.local/lib/python3.8/site-packages (from OpenSpecimenAPIconnector==0.9.1) (0.3.0)\n",
      "Requirement already satisfied: pandas in /home/v/.local/lib/python3.8/site-packages (from OpenSpecimenAPIconnector==0.9.1) (1.2.2)\n",
      "Requirement already satisfied: numpy in /home/v/.local/lib/python3.8/site-packages (from OpenSpecimenAPIconnector==0.9.1) (1.20.1)\n",
      "Requirement already satisfied: xlsxwriter in /home/v/.local/lib/python3.8/site-packages (from OpenSpecimenAPIconnector==0.9.1) (1.3.7)\n",
      "Requirement already satisfied: requests in /home/v/.local/lib/python3.8/site-packages (from OpenSpecimenAPIconnector==0.9.1) (2.25.1)\n",
      "Requirement already satisfied: faker in /home/v/.local/lib/python3.8/site-packages (from OpenSpecimenAPIconnector==0.9.1) (6.5.0)\n",
      "Requirement already satisfied: openpyxl in /home/v/.local/lib/python3.8/site-packages (from OpenSpecimenAPIconnector==0.9.1) (3.0.6)\n",
      "Requirement already satisfied: text-unidecode==1.3 in /home/v/.local/lib/python3.8/site-packages (from faker->OpenSpecimenAPIconnector==0.9.1) (1.3)\n",
      "Requirement already satisfied: python-dateutil>=2.4 in /home/v/.local/lib/python3.8/site-packages (from faker->OpenSpecimenAPIconnector==0.9.1) (2.8.1)\n",
      "Requirement already satisfied: six>=1.5 in /home/v/.local/lib/python3.8/site-packages (from python-dateutil>=2.4->faker->OpenSpecimenAPIconnector==0.9.1) (1.15.0)\n",
      "Requirement already satisfied: et-xmlfile in /home/v/.local/lib/python3.8/site-packages (from openpyxl->OpenSpecimenAPIconnector==0.9.1) (1.0.1)\n",
      "Requirement already satisfied: jdcal in /home/v/.local/lib/python3.8/site-packages (from openpyxl->OpenSpecimenAPIconnector==0.9.1) (1.4.1)\n",
      "Requirement already satisfied: pytz>=2017.3 in /home/v/.local/lib/python3.8/site-packages (from pandas->OpenSpecimenAPIconnector==0.9.1) (2021.1)\n",
      "Requirement already satisfied: urllib3<1.27,>=1.21.1 in /home/v/.local/lib/python3.8/site-packages (from requests->OpenSpecimenAPIconnector==0.9.1) (1.26.3)\n",
      "Requirement already satisfied: chardet<5,>=3.0.2 in /home/v/.local/lib/python3.8/site-packages (from requests->OpenSpecimenAPIconnector==0.9.1) (4.0.0)\n",
      "Requirement already satisfied: idna<3,>=2.5 in /home/v/.local/lib/python3.8/site-packages (from requests->OpenSpecimenAPIconnector==0.9.1) (2.10)\n",
      "Requirement already satisfied: certifi>=2017.4.17 in /home/v/.local/lib/python3.8/site-packages (from requests->OpenSpecimenAPIconnector==0.9.1) (2020.12.5)\n",
      "OpenSpecimenAPIconnector is already installed with the same version as the provided wheel. Use --force-reinstall to force an installation of the wheel.\n"
     ]
    }
   ],
   "source": [
    "# import packages\n",
    "!pip install faker\n",
    "!pip install names\n",
    "!pip install ../dist/OpenSpecimenAPIconnector-0.9.1-py3-none-any.whl\n",
    "import json\n",
    "import pandas\n",
    "import ipywidgets as widgets\n",
    "import faker\n",
    "from IPython.display import display"
   ]
  },
  {
   "cell_type": "code",
   "execution_count": 6,
   "metadata": {},
   "outputs": [],
   "source": [
    "import OpenSpecimenAPIconnector as OSconn\n",
    "import OpenSpecimenAPIconnector.os_core as os_core\n",
    "import OpenSpecimenAPIconnector.os_util as os_util"
   ]
  },
  {
   "cell_type": "code",
   "execution_count": null,
   "metadata": {},
   "outputs": [],
   "source": [
    "    \"\"\"Display a download link to load a data frame as csv from within a Jupyter notebook\"\"\"\n",
    "    import os\n",
    "    from IPython.core.display import display, HTML\n",
    "    link = \"http://localhost:8888/edit/work/\" + csv_file_name\n",
    "    df.to_csv(csv_file_name, index=False)\n",
    "    display(HTML(\"<a href={} target=_blank>Download/Edit</a>\".format(link)))\n",
    "   \n",
    "    if delete_prompt:\n",
    "        a = input('Press enter to delete the file after you have downloaded it.')\n",
    "        import os\n",
    "        os.remove(csv_file_name)"
   ]
  },
  {
   "cell_type": "code",
   "execution_count": null,
   "metadata": {},
   "outputs": [],
   "source": [
    "# The URL of the Openspecimen\n",
    "print('Fill in Openspecimen url (http(s)://<IP-Adress>:<port>) and press enter')\n",
    "#base_url='http://localhost:9000' # input() set to hardcoded at the moment just change below or add urls for more instances\n",
    "base_url='http://biobank.silicolab.bibbox.org'\n",
    "base_url2= 'http://biobank-7-2.silicolab.bibbox.org' \n",
    "base_url+='/openspecimen/rest/ng'\n",
    "base_url2+='/openspecimen/rest/ng'\n",
    "print('The whole URL for API Calls is: ' + base_url)"
   ]
  },
  {
   "cell_type": "code",
   "execution_count": null,
   "metadata": {},
   "outputs": [],
   "source": [
    "# Loginname and Pasword of the API-User, recommended is an extra API User\n",
    "print('Loginname of the user:')\n",
    "loginname='admin'#input() \n",
    "print('Password of the user:')\n",
    "password='Login@123'#input()"
   ]
  },
  {
   "cell_type": "markdown",
   "metadata": {},
   "source": [
    "The next step is to choose the entity which will be created or updated. The following schemas are in Openspecimen available: (Name, openspecimen entity). One have to write the openspecimen entity. ('Collection Protocol', 'cp') ('Collection Protocol Registration', 'cpr') ('User', 'user') ('User Roles', 'userRoles') ('Site', 'site') ('Shipments', 'shipment') ('Institute', 'institute') ('Distribution Protocol Requirement', 'dpRequirement') ('Distribution Protocol', 'distributionProtocol') ('Distribution Order', 'distributionOrder') ('Containers', 'storageContainer') ('Container Type', 'storagecontainerType') ('Container Shipment', 'containerShipment') ('Collection Protocol Event', 'cpe') ('Master Specimen', 'masterSpecimen') ('Participant', 'participant') ('Specimen Requirement', 'sr') ('Visit', 'visit') ('Specimen Aliquot', 'specimenAliquot') ('Specimen Derivate', 'specimenDerivative') ('Specimen Disposal', 'specimenDisposal') ('Consent', 'consent')"
   ]
  },
  {
   "cell_type": "code",
   "execution_count": 2,
   "metadata": {},
   "outputs": [
    {
     "name": "stdout",
     "output_type": "stream",
     "text": [
      "Choose your Entity:\n"
     ]
    },
    {
     "data": {
      "application/vnd.jupyter.widget-view+json": {
       "model_id": "cc58ff2d50474983b7e8a2dd8ed5e0c7",
       "version_major": 2,
       "version_minor": 0
      },
      "text/plain": [
       "Dropdown(description='Entity:', index=2, options=((), ('Collection Protocol', 'cp'), ('Specimen', 'specimen'),…"
      ]
     },
     "metadata": {},
     "output_type": "display_data"
    },
    {
     "name": "stdout",
     "output_type": "stream",
     "text": [
      "Choose Operation:\n"
     ]
    },
    {
     "data": {
      "application/vnd.jupyter.widget-view+json": {
       "model_id": "21bd5d7d56ed487998672d4b58f4c1ae",
       "version_major": 2,
       "version_minor": 0
      },
      "text/plain": [
       "Dropdown(description='Operation:', options=('CREATE', 'UPDATE'), value='CREATE')"
      ]
     },
     "metadata": {},
     "output_type": "display_data"
    }
   ],
   "source": [
    "schema=widgets.Dropdown(\n",
    "    options= [(), ('Collection Protocol', 'cp'), ('Specimen', 'specimen'), ('Collection Protocol Registration', 'cpr'),\n",
    "              ('User', 'user'), ('User Roles', 'userRoles'), ('Site', 'site'), ('Shipments', 'shipment'), \n",
    "              ('Institute', 'institute'), ('Distribution Protocol Requirement', 'dpRequirement'), \n",
    "              ('Distribution Protocol', 'distributionProtocol'), ('Distribution Order', 'distributionOrder'), \n",
    "              ('Containers', 'storageContainer'), ('Container Type', 'storagecontainerType'),\n",
    "              ('Container Shipment', 'containerShipment'), ('Collection Protocol Event', 'cpe'),\n",
    "              ('Master Specimen', 'masterSpecimen'), ('Participant', 'participant'), ('Specimen Requirement', 'sr'),\n",
    "              ('Visit', 'visit'), ('Specimen Aliquot', 'specimenAliquot'), \n",
    "              ('Specimen Derivate', 'specimenDerivative'),('Specimen Disposal', 'specimenDisposal'),\n",
    "              ('Consent', 'consent')],\n",
    "    value=('Specimen', 'specimen'),\n",
    "    description='Entity:')\n",
    "\n",
    "operation = widgets.Dropdown(\n",
    "    options = [\"CREATE\",  'UPDATE'],\n",
    "              value=\"CREATE\",\n",
    "              description='Operation:')\n",
    "\n",
    "print('Choose your Entity:')\n",
    "display(schema)\n",
    "print('Choose Operation:')\n",
    "display(operation)"
   ]
  },
  {
   "cell_type": "code",
   "execution_count": null,
   "metadata": {},
   "outputs": [],
   "source": []
  }
 ],
 "metadata": {
  "file_extension": ".py",
  "kernelspec": {
   "display_name": "Python 3",
   "language": "python",
   "name": "python3"
  },
  "language_info": {
   "codemirror_mode": {
    "name": "ipython",
    "version": 3
   },
   "file_extension": ".py",
   "mimetype": "text/x-python",
   "name": "python",
   "nbconvert_exporter": "python",
   "pygments_lexer": "ipython3",
   "version": "3.8.5"
  },
  "mimetype": "text/x-python",
  "name": "python",
  "npconvert_exporter": "python",
  "pygments_lexer": "ipython3",
  "version": 3
 },
 "nbformat": 4,
 "nbformat_minor": 2
}
