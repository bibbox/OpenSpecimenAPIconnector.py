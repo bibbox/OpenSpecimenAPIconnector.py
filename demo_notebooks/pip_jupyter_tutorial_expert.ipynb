{
 "cells": [
  {
   "cell_type": "markdown",
   "metadata": {},
   "source": [
    "# Expert Tutorial"
   ]
  },
  {
   "cell_type": "markdown",
   "metadata": {},
   "source": [
    "ToDo: \n",
    "* Create Institute, Site, Collection Protocol,\n",
    "* create Specimen and dependencies with MasterTemplate,\n",
    "* update some Data\n",
    "* delete the Data\n"
   ]
  },
  {
   "cell_type": "code",
   "execution_count": 1,
   "metadata": {},
   "outputs": [],
   "source": [
    "%%capture\n",
    "# Install a pip package in the current Jupyter kernel\n",
    "\n",
    "import sys\n",
    "!{sys.executable} -m pip install OpenSpecimenAPIconnector\n",
    "!{sys.executable} -m pip install faker\n",
    "!{sys.executable} -m pip install names"
   ]
  },
  {
   "cell_type": "code",
   "execution_count": 2,
   "metadata": {},
   "outputs": [],
   "source": [
    "%%capture\n",
    "#Creating ID-dict for deleting the Tutorial Data\n",
    "ID = {}"
   ]
  },
  {
   "cell_type": "code",
   "execution_count": 3,
   "metadata": {},
   "outputs": [],
   "source": [
    "%%capture\n",
    "#import the packages which are needed\n",
    "import json\n",
    "import pandas as pd\n",
    "import ipywidgets as widgets\n",
    "import faker\n",
    "import os\n",
    "from IPython.display import display"
   ]
  },
  {
   "cell_type": "markdown",
   "metadata": {},
   "source": [
    "### Importing the PIP-package as:"
   ]
  },
  {
   "cell_type": "code",
   "execution_count": 4,
   "metadata": {},
   "outputs": [],
   "source": [
    "import OpenSpecimenAPIconnector as OSconn\n",
    "import OpenSpecimenAPIconnector.os_core as os_core\n",
    "import OpenSpecimenAPIconnector.os_util as os_util"
   ]
  },
  {
   "cell_type": "code",
   "execution_count": 5,
   "metadata": {},
   "outputs": [
    {
     "name": "stdout",
     "output_type": "stream",
     "text": [
      "Fill in Openspecimen url (http(s)://<IP-Adress>:<port>) and press enter\n",
      "\n",
      "The whole URL for API Calls is: http://localhost:9000/openspecimen/rest/ng\n"
     ]
    }
   ],
   "source": [
    "# Setting the URL of the OpenSpecimen distribution\n",
    "# The URL of the Openspecimen\n",
    "print('Fill in Openspecimen url (http(s)://<IP-Adress>:<port>) and press enter')\n",
    "input_=input()\n",
    "if input_ == '':\n",
    "    base_url = 'http://localhost:9000'\n",
    "else:\n",
    "    base_url = input_\n",
    "base_url +='/openspecimen/rest/ng'\n",
    "print('The whole URL for API Calls is: ' + base_url)"
   ]
  },
  {
   "cell_type": "code",
   "execution_count": 6,
   "metadata": {},
   "outputs": [
    {
     "name": "stdout",
     "output_type": "stream",
     "text": [
      "Loginname(admin):\n",
      "\n",
      "Password(Login@123):\n",
      "\n",
      "Your (loginname,password) is (admin,Login@123)\n"
     ]
    }
   ],
   "source": [
    "#Setting the login data, in particular (loginname, passwort)\n",
    "loginname='admin';\n",
    "password='Login@123'\n",
    "print('Loginname(admin):')\n",
    "input_=input()\n",
    "if input_ != '':\n",
    "    loginname=input_\n",
    "print('Password(Login@123):')\n",
    "input_=input()\n",
    "if input_ != '':\n",
    "    password=input_\n",
    "auth = (loginname, password)\n",
    "print('Your (loginname,password) is (' + str(loginname) + ',' +str(password) + ')')"
   ]
  },
  {
   "cell_type": "markdown",
   "metadata": {},
   "source": [
    "### Configuring the package with the Logindata\n",
    "If the logindata is wrong the next cell will throw an error, else everything is fine."
   ]
  },
  {
   "cell_type": "code",
   "execution_count": 7,
   "metadata": {},
   "outputs": [],
   "source": [
    "OSconn.config_manager.set_login(url = base_url, auth = auth)"
   ]
  },
  {
   "cell_type": "markdown",
   "metadata": {},
   "source": [
    "## Creating Institute, Site and Collection Protocol\n",
    "With those, the Master-Template can be used for creating Participants, Visits, and Specimens. This will be done with the CSV Export using OpenSpecimen REST API. "
   ]
  },
  {
   "cell_type": "code",
   "execution_count": 8,
   "metadata": {},
   "outputs": [],
   "source": [
    "# initialize the classes which will be used\n",
    "institutes_util = os_util.institutes_util()\n",
    "site_util = os_util.site_util()\n",
    "collection_protocol_util = os_util.collection_protocol_util()\n",
    "bulk_operations = os_util.bulk_operations()\n",
    "csv_bulk = os_core.csv_bulk()\n",
    "cp = os_core.collection_protocol()\n",
    "site = os_core.sites()\n",
    "institutes = os_core.institutes()\n",
    "cpevent_util = os_util.cpevent_util()\n",
    "cpevent = os_core.collection_protocol_event()\n",
    "specimen_util = os_util.specimen_util()\n",
    "cpr_util = os_util.cpr_util()\n",
    "cpr = os_core.collection_protocol_registration()\n",
    "visit =os_core.visit()"
   ]
  },
  {
   "cell_type": "code",
   "execution_count": 9,
   "metadata": {},
   "outputs": [],
   "source": [
    "# Generate the Institute, Site and Collection Protocol\n",
    "response = institutes_util.create_institute(institutename = 'Demo Institute')\n",
    "ID['institute'] = response['id']\n",
    "response = site_util.create_sites(name = 'Demo Site', institutename = ' Demo Institute', type_ = 'not specified')\n",
    "ID['site']=response['id']\n",
    "response = collection_protocol_util.create_cp(short_title = 'Demo CP', title = 'Demo Collection Protocol',\n",
    "                                              pi_mail = 'admin', sites = ['Demo Site'])\n",
    "ID['cp'] = response['id']\n",
    "response = cpevent_util.create_event(label = 'Demo Event', point = 0, cp = 'Demo Collection Protocol', \n",
    "                                     site = 'Demo Site', diagnosis = 'Not Specified', status = 'Not Specified',\n",
    "                                     activity = 'Active', unit = 'DAYS', code ='DemoEventCode')\n",
    "ID['event'] = response['id']"
   ]
  },
  {
   "cell_type": "code",
   "execution_count": 10,
   "metadata": {},
   "outputs": [
    {
     "name": "stdout",
     "output_type": "stream",
     "text": [
      "Empty DataFrame\n",
      "Columns: [CP Short Title, PPID, Registration Date, Registration Site, External Subject ID, First Name, Last Name, Middle Name, Date Of Birth, Death Date, Gender, Race#1, Race#2, Vital Status, Ethnicity#1, Ethnicity#2, SSN, eMPI, Event Label, Visit Name, Visit Date, Collection Site, Visit Status, Clinical Diagnosis#1, Clinical Diagnosis#2, Clinical Status, Path. Number, Visit Comments, Specimen Requirement Code, Specimen Label, Barcode, Class, Type, Lineage, Parent Specimen Label, Anatomic Site, Laterality, Pathological Status, Quantity, Concentration, Freeze/Thaw Cycles, Created On, Comments, Collection Status, Container, Row, Column, Position, Collection Date, Collection Procedure, Collection Container, Collector, Received Date, Received Quality, Receiver, PMI#1#Site Name, PMI#1#MRN, PMI#2#Site Name, PMI#2#MRN, Created By#Email Address, External IDs#1#Name, External IDs#1#Value, External IDs#2#Name, External IDs#2#Value, Specimen Additional Fields#Media Volume, Specimen Additional Fields#Cell Viability (%)]\n",
      "Index: []\n",
      "\n",
      "[0 rows x 66 columns]\n"
     ]
    }
   ],
   "source": [
    "df = csv_bulk.get_template(schemaname = 'masterSpecimen')\n",
    "print(df[0])\n",
    "df=df[0]"
   ]
  },
  {
   "cell_type": "code",
   "execution_count": 11,
   "metadata": {},
   "outputs": [],
   "source": [
    "#write Participant+Specimen dict\n",
    "pict ={}\n",
    "pict['CP Short Title'] = 'Demo CP'\n",
    "pict['PPID'] = 'Demo 001'\n",
    "pict['Registration Date'] = '03-03-2021'\n",
    "pict['Date Of Birth'] = '01-01-1901'\n",
    "pict['Event Label'] = 'Demo Event'\n",
    "pict['Visit Date'] = '03-03-2021'\n",
    "pict['Collection Site'] = 'Demo Site'\n",
    "pict['Visit Status'] = 'Complete'\n",
    "pict['Clinical Diagnosis#1'] = 'Not Specified'\n",
    "pict['Clinical Status'] = 'Not Specified'\n",
    "pict['Specimen Label'] = 'Demo001.WB'\n",
    "pict['Class'] = 'Fluid'\n",
    "pict['Type'] = 'Whole Blood'\n",
    "pict['Lineage'] = 'New'\n",
    "pict['Anatomic Site'] = 'Blood'\n",
    "pict['Laterality'] = 'Not Specified'\n",
    "pict['Pathological Status'] = 'Malignant'\n",
    "pict['Quantity'] = 5\n",
    "pict['Created On'] = '03-03-2021'\n",
    "pict['Collection Date'] = '03-03-2021'\n",
    "pict['Collector'] = 'admin@localhost'\n",
    "pict['Received Date'] = '03-03-2021'\n",
    "pict['Received Quality'] = 'Acceptable'\n",
    "pict['Receiver'] ='admin@localhost'\n",
    "pict['PMI#1#Site Name'] = 'Demo Site'\n",
    "pict['PMI#1#MRN'] = '1111'"
   ]
  },
  {
   "cell_type": "code",
   "execution_count": 12,
   "metadata": {},
   "outputs": [],
   "source": [
    "#write derivative dict\n",
    "derict = {}\n",
    "derict['CP Short Title'] = 'Demo CP'\n",
    "derict['Specimen Label'] = 'Demo001.Pl'\n",
    "derict['Class'] = 'Fluid'\n",
    "derict['Type'] = 'Plasma'\n",
    "derict['Lineage'] = 'Derived'\n",
    "derict['Quantity'] = 5\n",
    "derict['Parent Specimen Label'] = 'Demo001.WB'\n",
    "derict['Created On'] = '03-03-2021'\n",
    "#write aliquot\n",
    "spict=[{},{},{},{}]\n",
    "j=1\n",
    "for spi in spict:\n",
    "    spi['CP Short Title'] = 'Demo CP'\n",
    "    #spi['Specimen Label'] = 'Demo001.Pl'+ str(j)\n",
    "    spi['Class'] = 'Fluid'\n",
    "    spi['Type'] = 'Plasma'\n",
    "    spi['Quantity'] = 1\n",
    "    spi['Lineage'] = 'Aliquot'\n",
    "    spi['Parent Specimen Label'] = 'Demo001.Pl'\n",
    "    spi['Created On'] = '03-03-2021'"
   ]
  },
  {
   "cell_type": "code",
   "execution_count": 13,
   "metadata": {},
   "outputs": [
    {
     "name": "stdout",
     "output_type": "stream",
     "text": [
      "  CP Short Title      PPID Registration Date Registration Site  \\\n",
      "0        Demo CP  Demo 001        03-03-2021                 0   \n",
      "1        Demo CP         0                 0                 0   \n",
      "2        Demo CP         0                 0                 0   \n",
      "3        Demo CP         0                 0                 0   \n",
      "4        Demo CP         0                 0                 0   \n",
      "5        Demo CP         0                 0                 0   \n",
      "\n",
      "  External Subject ID First Name Last Name Middle Name Date Of Birth  \\\n",
      "0                   0          0         0           0    01-01-1901   \n",
      "1                   0          0         0           0             0   \n",
      "2                   0          0         0           0             0   \n",
      "3                   0          0         0           0             0   \n",
      "4                   0          0         0           0             0   \n",
      "5                   0          0         0           0             0   \n",
      "\n",
      "  Death Date  ... PMI#2#MRN Created By#Email Address External IDs#1#Name  \\\n",
      "0          0  ...         0                        0                   0   \n",
      "1          0  ...         0                        0                   0   \n",
      "2          0  ...         0                        0                   0   \n",
      "3          0  ...         0                        0                   0   \n",
      "4          0  ...         0                        0                   0   \n",
      "5          0  ...         0                        0                   0   \n",
      "\n",
      "  External IDs#1#Value External IDs#2#Name External IDs#2#Value  \\\n",
      "0                    0                   0                    0   \n",
      "1                    0                   0                    0   \n",
      "2                    0                   0                    0   \n",
      "3                    0                   0                    0   \n",
      "4                    0                   0                    0   \n",
      "5                    0                   0                    0   \n",
      "\n",
      "  Specimen Additional Fields#Media Volume  \\\n",
      "0                                       0   \n",
      "1                                       0   \n",
      "2                                       0   \n",
      "3                                       0   \n",
      "4                                       0   \n",
      "5                                       0   \n",
      "\n",
      "  Specimen Additional Fields#Cell Viability (%) OS_IMPORT_STATUS  \\\n",
      "0                                             0          SUCCESS   \n",
      "1                                             0          SUCCESS   \n",
      "2                                             0          SUCCESS   \n",
      "3                                             0          SUCCESS   \n",
      "4                                             0          SUCCESS   \n",
      "5                                             0          SUCCESS   \n",
      "\n",
      "  OS_ERROR_MESSAGE  \n",
      "0                0  \n",
      "1                0  \n",
      "2                0  \n",
      "3                0  \n",
      "4                0  \n",
      "5                0  \n",
      "\n",
      "[6 rows x 68 columns]\n"
     ]
    }
   ],
   "source": [
    "df = df.append(pict, ignore_index = True)\n",
    "df = df.append(derict, ignore_index = True)\n",
    "df = df.append(spict, ignore_index = True)\n",
    "df.to_csv('upload.csv', index = False)\n",
    "file_ = open('upload.csv', 'r')\n",
    "response = bulk_operations.bulk_import(file = file_, filename = 'upload.csv',schemaname ='masterSpecimen')\n",
    "print(response)\n",
    "print('Press enter to continue.')\n",
    "input()"
   ]
  },
  {
   "cell_type": "code",
   "execution_count": 14,
   "metadata": {},
   "outputs": [],
   "source": [
    "# Get all specimens which were imported before\n",
    "response = specimen_util.search_specimens(label = 'Demo001')\n",
    "specid = []\n",
    "for resp in response:\n",
    "    specid.append(resp['id'])\n",
    "response = cpr_util.get_registrations(ppid = 'Demo 001')\n",
    "ID['cpr'] = response[0]['cprId']"
   ]
  },
  {
   "cell_type": "code",
   "execution_count": 15,
   "metadata": {},
   "outputs": [
    {
     "name": "stdout",
     "output_type": "stream",
     "text": [
      "{'opComments': None, 'id': 7, 'cpId': 2, 'cprId': 2, 'ppid': 'Demo 001', 'eventId': None, 'eventCode': None, 'eventLabel': None, 'visitId': 2, 'visitName': 'Demo 001_Demo Event_2', 'visitStatus': 'Complete', 'sprNo': None, 'visitDate': 1614729600000, 'cpShortTitle': 'Demo CP', 'reqId': None, 'sortOrder': None, 'label': 'Demo001.WB', 'barcode': None, 'type': 'Bile', 'specimenClass': 'Fluid', 'lineage': 'New', 'anatomicSite': 'Blood', 'laterality': 'Not Specified', 'status': 'Collected', 'reqLabel': None, 'pathology': 'Malignant', 'initialQty': 5, 'availableQty': 1, 'concentration': None, 'parentId': None, 'parentLabel': None, 'storageLocation': {'id': -1, 'name': None, 'mode': None, 'positionX': None, 'positionY': None, 'position': None, 'reservationId': None}, 'storageType': None, 'collectionContainer': 'Not Specified', 'collectionDate': 1614729600000, 'storageSite': None, 'activityStatus': 'Active', 'createdOn': 1614729600000, 'createdBy': None, 'code': None, 'distributionStatus': None, 'freezeThawCycles': None, 'imageId': None, 'externalIds': [], 'collectionEvent': {'id': 4, 'time': 1614729600000, 'user': {'id': 2, 'type': 'SUPER', 'firstName': 'System', 'lastName': 'Administrator', 'loginName': 'admin', 'domain': 'openspecimen', 'emailAddress': 'admin@localhost', 'instituteName': 'Biobank Institute', 'primarySite': None, 'admin': True, 'instituteAdmin': False, 'manageForms': False, 'cpCount': 0, 'creationDate': None, 'activityStatus': 'Active'}, 'comments': None, 'specimenLabel': None, 'specimenId': None, 'procedure': 'Not Specified', 'container': 'Not Specified'}, 'receivedEvent': {'id': 5, 'time': 1614729600000, 'user': {'id': 2, 'type': 'SUPER', 'firstName': 'System', 'lastName': 'Administrator', 'loginName': 'admin', 'domain': 'openspecimen', 'emailAddress': 'admin@localhost', 'instituteName': 'Biobank Institute', 'primarySite': None, 'admin': True, 'instituteAdmin': False, 'manageForms': False, 'cpCount': 0, 'creationDate': None, 'activityStatus': 'Active'}, 'comments': None, 'specimenLabel': None, 'specimenId': None, 'receivedQuality': 'Acceptable'}, 'labelFmt': None, 'labelAutoPrintMode': None, 'biohazards': [], 'comments': None, 'children': [{'opComments': None, 'id': 8, 'cpId': 2, 'cprId': 2, 'ppid': 'Demo 001', 'eventId': None, 'eventCode': None, 'eventLabel': None, 'visitId': 2, 'visitName': 'Demo 001_Demo Event_2', 'visitStatus': 'Complete', 'sprNo': None, 'visitDate': 1614729600000, 'cpShortTitle': 'Demo CP', 'reqId': None, 'sortOrder': None, 'label': 'Demo001.Pl', 'barcode': None, 'type': 'Plasma', 'specimenClass': 'Fluid', 'lineage': 'Derived', 'anatomicSite': 'Blood', 'laterality': 'Not Specified', 'status': 'Collected', 'reqLabel': None, 'pathology': 'Malignant', 'initialQty': 5.0, 'availableQty': 1.0, 'concentration': None, 'parentId': 7, 'parentLabel': 'Demo001.WB', 'storageLocation': {'id': -1, 'name': None, 'mode': None, 'positionX': None, 'positionY': None, 'position': None, 'reservationId': None}, 'storageType': None, 'collectionContainer': 'Not Specified', 'collectionDate': 1614729600000, 'storageSite': None, 'activityStatus': 'Active', 'createdOn': 1614729600000, 'createdBy': {'id': 2, 'type': 'SUPER', 'firstName': 'System', 'lastName': 'Administrator', 'loginName': 'admin', 'domain': 'openspecimen', 'emailAddress': 'admin@localhost', 'instituteName': 'Biobank Institute', 'primarySite': None, 'admin': True, 'instituteAdmin': False, 'manageForms': False, 'cpCount': 0, 'creationDate': None, 'activityStatus': 'Active'}, 'code': None, 'distributionStatus': None, 'freezeThawCycles': None, 'imageId': None, 'externalIds': [], 'collectionEvent': {'id': None, 'time': 1614729600000, 'user': {'id': 2, 'type': 'SUPER', 'firstName': 'System', 'lastName': 'Administrator', 'loginName': 'admin', 'domain': 'openspecimen', 'emailAddress': 'admin@localhost', 'instituteName': 'Biobank Institute', 'primarySite': None, 'admin': True, 'instituteAdmin': False, 'manageForms': False, 'cpCount': 0, 'creationDate': None, 'activityStatus': 'Active'}, 'comments': None, 'specimenLabel': None, 'specimenId': None, 'procedure': 'Not Specified', 'container': 'Not Specified'}, 'receivedEvent': {'id': None, 'time': 1614729600000, 'user': {'id': 2, 'type': 'SUPER', 'firstName': 'System', 'lastName': 'Administrator', 'loginName': 'admin', 'domain': 'openspecimen', 'emailAddress': 'admin@localhost', 'instituteName': 'Biobank Institute', 'primarySite': None, 'admin': True, 'instituteAdmin': False, 'manageForms': False, 'cpCount': 0, 'creationDate': None, 'activityStatus': 'Active'}, 'comments': None, 'specimenLabel': None, 'specimenId': None, 'receivedQuality': 'Acceptable'}, 'labelFmt': None, 'labelAutoPrintMode': None, 'biohazards': [], 'comments': None, 'children': [{'opComments': None, 'id': 9, 'cpId': 2, 'cprId': 2, 'ppid': 'Demo 001', 'eventId': None, 'eventCode': None, 'eventLabel': None, 'visitId': 2, 'visitName': 'Demo 001_Demo Event_2', 'visitStatus': 'Complete', 'sprNo': None, 'visitDate': 1614729600000, 'cpShortTitle': 'Demo CP', 'reqId': None, 'sortOrder': None, 'label': 'Demo001.Pl_1', 'barcode': None, 'type': 'Plasma', 'specimenClass': 'Fluid', 'lineage': 'Aliquot', 'anatomicSite': 'Blood', 'laterality': 'Not Specified', 'status': 'Collected', 'reqLabel': None, 'pathology': 'Malignant', 'initialQty': 1.0, 'availableQty': 1.0, 'concentration': None, 'parentId': 8, 'parentLabel': 'Demo001.Pl', 'storageLocation': {'id': -1, 'name': None, 'mode': None, 'positionX': None, 'positionY': None, 'position': None, 'reservationId': None}, 'storageType': None, 'collectionContainer': 'Not Specified', 'collectionDate': 1614729600000, 'storageSite': None, 'activityStatus': 'Active', 'createdOn': 1614729600000, 'createdBy': {'id': 2, 'type': 'SUPER', 'firstName': 'System', 'lastName': 'Administrator', 'loginName': 'admin', 'domain': 'openspecimen', 'emailAddress': 'admin@localhost', 'instituteName': 'Biobank Institute', 'primarySite': None, 'admin': True, 'instituteAdmin': False, 'manageForms': False, 'cpCount': 0, 'creationDate': None, 'activityStatus': 'Active'}, 'code': None, 'distributionStatus': None, 'freezeThawCycles': None, 'imageId': None, 'externalIds': [], 'collectionEvent': {'id': None, 'time': 1614729600000, 'user': {'id': 2, 'type': 'SUPER', 'firstName': 'System', 'lastName': 'Administrator', 'loginName': 'admin', 'domain': 'openspecimen', 'emailAddress': 'admin@localhost', 'instituteName': 'Biobank Institute', 'primarySite': None, 'admin': True, 'instituteAdmin': False, 'manageForms': False, 'cpCount': 0, 'creationDate': None, 'activityStatus': 'Active'}, 'comments': None, 'specimenLabel': None, 'specimenId': None, 'procedure': 'Not Specified', 'container': 'Not Specified'}, 'receivedEvent': {'id': None, 'time': 1614729600000, 'user': {'id': 2, 'type': 'SUPER', 'firstName': 'System', 'lastName': 'Administrator', 'loginName': 'admin', 'domain': 'openspecimen', 'emailAddress': 'admin@localhost', 'instituteName': 'Biobank Institute', 'primarySite': None, 'admin': True, 'instituteAdmin': False, 'manageForms': False, 'cpCount': 0, 'creationDate': None, 'activityStatus': 'Active'}, 'comments': None, 'specimenLabel': None, 'specimenId': None, 'receivedQuality': 'Acceptable'}, 'labelFmt': '%PSPEC_LABEL%_%PSPEC_UID%', 'labelAutoPrintMode': None, 'biohazards': [], 'comments': None, 'children': [], 'pooledSpecimenId': None, 'pooledSpecimenLabel': None, 'specimensPool': None, 'poolSpecimen': None, 'reqCode': None, 'extensionDetail': None, 'reserved': False, 'uid': None, 'parentUid': None, 'dpId': None}, {'opComments': None, 'id': 10, 'cpId': 2, 'cprId': 2, 'ppid': 'Demo 001', 'eventId': None, 'eventCode': None, 'eventLabel': None, 'visitId': 2, 'visitName': 'Demo 001_Demo Event_2', 'visitStatus': 'Complete', 'sprNo': None, 'visitDate': 1614729600000, 'cpShortTitle': 'Demo CP', 'reqId': None, 'sortOrder': None, 'label': 'Demo001.Pl_2', 'barcode': None, 'type': 'Plasma', 'specimenClass': 'Fluid', 'lineage': 'Aliquot', 'anatomicSite': 'Blood', 'laterality': 'Not Specified', 'status': 'Collected', 'reqLabel': None, 'pathology': 'Malignant', 'initialQty': 1.0, 'availableQty': 1.0, 'concentration': None, 'parentId': 8, 'parentLabel': 'Demo001.Pl', 'storageLocation': {'id': -1, 'name': None, 'mode': None, 'positionX': None, 'positionY': None, 'position': None, 'reservationId': None}, 'storageType': None, 'collectionContainer': 'Not Specified', 'collectionDate': 1614729600000, 'storageSite': None, 'activityStatus': 'Active', 'createdOn': 1614729600000, 'createdBy': {'id': 2, 'type': 'SUPER', 'firstName': 'System', 'lastName': 'Administrator', 'loginName': 'admin', 'domain': 'openspecimen', 'emailAddress': 'admin@localhost', 'instituteName': 'Biobank Institute', 'primarySite': None, 'admin': True, 'instituteAdmin': False, 'manageForms': False, 'cpCount': 0, 'creationDate': None, 'activityStatus': 'Active'}, 'code': None, 'distributionStatus': None, 'freezeThawCycles': None, 'imageId': None, 'externalIds': [], 'collectionEvent': {'id': None, 'time': 1614729600000, 'user': {'id': 2, 'type': 'SUPER', 'firstName': 'System', 'lastName': 'Administrator', 'loginName': 'admin', 'domain': 'openspecimen', 'emailAddress': 'admin@localhost', 'instituteName': 'Biobank Institute', 'primarySite': None, 'admin': True, 'instituteAdmin': False, 'manageForms': False, 'cpCount': 0, 'creationDate': None, 'activityStatus': 'Active'}, 'comments': None, 'specimenLabel': None, 'specimenId': None, 'procedure': 'Not Specified', 'container': 'Not Specified'}, 'receivedEvent': {'id': None, 'time': 1614729600000, 'user': {'id': 2, 'type': 'SUPER', 'firstName': 'System', 'lastName': 'Administrator', 'loginName': 'admin', 'domain': 'openspecimen', 'emailAddress': 'admin@localhost', 'instituteName': 'Biobank Institute', 'primarySite': None, 'admin': True, 'instituteAdmin': False, 'manageForms': False, 'cpCount': 0, 'creationDate': None, 'activityStatus': 'Active'}, 'comments': None, 'specimenLabel': None, 'specimenId': None, 'receivedQuality': 'Acceptable'}, 'labelFmt': '%PSPEC_LABEL%_%PSPEC_UID%', 'labelAutoPrintMode': None, 'biohazards': [], 'comments': None, 'children': [], 'pooledSpecimenId': None, 'pooledSpecimenLabel': None, 'specimensPool': None, 'poolSpecimen': None, 'reqCode': None, 'extensionDetail': None, 'reserved': False, 'uid': None, 'parentUid': None, 'dpId': None}, {'opComments': None, 'id': 11, 'cpId': 2, 'cprId': 2, 'ppid': 'Demo 001', 'eventId': None, 'eventCode': None, 'eventLabel': None, 'visitId': 2, 'visitName': 'Demo 001_Demo Event_2', 'visitStatus': 'Complete', 'sprNo': None, 'visitDate': 1614729600000, 'cpShortTitle': 'Demo CP', 'reqId': None, 'sortOrder': None, 'label': 'Demo001.Pl_3', 'barcode': None, 'type': 'Plasma', 'specimenClass': 'Fluid', 'lineage': 'Aliquot', 'anatomicSite': 'Blood', 'laterality': 'Not Specified', 'status': 'Collected', 'reqLabel': None, 'pathology': 'Malignant', 'initialQty': 1.0, 'availableQty': 1.0, 'concentration': None, 'parentId': 8, 'parentLabel': 'Demo001.Pl', 'storageLocation': {'id': -1, 'name': None, 'mode': None, 'positionX': None, 'positionY': None, 'position': None, 'reservationId': None}, 'storageType': None, 'collectionContainer': 'Not Specified', 'collectionDate': 1614729600000, 'storageSite': None, 'activityStatus': 'Active', 'createdOn': 1614729600000, 'createdBy': {'id': 2, 'type': 'SUPER', 'firstName': 'System', 'lastName': 'Administrator', 'loginName': 'admin', 'domain': 'openspecimen', 'emailAddress': 'admin@localhost', 'instituteName': 'Biobank Institute', 'primarySite': None, 'admin': True, 'instituteAdmin': False, 'manageForms': False, 'cpCount': 0, 'creationDate': None, 'activityStatus': 'Active'}, 'code': None, 'distributionStatus': None, 'freezeThawCycles': None, 'imageId': None, 'externalIds': [], 'collectionEvent': {'id': None, 'time': 1614729600000, 'user': {'id': 2, 'type': 'SUPER', 'firstName': 'System', 'lastName': 'Administrator', 'loginName': 'admin', 'domain': 'openspecimen', 'emailAddress': 'admin@localhost', 'instituteName': 'Biobank Institute', 'primarySite': None, 'admin': True, 'instituteAdmin': False, 'manageForms': False, 'cpCount': 0, 'creationDate': None, 'activityStatus': 'Active'}, 'comments': None, 'specimenLabel': None, 'specimenId': None, 'procedure': 'Not Specified', 'container': 'Not Specified'}, 'receivedEvent': {'id': None, 'time': 1614729600000, 'user': {'id': 2, 'type': 'SUPER', 'firstName': 'System', 'lastName': 'Administrator', 'loginName': 'admin', 'domain': 'openspecimen', 'emailAddress': 'admin@localhost', 'instituteName': 'Biobank Institute', 'primarySite': None, 'admin': True, 'instituteAdmin': False, 'manageForms': False, 'cpCount': 0, 'creationDate': None, 'activityStatus': 'Active'}, 'comments': None, 'specimenLabel': None, 'specimenId': None, 'receivedQuality': 'Acceptable'}, 'labelFmt': '%PSPEC_LABEL%_%PSPEC_UID%', 'labelAutoPrintMode': None, 'biohazards': [], 'comments': None, 'children': [], 'pooledSpecimenId': None, 'pooledSpecimenLabel': None, 'specimensPool': None, 'poolSpecimen': None, 'reqCode': None, 'extensionDetail': None, 'reserved': False, 'uid': None, 'parentUid': None, 'dpId': None}, {'opComments': None, 'id': 12, 'cpId': 2, 'cprId': 2, 'ppid': 'Demo 001', 'eventId': None, 'eventCode': None, 'eventLabel': None, 'visitId': 2, 'visitName': 'Demo 001_Demo Event_2', 'visitStatus': 'Complete', 'sprNo': None, 'visitDate': 1614729600000, 'cpShortTitle': 'Demo CP', 'reqId': None, 'sortOrder': None, 'label': 'Demo001.Pl_4', 'barcode': None, 'type': 'Plasma', 'specimenClass': 'Fluid', 'lineage': 'Aliquot', 'anatomicSite': 'Blood', 'laterality': 'Not Specified', 'status': 'Collected', 'reqLabel': None, 'pathology': 'Malignant', 'initialQty': 1.0, 'availableQty': 1.0, 'concentration': None, 'parentId': 8, 'parentLabel': 'Demo001.Pl', 'storageLocation': {'id': -1, 'name': None, 'mode': None, 'positionX': None, 'positionY': None, 'position': None, 'reservationId': None}, 'storageType': None, 'collectionContainer': 'Not Specified', 'collectionDate': 1614729600000, 'storageSite': None, 'activityStatus': 'Active', 'createdOn': 1614729600000, 'createdBy': {'id': 2, 'type': 'SUPER', 'firstName': 'System', 'lastName': 'Administrator', 'loginName': 'admin', 'domain': 'openspecimen', 'emailAddress': 'admin@localhost', 'instituteName': 'Biobank Institute', 'primarySite': None, 'admin': True, 'instituteAdmin': False, 'manageForms': False, 'cpCount': 0, 'creationDate': None, 'activityStatus': 'Active'}, 'code': None, 'distributionStatus': None, 'freezeThawCycles': None, 'imageId': None, 'externalIds': [], 'collectionEvent': {'id': None, 'time': 1614729600000, 'user': {'id': 2, 'type': 'SUPER', 'firstName': 'System', 'lastName': 'Administrator', 'loginName': 'admin', 'domain': 'openspecimen', 'emailAddress': 'admin@localhost', 'instituteName': 'Biobank Institute', 'primarySite': None, 'admin': True, 'instituteAdmin': False, 'manageForms': False, 'cpCount': 0, 'creationDate': None, 'activityStatus': 'Active'}, 'comments': None, 'specimenLabel': None, 'specimenId': None, 'procedure': 'Not Specified', 'container': 'Not Specified'}, 'receivedEvent': {'id': None, 'time': 1614729600000, 'user': {'id': 2, 'type': 'SUPER', 'firstName': 'System', 'lastName': 'Administrator', 'loginName': 'admin', 'domain': 'openspecimen', 'emailAddress': 'admin@localhost', 'instituteName': 'Biobank Institute', 'primarySite': None, 'admin': True, 'instituteAdmin': False, 'manageForms': False, 'cpCount': 0, 'creationDate': None, 'activityStatus': 'Active'}, 'comments': None, 'specimenLabel': None, 'specimenId': None, 'receivedQuality': 'Acceptable'}, 'labelFmt': '%PSPEC_LABEL%_%PSPEC_UID%', 'labelAutoPrintMode': None, 'biohazards': [], 'comments': None, 'children': [], 'pooledSpecimenId': None, 'pooledSpecimenLabel': None, 'specimensPool': None, 'poolSpecimen': None, 'reqCode': None, 'extensionDetail': None, 'reserved': False, 'uid': None, 'parentUid': None, 'dpId': None}], 'pooledSpecimenId': None, 'pooledSpecimenLabel': None, 'specimensPool': None, 'poolSpecimen': None, 'reqCode': None, 'extensionDetail': None, 'reserved': False, 'uid': None, 'parentUid': None, 'dpId': None}], 'pooledSpecimenId': None, 'pooledSpecimenLabel': None, 'specimensPool': None, 'poolSpecimen': None, 'reqCode': None, 'extensionDetail': None, 'reserved': False, 'uid': None, 'parentUid': None, 'dpId': None}\n"
     ]
    }
   ],
   "source": [
    "#Update a Specimen-label\n",
    "response = specimen_util.search_specimens(label = 'Demo001.WB')\n",
    "id_ = response[0]['id']\n",
    "derict['Type'] = 'Bile' \n",
    "response = specimen_util.update_specimen(specimenid=id_, specimentype = derict['Type'], initqty = 5, avaqty = 1,\n",
    "                                         userid = 2)\n",
    "print(response)\n",
    "print('Press enter to continue.')"
   ]
  },
  {
   "cell_type": "markdown",
   "metadata": {},
   "source": [
    " ## Removing the Tutorial Data"
   ]
  },
  {
   "cell_type": "code",
   "execution_count": 17,
   "metadata": {},
   "outputs": [
    {
     "name": "stdout",
     "output_type": "stream",
     "text": [
      "Press enter to remove the Tutorial Data. If you like to keep it and delete it manually write anything.\n",
      "\n"
     ]
    }
   ],
   "source": [
    "#Ask if the user wants to remove the data\n",
    "print('Press enter to remove the Tutorial Data. If you like to keep it and delete it manually write anything.')\n",
    "input_ = input()\n",
    "if input_ == '':\n",
    "    specimen_util.delete_specimens(specid)\n",
    "    visit.delete_visit(ID['event'])\n",
    "    cpevent.delete_event(ID['event'])\n",
    "    cpr.delete_participant(ID['cpr'])\n",
    "    cp.delete_collection_protocol(ID['cp'])   \n",
    "    site.delete_sites(ID['site'])\n",
    "    institutes.delete_institute(ID['institute'])\n",
    "    os.remove('upload.csv')\n",
    "    \n",
    "    "
   ]
  },
  {
   "cell_type": "code",
   "execution_count": null,
   "metadata": {},
   "outputs": [],
   "source": []
  }
 ],
 "metadata": {
  "kernelspec": {
   "display_name": "Python 3",
   "language": "python",
   "name": "python3"
  },
  "language_info": {
   "codemirror_mode": {
    "name": "ipython",
    "version": 3
   },
   "file_extension": ".py",
   "mimetype": "text/x-python",
   "name": "python",
   "nbconvert_exporter": "python",
   "pygments_lexer": "ipython3",
   "version": "3.7.4"
  }
 },
 "nbformat": 4,
 "nbformat_minor": 4
}
