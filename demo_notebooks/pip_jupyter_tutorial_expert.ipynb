{
 "cells": [
  {
   "cell_type": "markdown",
   "metadata": {},
   "source": [
    "# Expert Tutorial"
   ]
  },
  {
   "cell_type": "markdown",
   "metadata": {},
   "source": [
    "ToDo: \n",
    "* Create Institute, Site, Collection Protocol,\n",
    "* create Specimen and dependencies with MasterTemplate,\n",
    "* update some Data\n",
    "* delete the Data\n"
   ]
  },
  {
   "cell_type": "code",
   "execution_count": 1,
   "metadata": {},
   "outputs": [],
   "source": [
    "%%capture\n",
    "# Install a pip package in the current Jupyter kernel\n",
    "\n",
    "import sys\n",
    "!{sys.executable} -m pip install OpenSpecimenAPIconnector\n",
    "!{sys.executable} -m pip install faker\n",
    "!{sys.executable} -m pip install names"
   ]
  },
  {
   "cell_type": "code",
   "execution_count": 2,
   "metadata": {},
   "outputs": [],
   "source": [
    "%%capture\n",
    "#Creating ID-dict for deleting the Tutorial Data\n",
    "ID = {}"
   ]
  },
  {
   "cell_type": "code",
   "execution_count": 3,
   "metadata": {},
   "outputs": [],
   "source": [
    "%%capture\n",
    "#import the packages which are needed\n",
    "import json\n",
    "import pandas as pd\n",
    "import ipywidgets as widgets\n",
    "import faker\n",
    "import os\n",
    "from IPython.display import display"
   ]
  },
  {
   "cell_type": "markdown",
   "metadata": {},
   "source": [
    "### Importing the PIP-package as:"
   ]
  },
  {
   "cell_type": "code",
   "execution_count": 4,
   "metadata": {},
   "outputs": [],
   "source": [
    "import OpenSpecimenAPIconnector as OSconn\n",
    "import OpenSpecimenAPIconnector.os_core as os_core\n",
    "import OpenSpecimenAPIconnector.os_util as os_util"
   ]
  },
  {
   "cell_type": "code",
   "execution_count": 5,
   "metadata": {},
   "outputs": [
    {
     "name": "stdout",
     "output_type": "stream",
     "text": [
      "Fill in Openspecimen url (http(s)://<IP-Adress>:<port>) and press enter\n",
      "\n",
      "The whole URL for API Calls is: http://localhost:9000/openspecimen/rest/ng\n"
     ]
    }
   ],
   "source": [
    "# Setting the URL of the OpenSpecimen distribution\n",
    "# The URL of the Openspecimen\n",
    "print('Fill in Openspecimen url (http(s)://<IP-Adress>:<port>) and press enter')\n",
    "input_=input()\n",
    "if input_ == '':\n",
    "    base_url = 'http://localhost:9000'\n",
    "else:\n",
    "    base_url = input_\n",
    "base_url +='/openspecimen/rest/ng'\n",
    "print('The whole URL for API Calls is: ' + base_url)"
   ]
  },
  {
   "cell_type": "code",
   "execution_count": 6,
   "metadata": {},
   "outputs": [
    {
     "name": "stdout",
     "output_type": "stream",
     "text": [
      "Loginname(admin):\n",
      "\n",
      "Password(Login@123):\n",
      "\n",
      "Your (loginname,password) is (admin,Login@123)\n"
     ]
    }
   ],
   "source": [
    "#Setting the login data, in particular (loginname, passwort)\n",
    "loginname='admin';\n",
    "password='Login@123'\n",
    "print('Loginname(admin):')\n",
    "input_=input()\n",
    "if input_ != '':\n",
    "    loginname=input_\n",
    "print('Password(Login@123):')\n",
    "input_=input()\n",
    "if input_ != '':\n",
    "    password=input_\n",
    "auth = (loginname, password)\n",
    "print('Your (loginname,password) is (' + str(loginname) + ',' +str(password) + ')')"
   ]
  },
  {
   "cell_type": "markdown",
   "metadata": {},
   "source": [
    "### Configuring the package with the Logindata\n",
    "If the logindata is wrong the next cell will throw an error, else everything is fine."
   ]
  },
  {
   "cell_type": "code",
   "execution_count": 7,
   "metadata": {},
   "outputs": [],
   "source": [
    "OSconn.config_manager.set_login(url = base_url, auth = auth)"
   ]
  },
  {
   "cell_type": "markdown",
   "metadata": {},
   "source": [
    "## Creating Institute, Site and Collection Protocol\n",
    "With those, the Master-Template can be used for creating Participants, Visits, and Specimens. This will be done with the CSV Export using OpenSpecimen REST API. "
   ]
  },
  {
   "cell_type": "code",
   "execution_count": 28,
   "metadata": {},
   "outputs": [],
   "source": [
    "# initialize the classes which will be used\n",
    "institutes_util = os_util.institutes_util()\n",
    "site_util = os_util.site_util()\n",
    "collection_protocol_util = os_util.collection_protocol_util()\n",
    "bulk_operations = os_util.bulk_operations()\n",
    "csv_bulk = os_core.csv_bulk()\n",
    "cp = os_core.collection_protocol()\n",
    "site = os_core.sites()\n",
    "institutes = os_core.institutes()\n",
    "cpevent_util = os_util.cpevent_util()\n",
    "cpevent = os_core.collection_protocol_event()\n",
    "specimen_util = os_util.specimen_util()\n",
    "cpr_util = os_util.cpr_util()\n",
    "cpr = os_core.collection_protocol_registration()\n",
    "visit =os_core.visit()"
   ]
  },
  {
   "cell_type": "code",
   "execution_count": 9,
   "metadata": {},
   "outputs": [],
   "source": [
    "# Generate the Institute, Site and Collection Protocol\n",
    "response = institutes_util.create_institute(institutename = 'Demo Institute')\n",
    "ID['institute'] = response['id']\n",
    "response = site_util.create_sites(name = 'Demo Site', institutename = ' Demo Institute', type_ = 'not specified')\n",
    "ID['site']=response['id']\n",
    "response = collection_protocol_util.create_cp(short_title = 'Demo CP', title = 'Demo Collection Protocol',\n",
    "                                              pi_mail = 'admin', sites = ['Demo Site'])\n",
    "ID['cp'] = response['id']\n",
    "response = cpevent_util.create_event(label = 'Demo Event', point = 0, cp = 'Demo Collection Protocol', \n",
    "                                     site = 'Demo Site', diagnosis = 'Not Specified', status = 'Not Specified',\n",
    "                                     activity = 'Active', unit = 'DAYS', code ='DemoEventCode')\n",
    "ID['event'] = response['id']"
   ]
  },
  {
   "cell_type": "code",
   "execution_count": 10,
   "metadata": {},
   "outputs": [
    {
     "name": "stdout",
     "output_type": "stream",
     "text": [
      "Empty DataFrame\n",
      "Columns: [CP Short Title, PPID, Registration Date, Registration Site, External Subject ID, First Name, Last Name, Middle Name, Date Of Birth, Death Date, Gender, Race#1, Race#2, Vital Status, Ethnicity#1, Ethnicity#2, SSN, eMPI, Event Label, Visit Name, Visit Date, Collection Site, Visit Status, Clinical Diagnosis#1, Clinical Diagnosis#2, Clinical Status, Path. Number, Visit Comments, Specimen Requirement Code, Specimen Label, Barcode, Class, Type, Lineage, Parent Specimen Label, Anatomic Site, Laterality, Pathological Status, Quantity, Concentration, Freeze/Thaw Cycles, Created On, Comments, Collection Status, Container, Row, Column, Position, Collection Date, Collection Procedure, Collection Container, Collector, Received Date, Received Quality, Receiver, PMI#1#Site Name, PMI#1#MRN, PMI#2#Site Name, PMI#2#MRN, Created By#Email Address, External IDs#1#Name, External IDs#1#Value, External IDs#2#Name, External IDs#2#Value, Specimen Additional Fields#Media Volume, Specimen Additional Fields#Cell Viability (%)]\n",
      "Index: []\n",
      "\n",
      "[0 rows x 66 columns]\n"
     ]
    }
   ],
   "source": [
    "df = csv_bulk.get_template(schemaname = 'masterSpecimen')\n",
    "print(df[0])\n",
    "df=df[0]"
   ]
  },
  {
   "cell_type": "code",
   "execution_count": 11,
   "metadata": {},
   "outputs": [
    {
     "name": "stdout",
     "output_type": "stream",
     "text": [
      "{'CP Short Title': 'Demo CP', 'PPID': 'Demo 001', 'Registration Date': '03-03-2021', 'Date Of Birth': '01-01-1901', 'Event Label': 'Demo Event', 'Visit Date': '03-03-2021', 'Collection Site': 'Demo Site', 'Visit Status': 'Complete', 'Clinical Diagnosis#1': 'Not Specified', 'Clinical Status': 'Not Specified', 'Specimen Label': 'Demo001.WB', 'Class': 'Fluid', 'Type': 'Whole Blood', 'Lineage': 'New', 'Anatomic Site': 'Blood', 'Laterality': 'Not Specified', 'Pathological Status': 'Malignant', 'Quantity': 5, 'Created On': '03-03-2021', 'Collection Date': '03-03-2021', 'Collector': 'admin@localhost', 'Received Date': '03-03-2021', 'Received Quality': 'Acceptable', 'Receiver': 'admin@localhost', 'PMI#1#Site Name': 'Demo Site', 'PMI#1#MRN': '1111'}\n"
     ]
    }
   ],
   "source": [
    "#write Participant+Specimen dict\n",
    "pict ={}\n",
    "pict['CP Short Title'] = 'Demo CP'\n",
    "pict['PPID'] = 'Demo 001'\n",
    "pict['Registration Date'] = '03-03-2021'\n",
    "pict['Date Of Birth'] = '01-01-1901'\n",
    "pict['Event Label'] = 'Demo Event'\n",
    "pict['Visit Date'] = '03-03-2021'\n",
    "pict['Collection Site'] = 'Demo Site'\n",
    "pict['Visit Status'] = 'Complete'\n",
    "pict['Clinical Diagnosis#1'] = 'Not Specified'\n",
    "pict['Clinical Status'] = 'Not Specified'\n",
    "pict['Specimen Label'] = 'Demo001.WB'\n",
    "pict['Class'] = 'Fluid'\n",
    "pict['Type'] = 'Whole Blood'\n",
    "pict['Lineage'] = 'New'\n",
    "pict['Anatomic Site'] = 'Blood'\n",
    "pict['Laterality'] = 'Not Specified'\n",
    "pict['Pathological Status'] = 'Malignant'\n",
    "pict['Quantity'] = 5\n",
    "pict['Created On'] = '03-03-2021'\n",
    "pict['Collection Date'] = '03-03-2021'\n",
    "pict['Collector'] = 'admin@localhost'\n",
    "pict['Received Date'] = '03-03-2021'\n",
    "pict['Received Quality'] = 'Acceptable'\n",
    "pict['Receiver'] ='admin@localhost'\n",
    "pict['PMI#1#Site Name'] = 'Demo Site'\n",
    "pict['PMI#1#MRN'] = '1111'\n",
    "print(pict)"
   ]
  },
  {
   "cell_type": "code",
   "execution_count": 12,
   "metadata": {},
   "outputs": [
    {
     "name": "stdout",
     "output_type": "stream",
     "text": [
      "{'CP Short Title': 'Demo CP', 'Specimen Label': 'Demo001.Pl', 'Class': 'Fluid', 'Type': 'Plasma', 'Lineage': 'Derived', 'Quantity': 5, 'Parent Specimen Label': 'Demo001.WB', 'Created On': '03-03-2021'}\n",
      "[{}, {}, {}, {}]\n",
      "[{'CP Short Title': 'Demo CP', 'Class': 'Fluid', 'Type': 'Plasma', 'Quantity': 1, 'Lineage': 'Aliquot', 'Parent Specimen Label': 'Demo001.Pl', 'Created On': '03-03-2021'}, {'CP Short Title': 'Demo CP', 'Class': 'Fluid', 'Type': 'Plasma', 'Quantity': 1, 'Lineage': 'Aliquot', 'Parent Specimen Label': 'Demo001.Pl', 'Created On': '03-03-2021'}, {'CP Short Title': 'Demo CP', 'Class': 'Fluid', 'Type': 'Plasma', 'Quantity': 1, 'Lineage': 'Aliquot', 'Parent Specimen Label': 'Demo001.Pl', 'Created On': '03-03-2021'}, {'CP Short Title': 'Demo CP', 'Class': 'Fluid', 'Type': 'Plasma', 'Quantity': 1, 'Lineage': 'Aliquot', 'Parent Specimen Label': 'Demo001.Pl', 'Created On': '03-03-2021'}]\n"
     ]
    }
   ],
   "source": [
    "#write derivative dict\n",
    "derict = {}\n",
    "derict['CP Short Title'] = 'Demo CP'\n",
    "derict['Specimen Label'] = 'Demo001.Pl'\n",
    "derict['Class'] = 'Fluid'\n",
    "derict['Type'] = 'Plasma'\n",
    "derict['Lineage'] = 'Derived'\n",
    "derict['Quantity'] = 5\n",
    "derict['Parent Specimen Label'] = 'Demo001.WB'\n",
    "derict['Created On'] = '03-03-2021'\n",
    "print(derict)\n",
    "#write aliquot\n",
    "spict=[{},{},{},{}]\n",
    "print(spict)\n",
    "j=1\n",
    "for spi in spict:\n",
    "    spi['CP Short Title'] = 'Demo CP'\n",
    "    #spi['Specimen Label'] = 'Demo001.Pl'+ str(j)\n",
    "    spi['Class'] = 'Fluid'\n",
    "    spi['Type'] = 'Plasma'\n",
    "    spi['Quantity'] = 1\n",
    "    spi['Lineage'] = 'Aliquot'\n",
    "    spi['Parent Specimen Label'] = 'Demo001.Pl'\n",
    "    spi['Created On'] = '03-03-2021'\n",
    "print(spict)"
   ]
  },
  {
   "cell_type": "code",
   "execution_count": 13,
   "metadata": {},
   "outputs": [
    {
     "name": "stdout",
     "output_type": "stream",
     "text": [
      "  CP Short Title      PPID Registration Date Registration Site  \\\n",
      "0        Demo CP  Demo 001        03-03-2021                 0   \n",
      "1        Demo CP         0                 0                 0   \n",
      "2        Demo CP         0                 0                 0   \n",
      "3        Demo CP         0                 0                 0   \n",
      "4        Demo CP         0                 0                 0   \n",
      "5        Demo CP         0                 0                 0   \n",
      "\n",
      "  External Subject ID First Name Last Name Middle Name Date Of Birth  \\\n",
      "0                   0          0         0           0    01-01-1901   \n",
      "1                   0          0         0           0             0   \n",
      "2                   0          0         0           0             0   \n",
      "3                   0          0         0           0             0   \n",
      "4                   0          0         0           0             0   \n",
      "5                   0          0         0           0             0   \n",
      "\n",
      "  Death Date  ... PMI#2#MRN Created By#Email Address External IDs#1#Name  \\\n",
      "0          0  ...         0                        0                   0   \n",
      "1          0  ...         0                        0                   0   \n",
      "2          0  ...         0                        0                   0   \n",
      "3          0  ...         0                        0                   0   \n",
      "4          0  ...         0                        0                   0   \n",
      "5          0  ...         0                        0                   0   \n",
      "\n",
      "  External IDs#1#Value External IDs#2#Name External IDs#2#Value  \\\n",
      "0                    0                   0                    0   \n",
      "1                    0                   0                    0   \n",
      "2                    0                   0                    0   \n",
      "3                    0                   0                    0   \n",
      "4                    0                   0                    0   \n",
      "5                    0                   0                    0   \n",
      "\n",
      "  Specimen Additional Fields#Media Volume  \\\n",
      "0                                       0   \n",
      "1                                       0   \n",
      "2                                       0   \n",
      "3                                       0   \n",
      "4                                       0   \n",
      "5                                       0   \n",
      "\n",
      "  Specimen Additional Fields#Cell Viability (%) OS_IMPORT_STATUS  \\\n",
      "0                                             0          SUCCESS   \n",
      "1                                             0          SUCCESS   \n",
      "2                                             0          SUCCESS   \n",
      "3                                             0          SUCCESS   \n",
      "4                                             0          SUCCESS   \n",
      "5                                             0          SUCCESS   \n",
      "\n",
      "  OS_ERROR_MESSAGE  \n",
      "0                0  \n",
      "1                0  \n",
      "2                0  \n",
      "3                0  \n",
      "4                0  \n",
      "5                0  \n",
      "\n",
      "[6 rows x 68 columns]\n"
     ]
    }
   ],
   "source": [
    "df = df.append(pict, ignore_index = True)\n",
    "df = df.append(derict, ignore_index = True)\n",
    "df = df.append(spict, ignore_index = True)\n",
    "df.to_csv('upload.csv', index = False)\n",
    "file_ = open('upload.csv', 'r')\n",
    "response = bulk_operations.bulk_import(file = file_, filename = 'upload.csv',schemaname ='masterSpecimen')\n",
    "print(response)"
   ]
  },
  {
   "cell_type": "code",
   "execution_count": 25,
   "metadata": {},
   "outputs": [
    {
     "name": "stdout",
     "output_type": "stream",
     "text": [
      "[]\n",
      "####################\n",
      "[{'participant': {'id': 1, 'source': 'OpenSpecimen', 'firstName': None, 'lastName': None, 'empi': None, 'uid': None}, 'cprId': 1, 'registrationDate': 1614729600000, 'ppid': 'Demo 001', 'cpId': 1, 'cpShortTitle': 'Demo CP', 'scgCount': None, 'specimenCount': None}]\n",
      "1\n"
     ]
    }
   ],
   "source": [
    "response = specimen_util.search_specimens(label = 'Demo001')\n",
    "specid = []\n",
    "for resp in response:\n",
    "    specid.append(resp['id'])\n",
    "response = cpr_util.get_registrations(ppid = 'Demo 001')\n",
    "ID['cpr'] = response[0]['cprId']"
   ]
  },
  {
   "cell_type": "code",
   "execution_count": null,
   "metadata": {},
   "outputs": [],
   "source": [
    " ## Removing the Tutorial Data"
   ]
  },
  {
   "cell_type": "code",
   "execution_count": 29,
   "metadata": {},
   "outputs": [
    {
     "name": "stdout",
     "output_type": "stream",
     "text": [
      "Press enter to remove the Tutorial Data. If you like to keep it and delete it manually write anything.\n",
      "\n"
     ]
    },
    {
     "ename": "FileNotFoundError",
     "evalue": "[Errno 2] No such file or directory: 'upload.csv'",
     "output_type": "error",
     "traceback": [
      "\u001b[0;31m---------------------------------------------------------------------------\u001b[0m",
      "\u001b[0;31mFileNotFoundError\u001b[0m                         Traceback (most recent call last)",
      "\u001b[0;32m<ipython-input-29-757b5264721f>\u001b[0m in \u001b[0;36m<module>\u001b[0;34m\u001b[0m\n\u001b[1;32m     10\u001b[0m     \u001b[0msite\u001b[0m\u001b[0;34m.\u001b[0m\u001b[0mdelete_sites\u001b[0m\u001b[0;34m(\u001b[0m\u001b[0mID\u001b[0m\u001b[0;34m[\u001b[0m\u001b[0;34m'site'\u001b[0m\u001b[0;34m]\u001b[0m\u001b[0;34m)\u001b[0m\u001b[0;34m\u001b[0m\u001b[0;34m\u001b[0m\u001b[0m\n\u001b[1;32m     11\u001b[0m     \u001b[0minstitutes\u001b[0m\u001b[0;34m.\u001b[0m\u001b[0mdelete_institute\u001b[0m\u001b[0;34m(\u001b[0m\u001b[0mID\u001b[0m\u001b[0;34m[\u001b[0m\u001b[0;34m'institute'\u001b[0m\u001b[0;34m]\u001b[0m\u001b[0;34m)\u001b[0m\u001b[0;34m\u001b[0m\u001b[0;34m\u001b[0m\u001b[0m\n\u001b[0;32m---> 12\u001b[0;31m     \u001b[0mos\u001b[0m\u001b[0;34m.\u001b[0m\u001b[0mremove\u001b[0m\u001b[0;34m(\u001b[0m\u001b[0;34m'upload.csv'\u001b[0m\u001b[0;34m)\u001b[0m\u001b[0;34m\u001b[0m\u001b[0;34m\u001b[0m\u001b[0m\n\u001b[0m\u001b[1;32m     13\u001b[0m \u001b[0;34m\u001b[0m\u001b[0m\n\u001b[1;32m     14\u001b[0m \u001b[0;34m\u001b[0m\u001b[0m\n",
      "\u001b[0;31mFileNotFoundError\u001b[0m: [Errno 2] No such file or directory: 'upload.csv'"
     ]
    }
   ],
   "source": [
    "#Ask if the user wants to remove the data\n",
    "print('Press enter to remove the Tutorial Data. If you like to keep it and delete it manually write anything.')\n",
    "input_ = input()\n",
    "if input_ == '':\n",
    "    specimen_util.delete_specimens(specid)\n",
    "    visit.delete_visit(ID['event'])\n",
    "    cpevent.delete_event(ID['event'])\n",
    "    cpr.delete_participant(ID['cpr'])\n",
    "    cp.delete_collection_protocol(ID['cp'])   \n",
    "    site.delete_sites(ID['site'])\n",
    "    institutes.delete_institute(ID['institute'])\n",
    "    os.remove('upload.csv')\n",
    "    \n",
    "    "
   ]
  },
  {
   "cell_type": "code",
   "execution_count": null,
   "metadata": {},
   "outputs": [],
   "source": []
  }
 ],
 "metadata": {
  "kernelspec": {
   "display_name": "Python 3",
   "language": "python",
   "name": "python3"
  },
  "language_info": {
   "codemirror_mode": {
    "name": "ipython",
    "version": 3
   },
   "file_extension": ".py",
   "mimetype": "text/x-python",
   "name": "python",
   "nbconvert_exporter": "python",
   "pygments_lexer": "ipython3",
   "version": "3.8.5"
  }
 },
 "nbformat": 4,
 "nbformat_minor": 4
}
