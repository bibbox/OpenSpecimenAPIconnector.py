{
 "nbformat": 4,
 "nbformat_minor": 2,
 "metadata": {
  "language_info": {
   "name": "python",
   "codemirror_mode": {
    "name": "ipython",
    "version": 3
   },
   "version": "3.7.5-final"
  },
  "orig_nbformat": 2,
  "file_extension": ".py",
  "mimetype": "text/x-python",
  "name": "python",
  "npconvert_exporter": "python",
  "pygments_lexer": "ipython3",
  "version": 3,
  "kernelspec": {
   "name": "python3",
   "display_name": "Python 3"
  }
 },
 "cells": [
  {
   "cell_type": "code",
   "execution_count": 2,
   "metadata": {},
   "outputs": [],
   "source": [
    "# import packages\n",
    "!pip install faker\n",
    "!pip install names\n",
    "!pip install dist/OpenSpecimenAPIconnector-0.9.1-py3-none-any.whl\n",
    "import json\n",
    "import pandas\n",
    "import ipywidgets as widgets\n",
    "import faker\n",
    "from IPython.display import display"
   ]
  },
  {
   "cell_type": "code",
   "execution_count": null,
   "metadata": {},
   "outputs": [],
   "source": [
    "import OpenSpecimenAPIconnector.core as os_core\n",
    "import OpenSpecimenAPIconnector.util as os_util"
   ]
  },
  {
   "cell_type": "code",
   "execution_count": null,
   "metadata": {},
   "outputs": [],
   "source": [
    "    \"\"\"Display a download link to load a data frame as csv from within a Jupyter notebook\"\"\"\n",
    "    import os\n",
    "    from IPython.core.display import display, HTML\n",
    "    link = \"http://localhost:8888/edit/work/\" + csv_file_name\n",
    "    df.to_csv(csv_file_name, index=False)\n",
    "    display(HTML(\"<a href={} target=_blank>Download/Edit</a>\".format(link)))\n",
    "   \n",
    "    if delete_prompt:\n",
    "        a = input('Press enter to delete the file after you have downloaded it.')\n",
    "        import os\n",
    "        os.remove(csv_file_name)"
   ]
  },
  {
   "cell_type": "code",
   "execution_count": null,
   "metadata": {},
   "outputs": [],
   "source": [
    "# The URL of the Openspecimen\n",
    "print('Fill in Openspecimen url (http(s)://<IP-Adress>:<port>) and press enter')\n",
    "#base_url='http://localhost:9000' # input() set to hardcoded at the moment just change below or add urls for more instances\n",
    "base_url='http://biobank.silicolab.bibbox.org'\n",
    "base_url2= 'http://biobank-7-2.silicolab.bibbox.org' \n",
    "base_url+='/openspecimen/rest/ng'\n",
    "base_url2+='/openspecimen/rest/ng'\n",
    "print('The whole URL for API Calls is: ' + base_url)"
   ]
  },
  {
   "cell_type": "code",
   "execution_count": null,
   "metadata": {},
   "outputs": [],
   "source": [
    "# Loginname and Pasword of the API-User, recommended is an extra API User\n",
    "print('Loginname of the user:')\n",
    "loginname='admin'#input() \n",
    "print('Password of the user:')\n",
    "password='Login@123'#input()"
   ]
  },
  {
   "cell_type": "markdown",
   "metadata": {},
   "source": [
    "The next step is to choose the entity which will be created or updated. The following schemas are in Openspecimen available: (Name, openspecimen entity). One have to write the openspecimen entity. ('Collection Protocol', 'cp') ('Collection Protocol Registration', 'cpr') ('User', 'user') ('User Roles', 'userRoles') ('Site', 'site') ('Shipments', 'shipment') ('Institute', 'institute') ('Distribution Protocol Requirement', 'dpRequirement') ('Distribution Protocol', 'distributionProtocol') ('Distribution Order', 'distributionOrder') ('Containers', 'storageContainer') ('Container Type', 'storagecontainerType') ('Container Shipment', 'containerShipment') ('Collection Protocol Event', 'cpe') ('Master Specimen', 'masterSpecimen') ('Participant', 'participant') ('Specimen Requirement', 'sr') ('Visit', 'visit') ('Specimen Aliquot', 'specimenAliquot') ('Specimen Derivate', 'specimenDerivative') ('Specimen Disposal', 'specimenDisposal') ('Consent', 'consent')"
   ]
  },
  {
   "cell_type": "code",
   "execution_count": 4,
   "metadata": {},
   "outputs": [
    {
     "name": "stdout",
     "output_type": "stream",
     "text": "Choose your Entity:\n"
    },
    {
     "data": {
      "application/vnd.jupyter.widget-view+json": {
       "model_id": "ed5fd0acbb8c430d905e3af80ae121b7",
       "version_major": 2,
       "version_minor": 0
      },
      "text/plain": "Dropdown(description='Entity:', index=2, options=((), ('Collection Protocol', 'cp'), ('Specimen', 'specimen'),…"
     },
     "metadata": {},
     "output_type": "display_data"
    },
    {
     "name": "stdout",
     "output_type": "stream",
     "text": "Choose Operation:\n"
    },
    {
     "data": {
      "application/vnd.jupyter.widget-view+json": {
       "model_id": "79e367ac4db1409bace04fd8de2522d4",
       "version_major": 2,
       "version_minor": 0
      },
      "text/plain": "Dropdown(description='Operation:', options=('CREATE', 'UPDATE'), value='CREATE')"
     },
     "metadata": {},
     "output_type": "display_data"
    }
   ],
   "source": [
    "schema=widgets.Dropdown(\n",
    "    options= [(), ('Collection Protocol', 'cp'), ('Specimen', 'specimen'), ('Collection Protocol Registration', 'cpr'),\n",
    "              ('User', 'user'), ('User Roles', 'userRoles'), ('Site', 'site'), ('Shipments', 'shipment'), \n",
    "              ('Institute', 'institute'), ('Distribution Protocol Requirement', 'dpRequirement'), \n",
    "              ('Distribution Protocol', 'distributionProtocol'), ('Distribution Order', 'distributionOrder'), \n",
    "              ('Containers', 'storageContainer'), ('Container Type', 'storagecontainerType'),\n",
    "              ('Container Shipment', 'containerShipment'), ('Collection Protocol Event', 'cpe'),\n",
    "              ('Master Specimen', 'masterSpecimen'), ('Participant', 'participant'), ('Specimen Requirement', 'sr'),\n",
    "              ('Visit', 'visit'), ('Specimen Aliquot', 'specimenAliquot'), \n",
    "              ('Specimen Derivate', 'specimenDerivative'),('Specimen Disposal', 'specimenDisposal'),\n",
    "              ('Consent', 'consent')],\n",
    "    value=('Specimen', 'specimen'),\n",
    "    description='Entity:')\n",
    "\n",
    "operation = widgets.Dropdown(\n",
    "    options = [\"CREATE\",  'UPDATE'],\n",
    "              value=\"CREATE\",\n",
    "              description='Operation:')\n",
    "\n",
    "print('Choose your Entity:')\n",
    "display(schema)\n",
    "print('Choose Operation:')\n",
    "display(operation)"
   ]
  },
  {
   "cell_type": "code",
   "execution_count": null,
   "metadata": {},
   "outputs": [],
   "source": []
  }
 ]
}